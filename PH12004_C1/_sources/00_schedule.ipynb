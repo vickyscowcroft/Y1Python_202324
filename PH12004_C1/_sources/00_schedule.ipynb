{
 "cells": [
  {
   "cell_type": "markdown",
   "metadata": {
    "slideshow": {
     "slide_type": "slide"
    }
   },
   "source": [
    "# C1 Introduction to Programming and Python\n",
    "\n"
   ]
  },
  {
   "cell_type": "markdown",
   "metadata": {
    "slideshow": {
     "slide_type": "slide"
    }
   },
   "source": [
    "## Overview\n",
    "\n",
    "In this section of the course will introduce you to scientific computing with **Python**. We will start with an introduction to programming and the Python language.\n",
    "\n",
    "We will be using **Jupyter Notebooks** throughout semester 1. Jupyter notebooks are a way of running Python code (and other languages). Notebooks enable you to keep notes, images, equations etc. together with your code. We'll look at Jupyter Notebooks in more detail later in this session. The notes for this part of the course have all been written in Notebooks. \n",
    "\n",
    "The theme for this semester's scientific computing sessions is **Data Analysis**. The techniques you learn in these sessions will be directly applicable to the analysis you'll be doing in the experimental lab sessions and in your lab reports.\n"
   ]
  },
  {
   "cell_type": "markdown",
   "metadata": {},
   "source": [
    "\n",
    "```{image} images/dont_panic.jpeg\n",
    ":alt: don't panic\n",
    ":width: 500px\n",
    ":align: center\n",
    "```"
   ]
  },
  {
   "cell_type": "markdown",
   "metadata": {},
   "source": [
    "\n",
    "This is an **introduction** to scientific computing. It assumes no prior programming experience. If you've done some coding before, that's great! But don't worry if you haven't - all you need to be able to do at this point is open a web browser. \n",
    "\n",
    "During this unit you will make mistakes. You will get frustrated. You will spend far too long looking for a typo that someone else spots as soon as they look at your screen. But you will also learn how to fix your mistakes and how to find answers to tricky problems. Don't feel like you need to work on these worksheets by yourself. Please talk to your coursemates and help eachother. One of the most effective ways to learn something is to explain it to someone else!"
   ]
  },
  {
   "cell_type": "markdown",
   "metadata": {
    "slideshow": {
     "slide_type": "slide"
    }
   },
   "source": [
    "```{admonition} Setup\n",
    ":class: setup\n",
    "\n",
    "\n",
    "The first thing you need to do is create a folder inside your One Drive folder called `Scientific_Computing_S1`. Don't put any spaces in the folder name (this will make your life much easier later on). You should save all your work and any data files you need for the computing sessions in this folder.\n",
    "\n",
    "Once you've done this, press the 'Introduction to Notebooks' link on the left to get started.\n",
    "```"
   ]
  }
 ],
 "metadata": {
  "celltoolbar": "Slideshow",
  "kernelspec": {
   "display_name": "Python 3 (ipykernel)",
   "language": "python",
   "name": "python3"
  },
  "language_info": {
   "codemirror_mode": {
    "name": "ipython",
    "version": 3
   },
   "file_extension": ".py",
   "mimetype": "text/x-python",
   "name": "python",
   "nbconvert_exporter": "python",
   "pygments_lexer": "ipython3",
   "version": "3.8.13"
  }
 },
 "nbformat": 4,
 "nbformat_minor": 2
}
