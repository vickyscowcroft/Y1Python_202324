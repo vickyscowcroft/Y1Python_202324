{
 "cells": [
  {
   "cell_type": "markdown",
   "metadata": {
    "slideshow": {
     "slide_type": "slide"
    }
   },
   "source": [
    "# Introduction to Jupyter notebooks"
   ]
  },
  {
   "cell_type": "markdown",
   "metadata": {
    "slideshow": {
     "slide_type": "subslide"
    }
   },
   "source": [
    "## Overview\n",
    "\n",
    "```{admonition} Questions\n",
    ":class: questions\n",
    "- What are Jupyter Notebooks?\n",
    "- Why are they useful?\n",
    "```\n",
    "\n",
    "```{admonition} Objectives\n",
    ":class: objectives\n",
    "- Start a new notebook\n",
    "- Add some markdown to your notebook\n",
    "```"
   ]
  },
  {
   "cell_type": "markdown",
   "metadata": {
    "slideshow": {
     "slide_type": "slide"
    }
   },
   "source": [
    "## What are Jupyter Notebooks?\n",
    "\n",
    "Jupyter notebooks are a way of running Python code (and other languages). Notebooks enable you to keep notes, images, equations etc. together with your code. They do this by using different types of 'cells'. The main types of cells are code cells and markdown cells. We'll cover these in more detail as we get to them.\n",
    "\n",
    "Because you can keep notes etc. alongside your code, you can use Jupyter notebooks like a lab book. Just like when you're in the lab, it's important to write down what you're doing in your code and analysis; when you come back to a notebook at a later date with no recollection of what you did before, you'll thank your past self for making such clear notes.\n"
   ]
  },
  {
   "cell_type": "markdown",
   "metadata": {},
   "source": [
    "## Your First Notebook \n",
    "\n",
    "Now we're going to get started with your first notebook.\n"
   ]
  },
  {
   "cell_type": "markdown",
   "metadata": {},
   "source": [
    "## Starting a new notebook\n",
    "\n",
    "The first thing is to start a new notebook. \n",
    "\n",
    "1.  Open **Anaconda Prompt** from the **Anaconda3 (64 bit)** folder in the Start Menu.\n",
    "\n",
    "```{image} images/start_an_prompt.jpg\n",
    ":alt: Location of Anaconda Prompt in the start menu\n",
    ":height: 300px\n",
    ":align: center\n",
    "```\n",
    "\n",
    "Select **Anaconda Prompt** from the start menu.\n",
    "\n",
    "2.  This will open a terminal window. You should see a black window that says:\n",
    "    \n",
    "```\n",
    "loading please wait..\n",
    "ready.\n",
    "\n",
    "(base) H:\\>\n",
    "```\n",
    "\n",
    "3. We now need to change directory to the `Scientific_Computing_S1` directory that you set up before. **Replacing abc123 with your University username**, in the terminal window enter:\n",
    "\n",
    "```\n",
    "cd /d \"C:\\Users\\abc123\\OneDrive - University of Bath\\Scientific_Computing_S1\"\n",
    "```\n",
    "and press return.\n",
    "\n",
    "```{admonition} Hint\n",
    ":class: tip\n",
    "Pressing `tab` will autocomplete words in the terminal. Try typing `\"C:\\Users\\abc123\\OneD` then press `tab` to see it in action.\n",
    "```\n",
    "\n",
    "```{admonition} Another hint\n",
    ":class: tip\n",
    "Open the file explorer and click on OneDrive. Click and drag OneDrive from the address bar to the terminal window and it will automatically paste the whole path for you. Do this after you've typed `cd /d ` (making sure you've got a space after the `/d`).\n",
    "```\n",
    "\n",
    "4. The terminal window should now show\n",
    "```\n",
    "(base) C:\\Users\\abc123\\OneDrive - University of Bath\\Scientific_Computing_S1>\n",
    "```\n",
    "\n",
    "which means you're in the right place. \n",
    "\n",
    "5. Enter \n",
    "```\n",
    "jupyter notebook\n",
    "```\n",
    "in the terminal and press enter. \n",
    "\n",
    "This should open a browser window and you should see something like this:\n",
    "\n",
    "```{image} images/empty_nb_folder.jpg\n",
    ":alt: Jupyter notebook start page\n",
    ":width: 1000px\n",
    ":align: center\n",
    "```\n",
    "\n",
    "6. Start a new notebook by pressing 'New' then selecting 'Python 3' from the menu:\n",
    "\n",
    "```{image} images/start-new-notebook.jpg\n",
    ":alt: Start a new notebook\n",
    ":width: 500px\n",
    ":align: center\n",
    "```\n",
    "\n",
    "Congratulations! You have your first Jupyter notebook!\n",
    "\n",
    "The first thing we want to do is give the notebook a sensible file name. Click the filename 'Untitled' (just to the left of 'Last Checkpoint') and give your notebook a name.\n",
    "\n"
   ]
  },
  {
   "cell_type": "markdown",
   "metadata": {},
   "source": [
    "```{admonition} Start a new notebook\n",
    ":class: practice\n",
    "\n",
    "If you haven't already, follow the instructions above to start a new notebook and rename it. Make sure that you're working in the `Scientific_Computing_S1` folder you set up at the start.\n",
    "```"
   ]
  },
  {
   "cell_type": "markdown",
   "metadata": {
    "slideshow": {
     "slide_type": "slide"
    }
   },
   "source": [
    "## What next?\n",
    "\n",
    "If you've got a new notebook started and set up a folder to keep all your work in, press 'Next' to move on to the next section. If you're having trouble getting notebooks started ask the person sitting next to you or of the demonstrators for help. "
   ]
  }
 ],
 "metadata": {
  "celltoolbar": "Slideshow",
  "kernelspec": {
   "display_name": "Python 3 (ipykernel)",
   "language": "python",
   "name": "python3"
  },
  "language_info": {
   "codemirror_mode": {
    "name": "ipython",
    "version": 3
   },
   "file_extension": ".py",
   "mimetype": "text/x-python",
   "name": "python",
   "nbconvert_exporter": "python",
   "pygments_lexer": "ipython3",
   "version": "3.8.15"
  }
 },
 "nbformat": 4,
 "nbformat_minor": 2
}
