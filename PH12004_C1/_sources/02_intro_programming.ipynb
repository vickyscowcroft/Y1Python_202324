{
 "cells": [
  {
   "cell_type": "markdown",
   "metadata": {
    "slideshow": {
     "slide_type": "slide"
    }
   },
   "source": [
    "# Introduction to Programming"
   ]
  },
  {
   "cell_type": "markdown",
   "metadata": {},
   "source": [
    "## Why learn programming? \n",
    "\n",
    "You may be asking yourself 'Why do I need to learn programming? I'm studying Physics!'. The typical image that comes to mind when people think of Physics experiments is people in a lab with weird looking machines."
   ]
  },
  {
   "cell_type": "markdown",
   "metadata": {},
   "source": [
    "\n",
    "```{figure} images/Ghostbusters-Lab-MIT_0.jpeg\n",
    "---\n",
    "alt: Two of the Ghostbusters in the lab sitting next to a complicated machine\n",
    "width: 500px\n",
    "align: center\n",
    "---\n",
    "An example of a weird looking machine that I'm not allowed to play with. \n",
    "```\n"
   ]
  },
  {
   "cell_type": "markdown",
   "metadata": {},
   "source": [
    "\n",
    "In practice, a huge amount of Physics (or any other science) is done using computers. Examples are things like\n",
    "* **controlling experimental equipment**, such as telescopes, particle accelerators, or laser systems;\n",
    "* **collecting data** to ensure measurements are done consistently and accurately;\n",
    "* **analysing and visualising data**, for example plotting graphs and fitting analytical expressions;\n",
    "* **solving mathematical problems**, especially ones that don't analytical solutions;\n",
    "* **modelling systems** whose microscopic behaviour is governed by simple rules but whose macroscopic behaviour is complex - things like electron motion in solids, biological systems or stellar orbits. \n",
    "\n",
    "This semester we'll be focussing on **data analysis and visualisation**. You'll develop the skills you need to analyse and visualise the data you collect in the experimental labs. At the end of the semester you will analyse some real astrophysics research data for your coursework. \n",
    "\n",
    "In semester 2 you'll move onto solving more complex mathematical problems and modelling with Dr Davies. "
   ]
  },
  {
   "cell_type": "markdown",
   "metadata": {
    "slideshow": {
     "slide_type": "slide"
    }
   },
   "source": [
    "## What is Python?\n",
    "\n",
    "Python is a **high-level programming language**. This means that the code is written in (mostly) natural language, so you can tell what the program is doing by reading the code. This makes it easy to get started with.\n",
    "\n",
    "For example:\n",
    "\n",
    "```python\n",
    "if x < 3:\n",
    "    print(\"x is less than 3\")\n",
    "else:\n",
    "    print(\"x is at least 3\")\n",
    "```\n",
    "\n",
    "Here we're checking whether the value of some variable `x` is less than 3. If it is, the code will print out `x is less than 3`. If it's not, it will print `x is at least 3`. We can see below what happens when we set `x = 1` and `x = 4`"
   ]
  },
  {
   "cell_type": "code",
   "execution_count": 1,
   "metadata": {
    "execution": {
     "iopub.execute_input": "2021-10-18T16:01:13.082597Z",
     "iopub.status.busy": "2021-10-18T16:01:13.082003Z",
     "iopub.status.idle": "2021-10-18T16:01:13.085291Z",
     "shell.execute_reply": "2021-10-18T16:01:13.085703Z"
    }
   },
   "outputs": [
    {
     "name": "stdout",
     "output_type": "stream",
     "text": [
      "x is less than 3\n"
     ]
    }
   ],
   "source": [
    "x = 1\n",
    "if x < 3:\n",
    "    print(\"x is less than 3\")\n",
    "else:\n",
    "    print(\"x is at least 3\")"
   ]
  },
  {
   "cell_type": "code",
   "execution_count": 2,
   "metadata": {
    "execution": {
     "iopub.execute_input": "2021-10-18T16:01:13.089010Z",
     "iopub.status.busy": "2021-10-18T16:01:13.088387Z",
     "iopub.status.idle": "2021-10-18T16:01:13.090410Z",
     "shell.execute_reply": "2021-10-18T16:01:13.090819Z"
    }
   },
   "outputs": [
    {
     "name": "stdout",
     "output_type": "stream",
     "text": [
      "x is at least 3\n"
     ]
    }
   ],
   "source": [
    "x = 4\n",
    "if x < 3:\n",
    "    print(\"x is less than 3\")\n",
    "else:\n",
    "    print(\"x is at least 3\")"
   ]
  },
  {
   "cell_type": "markdown",
   "metadata": {
    "slideshow": {
     "slide_type": "slide"
    }
   },
   "source": [
    "Python is also an **interpreted language**. The Python interpreter installed on your computer takes the individual commands (such as the `print()` instructions in the example above) and translates them into a language your computer understands. \n",
    "\n",
    "The other type of programming language you will come across is **compiled** rather than interpreted. The C programming language (that you'll learn in year 2) is a compiled language. For compiled languages, your complete program is run through a compiler that translates the whole thing into your computer's language and spits out an executable file. "
   ]
  },
  {
   "cell_type": "markdown",
   "metadata": {},
   "source": [
    "```{admonition} Terminology\n",
    ":class: myinfo\n",
    "\n",
    "* **Program**: a sequence of intstructions for the computer to follow\n",
    "* **Function**: a mini-program inside a program. Some functions are built-in to Python, others you define yourself. We use functions so we don't have to keep rewriting the same bit of code. \n",
    "* **Syntax**: The grammatical rules of programming. \n",
    "```"
   ]
  },
  {
   "cell_type": "markdown",
   "metadata": {},
   "source": [
    "## What is a program?\n",
    "\n",
    "A program is basically just a list of instructions for the computer to follow. Programs can be as simple as one line of code:\n",
    "\n",
    "```python\n",
    "print(\"Hello, world\")\n",
    "```\n",
    "\n",
    "Or they can be as complicated as the code that runs a nuclear reactor, and everything in between. \n",
    "\n",
    "The most important thing to remember about programming is that **the computer will do exactly what you tell it to do**. This is often not the same as what you *think* you've told it to do. Attention to detail is key."
   ]
  },
  {
   "cell_type": "markdown",
   "metadata": {},
   "source": [
    "## How do you write a program?\n",
    "\n",
    "While you may not have done much (if any) coding before, you've almost certainly worked with **algorithms**. \n",
    "\n",
    "An algorithm is \"an unambiguous method of solving a specific problem.\".\n",
    "\n",
    "```{figure} images/sponge_recipe.jpg\n",
    "---\n",
    "width: 500px\n",
    "align: center\n",
    "---\n",
    "An example of an algorithm in every day life: [Mary Berry's easy Victoria sandwich recipe](https://www.bbc.co.uk/food/recipes/mary_berrys_perfect_34317)\n",
    "```\n",
    "\n",
    "Recipes are a good example of algorithms; the best ones are unambiguous and you end up with a nice cake at the end. However, if the recipe is vague or doesn't include all the steps you end up with an inedible mess. No one likes an ambiguous recipe (except perhaps Paul Hollywood when he's writing the recipes for the technical challenge on Bake Off...). The same principle applies to programming. We want clear, unambiguos instructions for the computer to follow. "
   ]
  },
  {
   "cell_type": "markdown",
   "metadata": {},
   "source": [
    "```{admonition} History of algorithms\n",
    ":class: myinfo\n",
    "\n",
    "Algorithms have been around for a very long time. The name comes from the 9th Century Persian mathematician [al-Khwarizmi](https://en.wikipedia.org/wiki/Muhammad_ibn_Musa_al-Khwarizmi) who did some awesome stuff with algebra. \n",
    "\n",
    "Algorithms were used long before even al-Khwarizmi's time. Ancient Babylonian mathematicians were using algorithms to do arithmetic around 2500 B.C. Algorithms were part of our everyday lives for millenia before computers were invented! \n",
    "```"
   ]
  },
  {
   "cell_type": "markdown",
   "metadata": {},
   "source": [
    "```{admonition} Exercise: Writing an algorithm\n",
    ":class: practice\n",
    "\n",
    "Work with one of the people sitting next to you for this exercise.\n",
    "\n",
    "In your log book, write down an algorithm for making a cup of tea. In a few minutes we'll come back together as a group to see how successful our algorithms would be. \n",
    "```"
   ]
  },
  {
   "cell_type": "markdown",
   "metadata": {
    "slideshow": {
     "slide_type": "slide"
    }
   },
   "source": [
    "## Key Points\n",
    "- Programming is a key skill for any scientist!\n",
    "- Computer programs are **algorithms** that your computer can interpret.\n",
    "- The best algorithms and programs are clear and unambiguous. Your computer will do exactly what you tell it to do!\n"
   ]
  },
  {
   "cell_type": "markdown",
   "metadata": {},
   "source": []
  }
 ],
 "metadata": {
  "celltoolbar": "Slideshow",
  "kernelspec": {
   "display_name": "Python 3 (ipykernel)",
   "language": "python",
   "name": "python3"
  },
  "language_info": {
   "codemirror_mode": {
    "name": "ipython",
    "version": 3
   },
   "file_extension": ".py",
   "mimetype": "text/x-python",
   "name": "python",
   "nbconvert_exporter": "python",
   "pygments_lexer": "ipython3",
   "version": "3.8.15"
  }
 },
 "nbformat": 4,
 "nbformat_minor": 2
}
