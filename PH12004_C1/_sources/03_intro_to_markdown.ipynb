{
 "cells": [
  {
   "cell_type": "markdown",
   "metadata": {
    "slideshow": {
     "slide_type": "slide"
    }
   },
   "source": [
    "# Markdown and Notebooks as Electronic Lab Books"
   ]
  },
  {
   "cell_type": "markdown",
   "metadata": {
    "slideshow": {
     "slide_type": "slide"
    }
   },
   "source": [
    "```{admonition} Questions\n",
    ":class: questions\n",
    "- What is markdown?\n",
    "- Why would you need a lab book for code?\n",
    "```\n",
    "```{admonition} Objectives\n",
    ":class: objectives\n",
    "- Get started with markdown basics\n",
    "```\n"
   ]
  },
  {
   "cell_type": "markdown",
   "metadata": {},
   "source": [
    "\n",
    "You can think of your notebook as an electronic lab book. Just as when you're doing hands-on experiments in the lab, it's important to keep a record of what you're doing when you're working with code. With notebooks you can keep your notes alongside the code.\n",
    "\n",
    "Notebooks have different types of cells, the main ones being **markdown** and **code**. You can write comments in your code cells using `#` at the start of a line, but it's not ideal for when you need any more detail than `# set this to 7` (or, as most of my code comments say: `# don't know why this isn't working....'`). Markdown cells let you include text, images, equations etc so you have a proper record of **what your code is doing and why**.\n",
    "\n",
    "To change a cell to a markdown cell, click on the arrow next to 'Code' at the top of the notebook and select 'Markdown'\n"
   ]
  },
  {
   "cell_type": "markdown",
   "metadata": {},
   "source": [
    "\n",
    "```{image} images/markdown-cell.jpg\n",
    ":alt: Location of Anaconda Prompt in the start menu\n",
    ":align: center\n",
    "```\n",
    "\n"
   ]
  },
  {
   "cell_type": "markdown",
   "metadata": {},
   "source": [
    "### What is markdown? \n",
    "If you've ever posted on an internet forum, you've probably already used markdown, although you may not have realised it!\n",
    "\n",
    "You can make headings of different sizes using \\# at the start of a line. \\# big (\\#) \\#\\# medium (\\#\\#) \\#\\#\\# small (\\#\\#\\#)\n",
    "\n",
    "You can make text *italic* using one \\* at each end of the text. **Bold** uses two \\*\\*.\n",
    "\n",
    "Making lists is easy too!\n",
    "\n",
    "-   bulleted lists\n",
    "-   are made by putting\n",
    "-   \\* (asterix) at the start of a line\n",
    "-   or maybe\n",
    "-   a dash (-)\n",
    "-   you don't even need to be consistent.\n",
    "\n",
    "\n",
    "1.  Numbered lists\n",
    "2.  Just by numbering things\n",
    "3.  i.e. 1., 2., at the start of a line\n",
    "4.  and it doesn't matter\n",
    "5.  if your numbers are in the right order\n",
    "\n",
    "(The list above was numbered 1, 2, 3, 7, 4)\n",
    "\n",
    "A nice markdown cheatsheet can be found [here](https://en.support.wordpress.com/markdown-quick-reference/, \"markdown cheatsheet\")\n",
    "\n",
    "If you want to add an image to a cell, the easiest way is to click 'Insert Image' in the 'Edit' menu at the top of the notebook.\n",
    "\n",
    "```{image} images/code-cat.gif\n",
    ":alt: Coding cat\n",
    ":align: center\n",
    "```\n",
    "\n"
   ]
  },
  {
   "cell_type": "markdown",
   "metadata": {},
   "source": [
    "## Adding equations\n",
    "\n",
    "You can include equations in markdown cells using **LaTeX**. LaTeX is a typesetting language that you'll likely come across when you're writing lab reports. Some LaTeX stuff can be (overly) complicated, but for now we just care about the LaTeX `math` environment.\n",
    "\n",
    "If you want to include an equation on a new line (like you would in a lab report), use two \\$ signs at the start and end, e.g.:\n",
    "\n",
    "`$$ M = a \\log{P} + b $$` will appear as:\n",
    "\n",
    "$$ M = a \\log{P} + b $$\n",
    "\n",
    "If you want to include some maths or a symbol in the middle of your text just use one \\$ sign, e.g. :\n",
    "\n",
    "`The standard deviation, $\\sigma$ is the square root of the variance, $\\sqrt{\\sigma^2}$` will appear as:\n",
    "\n",
    "The standard deviation, $\\sigma$ is the square root of the variance, $\\sqrt{\\sigma^2}$\n",
    "\n",
    "[Here is a nice reference sheet](https://github.com/manuelemacchia/math-latex/blob/master/amsmath.pdf) for LaTeX maths symbols and operators.\n"
   ]
  },
  {
   "cell_type": "markdown",
   "metadata": {
    "slideshow": {
     "slide_type": "slide"
    }
   },
   "source": [
    "(ex-markdown)=\n",
    "```{admonition} Exercise: Write some markdown\n",
    ":class: practice \n",
    "\n",
    "Change the next cell of your notebook to a markdown cell. Give the cell a title and some text to remind your future self what you were doing in this session. Add in your favourite equation. To 'run' your markdown cell, either press the 'Run' button at the top, or press 'Shift-Enter'.\n",
    "\n",
    "[solution](soln_markdown.ipynb)\n",
    "```"
   ]
  },
  {
   "cell_type": "markdown",
   "metadata": {
    "slideshow": {
     "slide_type": "slide"
    }
   },
   "source": [
    "```{admonition} Running cells\n",
    ":class: myinfo\n",
    "Markdown cells need to be 'run' to get the formatted content to appear. Press **Shift-Enter** or the 'Run' button at the top of the notebook. This is the same process as running a code cell. \n",
    "\n",
    "You can also select 'Run all' from the 'Cell' menu to run all the cells in a notebook. This is useful when you're coming back to something you were working on before. \n",
    "```"
   ]
  },
  {
   "cell_type": "markdown",
   "metadata": {
    "slideshow": {
     "slide_type": "slide"
    }
   },
   "source": [
    "## Key Points\n",
    "- Your computing/coding work should be documented in the same way as your lab work\n",
    "- Keep notes on what your code is doing and why it's doing it. Your future self will thank you when you come to write things up later!"
   ]
  },
  {
   "cell_type": "markdown",
   "metadata": {},
   "source": []
  }
 ],
 "metadata": {
  "celltoolbar": "Slideshow",
  "kernelspec": {
   "display_name": "Python 3 (ipykernel)",
   "language": "python",
   "name": "python3"
  },
  "language_info": {
   "codemirror_mode": {
    "name": "ipython",
    "version": 3
   },
   "file_extension": ".py",
   "mimetype": "text/x-python",
   "name": "python",
   "nbconvert_exporter": "python",
   "pygments_lexer": "ipython3",
   "version": "3.8.15"
  },
  "toc": {
   "colors": {
    "hover_highlight": "#DAA520",
    "running_highlight": "#FF0000",
    "selected_highlight": "#FFD700"
   },
   "moveMenuLeft": true,
   "nav_menu": {
    "height": "183px",
    "width": "252px"
   },
   "navigate_menu": true,
   "number_sections": true,
   "sideBar": true,
   "threshold": 4,
   "toc_cell": false,
   "toc_section_display": "block",
   "toc_window_display": false
  }
 },
 "nbformat": 4,
 "nbformat_minor": 2
}
