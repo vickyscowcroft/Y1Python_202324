{
 "cells": [
  {
   "cell_type": "markdown",
   "metadata": {
    "slideshow": {
     "slide_type": "slide"
    }
   },
   "source": [
    "# Introduction to Python"
   ]
  },
  {
   "cell_type": "markdown",
   "metadata": {
    "slideshow": {
     "slide_type": "slide"
    }
   },
   "source": [
    "## Overview\n",
    "\n",
    "```{admonition} Questions\n",
    ":class: questions\n",
    "\n",
    "- Where do I start?\n",
    "- How do I run my code?\n",
    "- What is a variable?\n",
    "- What is an expression?\n",
    "```\n",
    "\n",
    "```{admonition} Objectives\n",
    ":class: objectives\n",
    "- Write and execute your first Python code\n",
    "- Do some simple arithmetic\n",
    "- Assigning variables\n",
    "- Importing packages\n",
    "```\n",
    "\n"
   ]
  },
  {
   "cell_type": "markdown",
   "metadata": {},
   "source": [
    "We're now going to get started with some Python! You'll be glad to hear that you've already done the hard stuff - we won't be faffing about with terminals any more today.\n"
   ]
  },
  {
   "cell_type": "markdown",
   "metadata": {},
   "source": [
    "## Your first bit of code\n",
    "\n",
    "In your notebook you should see a grey box with `In [ ]` on its left-hand side. It should look like the box below this text:"
   ]
  },
  {
   "cell_type": "markdown",
   "metadata": {},
   "source": [
    "\n",
    "```{image} images/empty_cell.png\n",
    ":alt: An empty jupyter notebook cell\n",
    ":align: center\n",
    "```"
   ]
  },
  {
   "cell_type": "markdown",
   "metadata": {},
   "source": [
    "This box is called a **cell**. The main type of cells we'll be using are **Code** cells and **Markdown** cells, with Code being the default. \n",
    "\n",
    "Double click on the cell and type the following:\n",
    "\n",
    "```python\n",
    "print(\"This is my first bit of python programming\")\n",
    "```\n",
    "\n",
    "then press `Shift` and `Enter` at the same time to \"run\" the cell.\n"
   ]
  },
  {
   "cell_type": "markdown",
   "metadata": {},
   "source": [
    "```{admonition} Running cells\n",
    ":class: myinfo\n",
    "\n",
    "You need to ‘run’ cells to execute your code. Press Shift-Enter or the ‘Run’ button at the top of the notebook.\n",
    "\n",
    "You can also select ‘Run all’ from the ‘Cell’ menu to run all the cells in a notebook. This is useful when you’re coming back to something you were working on before.\n",
    "```"
   ]
  },
  {
   "cell_type": "markdown",
   "metadata": {},
   "source": [
    "\n",
    "Congratulations! You've just run your first bit of python code!"
   ]
  },
  {
   "cell_type": "code",
   "execution_count": 1,
   "metadata": {
    "execution": {
     "iopub.execute_input": "2021-10-18T16:01:15.050440Z",
     "iopub.status.busy": "2021-10-18T16:01:15.049873Z",
     "iopub.status.idle": "2021-10-18T16:01:15.052090Z",
     "shell.execute_reply": "2021-10-18T16:01:15.052512Z"
    }
   },
   "outputs": [
    {
     "name": "stdout",
     "output_type": "stream",
     "text": [
      "This is my first bit of python programming\n"
     ]
    }
   ],
   "source": [
    "print(\"This is my first bit of python programming\")"
   ]
  },
  {
   "cell_type": "markdown",
   "metadata": {},
   "source": [
    "```{admonition} How to use these worksheets\n",
    ":class: myinfo\n",
    "\n",
    "As you work through these worksheets you'll find see examples of code (like the `print` statement in the cell above), as well as exercises for you to work through. You should write the examples and exercises into your own notebook, and use markdown cells to write down what the code is doing. \n",
    "\n",
    "While it can be tempting to copy and paste the example code into your notebook, it's much better to type them in yourself. This way you'll quickly become familiar with how code is formatted, where to use commas, quotation marks etc. \n",
    "```"
   ]
  },
  {
   "cell_type": "markdown",
   "metadata": {},
   "source": [
    "Next try out some simple maths.\n",
    "\n",
    "Enter each of the following in new cells and press Shift-Enter to run them. \n",
    "\n",
    "1. `1+2`\n",
    "\n",
    "2. `6-12`\n",
    "\n",
    "3. `345*234`"
   ]
  },
  {
   "cell_type": "markdown",
   "metadata": {},
   "source": [
    "### Python arithmetic operations\n",
    "\n",
    "The table below shows the different arithmetic operations that are built in to Python:\n",
    "\n",
    "| Operator\t| Name\t| Description | Example |  \n",
    "|:-------|-------|----|-------:|\n",
    "| `+` | \tAddition\t| $x + y$ \t| `x + y` |\n",
    "| `-`\t| Subtraction\t| $x - y$\t| `x - y` |\n",
    "| `*`\t| Multiplication\t| $x \\times y$ | `x * y` |\n",
    "| `/`\t| Division\t| $\\frac{x}{y}$ | \t`x / y` |\n",
    "|`**` | Exponentiation |\t$x^2$ | `x ** y` | \n",
    "| `%`\t| Modulus\t|Remainder of $\\frac{x}{y}$| `x % y` | \t\n",
    "| `//`\t| Floor division| Integer quotient of  $\\frac{x}{y}$|\t`x // y` | \n",
    "\n",
    "While the first 5 operators will be familiar to you, you may not have come across the final two (`%` and `//`) before now."
   ]
  },
  {
   "cell_type": "markdown",
   "metadata": {},
   "source": [
    "(ex-arith)=\n",
    "```{admonition} Exercise: Arithmetic\n",
    ":class: practice\n",
    "\n",
    "Write expressions that calculate the following values to confirm to yourself that you understand how each operator works. \n",
    "\n",
    "Do each one in a new cell in your notebook. Remember, you need to press Shift-Enter to run a cell.\n",
    "\n",
    "1. $6 \\times 7$\n",
    "2. $2^8$\n",
    "3. The remainder of $\\frac{19}{7}$\n",
    "4. The integer quotient of $\\frac{19}{7}$\n",
    "\n",
    "[solution](soln_arithmetic.ipynb)\n",
    "```"
   ]
  },
  {
   "cell_type": "markdown",
   "metadata": {},
   "source": [
    "```{admonition} Exercise solutions\n",
    ":class: tip\n",
    "\n",
    "In this worksheet you can access full worked solutions by clicking the Solution link at the bottom of the exercise. Try the exercises yourself before looking at the solution!\n",
    "\n",
    "In future weeks you will see that the solutions provided are less detailed, or only contain the final result. \n",
    "```"
   ]
  },
  {
   "cell_type": "markdown",
   "metadata": {},
   "source": [
    "Python can do simple arithmetic like this quite easily. But what if we want to do something more complicated? "
   ]
  },
  {
   "cell_type": "code",
   "execution_count": 6,
   "metadata": {
    "execution": {
     "iopub.execute_input": "2021-10-18T16:01:15.065380Z",
     "iopub.status.busy": "2021-10-18T16:01:15.064832Z",
     "iopub.status.idle": "2021-10-18T16:01:15.156737Z",
     "shell.execute_reply": "2021-10-18T16:01:15.157163Z"
    }
   },
   "outputs": [
    {
     "ename": "NameError",
     "evalue": "name 'cos' is not defined",
     "output_type": "error",
     "traceback": [
      "\u001b[0;31m---------------------------------------------------------------------------\u001b[0m",
      "\u001b[0;31mNameError\u001b[0m                                 Traceback (most recent call last)",
      "\u001b[0;32m<ipython-input-6-78a7de5cd17a>\u001b[0m in \u001b[0;36m<module>\u001b[0;34m\u001b[0m\n\u001b[0;32m----> 1\u001b[0;31m \u001b[0mcos\u001b[0m\u001b[0;34m(\u001b[0m\u001b[0;36m60\u001b[0m\u001b[0;34m)\u001b[0m\u001b[0;34m\u001b[0m\u001b[0;34m\u001b[0m\u001b[0m\n\u001b[0m",
      "\u001b[0;31mNameError\u001b[0m: name 'cos' is not defined"
     ]
    }
   ],
   "source": [
    "cos(60)"
   ]
  },
  {
   "cell_type": "markdown",
   "metadata": {},
   "source": [
    "We've got an error here because python doesn't know what we mean by `cos`. In order to do more complex things we need to start using **modules**."
   ]
  },
  {
   "cell_type": "markdown",
   "metadata": {},
   "source": [
    "## Python Modules\n",
    "\n",
    "Python modules are collections of functions that you can use in your code. The four modules that we will be using in this part of the course are:\n",
    "\n",
    "* `numpy` - a maths module;\n",
    "* `matplotlib` - for plotting graphs;\n",
    "* `scipy` - a scientific python module;\n",
    "* `pandas` - my favourite of all the modules, used for data analysis.\n"
   ]
  },
  {
   "cell_type": "markdown",
   "metadata": {},
   "source": [
    "### Importing modules\n",
    "\n",
    "Before we can use a module we have to **import** it. "
   ]
  },
  {
   "cell_type": "code",
   "execution_count": 7,
   "metadata": {
    "execution": {
     "iopub.execute_input": "2021-10-18T16:01:15.160356Z",
     "iopub.status.busy": "2021-10-18T16:01:15.159777Z",
     "iopub.status.idle": "2021-10-18T16:01:18.320671Z",
     "shell.execute_reply": "2021-10-18T16:01:18.321086Z"
    }
   },
   "outputs": [],
   "source": [
    "import numpy"
   ]
  },
  {
   "cell_type": "markdown",
   "metadata": {},
   "source": [
    "The above cell imports the whole `numpy` package. Sometimes we only want to import part of a package, for example:"
   ]
  },
  {
   "cell_type": "code",
   "execution_count": 8,
   "metadata": {
    "execution": {
     "iopub.execute_input": "2021-10-18T16:01:18.324335Z",
     "iopub.status.busy": "2021-10-18T16:01:18.323746Z",
     "iopub.status.idle": "2021-10-18T16:01:19.022196Z",
     "shell.execute_reply": "2021-10-18T16:01:19.022613Z"
    }
   },
   "outputs": [],
   "source": [
    "import matplotlib.pyplot as plt\n"
   ]
  },
  {
   "cell_type": "markdown",
   "metadata": {},
   "source": [
    "Here we're loading the pyplot sub-package of matplotlib. Rather than having to type `matplotlib.pyplot` every time we want to use it, we load it as `plt`.\n",
    "\n",
    "You can call packages whatever you want when you load them with `import package as name`, but some packages have commonly used short names. It's good to get in the habit of using the common short names; it makes using examples from the internet much easier!\n",
    "\n",
    "| Package name        | Short name |\n",
    "|---------------------|-----------:|\n",
    "| `numpy`             |       `np` |\n",
    "| `matplotlib.pyplot` |      `plt` |\n",
    "| `pandas`            |       `pd` |\n"
   ]
  },
  {
   "cell_type": "markdown",
   "metadata": {},
   "source": [
    "So `cos(60)` should work now?"
   ]
  },
  {
   "cell_type": "code",
   "execution_count": 9,
   "metadata": {
    "execution": {
     "iopub.execute_input": "2021-10-18T16:01:19.025908Z",
     "iopub.status.busy": "2021-10-18T16:01:19.025301Z",
     "iopub.status.idle": "2021-10-18T16:01:19.050884Z",
     "shell.execute_reply": "2021-10-18T16:01:19.051327Z"
    }
   },
   "outputs": [
    {
     "ename": "NameError",
     "evalue": "name 'cos' is not defined",
     "output_type": "error",
     "traceback": [
      "\u001b[0;31m---------------------------------------------------------------------------\u001b[0m",
      "\u001b[0;31mNameError\u001b[0m                                 Traceback (most recent call last)",
      "\u001b[0;32m<ipython-input-9-78a7de5cd17a>\u001b[0m in \u001b[0;36m<module>\u001b[0;34m\u001b[0m\n\u001b[0;32m----> 1\u001b[0;31m \u001b[0mcos\u001b[0m\u001b[0;34m(\u001b[0m\u001b[0;36m60\u001b[0m\u001b[0;34m)\u001b[0m\u001b[0;34m\u001b[0m\u001b[0;34m\u001b[0m\u001b[0m\n\u001b[0m",
      "\u001b[0;31mNameError\u001b[0m: name 'cos' is not defined"
     ]
    }
   ],
   "source": [
    "cos(60)"
   ]
  },
  {
   "cell_type": "markdown",
   "metadata": {},
   "source": [
    "Nope! We need to tell python where the `cos` function is. It's inside `numpy`, so we import `numpy` (using its short name, `np`)"
   ]
  },
  {
   "cell_type": "code",
   "execution_count": 10,
   "metadata": {
    "execution": {
     "iopub.execute_input": "2021-10-18T16:01:19.054465Z",
     "iopub.status.busy": "2021-10-18T16:01:19.053916Z",
     "iopub.status.idle": "2021-10-18T16:01:19.055741Z",
     "shell.execute_reply": "2021-10-18T16:01:19.056152Z"
    }
   },
   "outputs": [],
   "source": [
    "import numpy as np"
   ]
  },
  {
   "cell_type": "markdown",
   "metadata": {},
   "source": [
    "then call `cos` using"
   ]
  },
  {
   "cell_type": "code",
   "execution_count": 11,
   "metadata": {
    "execution": {
     "iopub.execute_input": "2021-10-18T16:01:19.059578Z",
     "iopub.status.busy": "2021-10-18T16:01:19.058972Z",
     "iopub.status.idle": "2021-10-18T16:01:19.061177Z",
     "shell.execute_reply": "2021-10-18T16:01:19.061587Z"
    }
   },
   "outputs": [
    {
     "data": {
      "text/plain": [
       "-0.9524129804151563"
      ]
     },
     "execution_count": 11,
     "metadata": {},
     "output_type": "execute_result"
    }
   ],
   "source": [
    "np.cos(60)"
   ]
  },
  {
   "cell_type": "markdown",
   "metadata": {},
   "source": [
    "Is this the answer you were expecting? What does this tell us about how the `cos` function works? \n",
    "\n",
    "**Hint:** get your calculator out and check the answer. If it's not the same, think about what could be different about the input..."
   ]
  },
  {
   "cell_type": "markdown",
   "metadata": {},
   "source": [
    "`numpy` has a huge number of functions built in. The full documentation is [here](https://numpy.org/doc/stable/), but the table below gives a summary of some of the ones you'll use most frequently:\n",
    "\n",
    "| `numpy` function        | Description |\n",
    "|---------------------|-----------:|\n",
    "| `sqrt(x)` | $\\sqrt{x}$ | \n",
    "| `exp(x)` | $e^{x}$|\n",
    "| `log(x)` | $\\ln(x)$ | \n",
    "| `log10(x)` | $\\log_{10}(x)$ | \n",
    "| `degrees(x)` | Converts $x$ from radians to degrees | \n",
    "| `radians(x)` | Converts $x$ from degrees to radians |\n",
    "|`sin(x)` | $\\sin(x)$ where $x$ is in radians |\n",
    "|`cos(x)` | $\\cos(x)$ where $x$ is in radians |\n",
    "|`tan(x)` | $\\tan(x)$ where $x$ is in radians |\n",
    "|`arcsin(x)` | $\\arcsin(x)$ in radians |\n",
    "|`arccos(x)` | $\\arccos(x)$ in radians |\n",
    "|`arctan(x)` | $\\arctan(x)$ in radians |\n",
    "|`fabs(x)` | $\\|x\\|$ |\n",
    "| `round(x)` | round $x$ to the nearest integer |\n",
    "| `floor(x)` | round $x$ **down** to nearest integer | \n",
    "| `ceil(x)` | round $x$ **up** to nearest integer | \n",
    "| `sign(x)` | returns $-1$ if $x < 0$, $+1$ if $x > 0$, or $0$ if $x=0$ |"
   ]
  },
  {
   "cell_type": "markdown",
   "metadata": {},
   "source": [
    "In the table all the functions have the `x` as an input value, rather than a number. We can use **variables** to represent numbers in python, just as with normal algebra."
   ]
  },
  {
   "cell_type": "markdown",
   "metadata": {},
   "source": [
    "## Variables\n",
    "\n",
    "**Variables** are used to store information that can be referenced later on.  \n",
    "\n",
    "We can assign a value to a variable using the `=` sign.\n",
    "\n",
    "Enter \n",
    "```python\n",
    "x = 5\n",
    "```\n",
    "in an empty cell and run the cell.\n"
   ]
  },
  {
   "cell_type": "code",
   "execution_count": 12,
   "metadata": {
    "execution": {
     "iopub.execute_input": "2021-10-18T16:01:19.064565Z",
     "iopub.status.busy": "2021-10-18T16:01:19.064021Z",
     "iopub.status.idle": "2021-10-18T16:01:19.065607Z",
     "shell.execute_reply": "2021-10-18T16:01:19.066075Z"
    }
   },
   "outputs": [],
   "source": [
    "x = 5"
   ]
  },
  {
   "cell_type": "markdown",
   "metadata": {},
   "source": [
    "We can check the value of `x` either using the `print()` function, or just by entering the value into a cell.\n",
    "\n",
    "Try typing `x` into a new cell (and running the cell)"
   ]
  },
  {
   "cell_type": "code",
   "execution_count": 13,
   "metadata": {
    "execution": {
     "iopub.execute_input": "2021-10-18T16:01:19.069146Z",
     "iopub.status.busy": "2021-10-18T16:01:19.068543Z",
     "iopub.status.idle": "2021-10-18T16:01:19.070743Z",
     "shell.execute_reply": "2021-10-18T16:01:19.071150Z"
    }
   },
   "outputs": [
    {
     "data": {
      "text/plain": [
       "5"
      ]
     },
     "execution_count": 13,
     "metadata": {},
     "output_type": "execute_result"
    }
   ],
   "source": [
    "x"
   ]
  },
  {
   "cell_type": "markdown",
   "metadata": {},
   "source": [
    "We can use `x` in the rest of our code now, and assign new variables in a similar way.\n",
    "\n",
    "Try \n",
    "```python\n",
    "y = 6 * x\n",
    "print(y)\n",
    "```\n",
    "in a new cell."
   ]
  },
  {
   "cell_type": "markdown",
   "metadata": {},
   "source": [
    "In this section we've been **assigning** variables. Although these lines of code may *look* like equations, they're not. The lines are read from **right to left**. \n",
    "\n",
    "Confused? \n",
    "\n",
    "Try entering \n",
    "\n",
    "```python\n",
    "x = x + 1\n",
    "```\n",
    "in a new cell, then checking the value of `x`."
   ]
  },
  {
   "cell_type": "code",
   "execution_count": 14,
   "metadata": {
    "execution": {
     "iopub.execute_input": "2021-10-18T16:01:19.074014Z",
     "iopub.status.busy": "2021-10-18T16:01:19.073472Z",
     "iopub.status.idle": "2021-10-18T16:01:19.075192Z",
     "shell.execute_reply": "2021-10-18T16:01:19.075593Z"
    }
   },
   "outputs": [],
   "source": [
    "x = x + 1"
   ]
  },
  {
   "cell_type": "code",
   "execution_count": 15,
   "metadata": {
    "execution": {
     "iopub.execute_input": "2021-10-18T16:01:19.079651Z",
     "iopub.status.busy": "2021-10-18T16:01:19.078735Z",
     "iopub.status.idle": "2021-10-18T16:01:19.081599Z",
     "shell.execute_reply": "2021-10-18T16:01:19.082213Z"
    }
   },
   "outputs": [
    {
     "name": "stdout",
     "output_type": "stream",
     "text": [
      "6\n"
     ]
    }
   ],
   "source": [
    "print(x)"
   ]
  },
  {
   "cell_type": "markdown",
   "metadata": {},
   "source": [
    "The `x = x + 1` line adds 1 to the value of `x` and assigns the answer to the variable `x`. Click on the cell where you did this assignment and run it again, then check the value of `x` again."
   ]
  },
  {
   "cell_type": "markdown",
   "metadata": {},
   "source": [
    "What about if we try to use a variable we haven't assigned yet? Try \n",
    "\n",
    "```python\n",
    "z = a + 1\n",
    "```"
   ]
  },
  {
   "cell_type": "code",
   "execution_count": 16,
   "metadata": {
    "execution": {
     "iopub.execute_input": "2021-10-18T16:01:19.087614Z",
     "iopub.status.busy": "2021-10-18T16:01:19.086673Z",
     "iopub.status.idle": "2021-10-18T16:01:19.093842Z",
     "shell.execute_reply": "2021-10-18T16:01:19.094289Z"
    }
   },
   "outputs": [
    {
     "ename": "NameError",
     "evalue": "name 'a' is not defined",
     "output_type": "error",
     "traceback": [
      "\u001b[0;31m---------------------------------------------------------------------------\u001b[0m",
      "\u001b[0;31mNameError\u001b[0m                                 Traceback (most recent call last)",
      "\u001b[0;32m<ipython-input-16-ab760d007296>\u001b[0m in \u001b[0;36m<module>\u001b[0;34m\u001b[0m\n\u001b[0;32m----> 1\u001b[0;31m \u001b[0mz\u001b[0m \u001b[0;34m=\u001b[0m \u001b[0ma\u001b[0m \u001b[0;34m+\u001b[0m \u001b[0;36m1\u001b[0m\u001b[0;34m\u001b[0m\u001b[0;34m\u001b[0m\u001b[0m\n\u001b[0m",
      "\u001b[0;31mNameError\u001b[0m: name 'a' is not defined"
     ]
    }
   ],
   "source": [
    "z = a + 1"
   ]
  },
  {
   "cell_type": "markdown",
   "metadata": {},
   "source": [
    "This error looks familiar! It's the same one we got when we tried to use `cos` without importing `numpy`. Just like how the function `cos` hadn't been defined yet, we haven't defined the variable `a`. So we can't use it."
   ]
  },
  {
   "cell_type": "markdown",
   "metadata": {},
   "source": [
    "### Naming variables\n",
    "\n",
    "You can name your python variables (almost) anything you want. However, there are a few rules that your variable names **must** follow:\n",
    "\n",
    "1. Variable names can include any upper and lower case letters, the digits 0 to 9, and the underscore `_` character. \n",
    "2. Variable names cannot start with a number.\n",
    "3. Variable names cannot include spaces. You can use `_` instead of a space if you want to make it easier to read, e.g. `planet_mass`\n",
    "\n",
    "The table below lists the names of built-in python commands. These names are **reserved** - you can't use them for variable names.\n",
    "\n",
    "| <!-- --> |<!-- -->  |<!-- -->|<!-- -->  | <!-- --> |\n",
    "|-|-|-|-|-|\n",
    "| `and` | `del` | `from` | `not` | `while` | \n",
    "| `as` | `elif` | `global` | `or` | `with` | \n",
    "| `assert` | `else` | `if` | `pass` | `yield` | \n",
    "| `break` | `except` | `import` | `print` | |\n",
    "| `class` | `exec` | `in` | `raise` | |\n",
    "| `continue` | `finally` | `is` | `return` | |\n",
    "| `def` | `for` | `lambda` | `try` | |\n"
   ]
  },
  {
   "cell_type": "markdown",
   "metadata": {},
   "source": [
    "```{admonition} PEP 8 - the \"correct\" way to do things\n",
    ":class: myinfo\n",
    "\n",
    "One of the great things about Python is that everything is open source. The result of this is lots of people contribute to writing the code, creating modules and packages, and you can even edit it yourself if you like. \n",
    "\n",
    "Having so many people contribute means that the code could quickly get very messy. To avoid this, the [PEP 8 guidelines](https://peps.python.org/pep-0008) were created so that everyone uses a consistent format. **You're not expected to memorise the PEP 8 guidelines or stick rigidly to them for this unit**. However, following the [naming conventions](https://peps.python.org/pep-0008/#naming-conventions) will make your code much easier to read. Get in the habit of using sensible names for variables from the outset[^fn1].\n",
    "\n",
    "```"
   ]
  },
  {
   "cell_type": "markdown",
   "metadata": {},
   "source": [
    "[^fn1]: *Please* don't name every variable after yourself (yes, this has happened before)."
   ]
  },
  {
   "cell_type": "markdown",
   "metadata": {},
   "source": [
    "## Types of variables\n",
    "\n",
    "So far we've just assigned numbers to our variables, but Python can deal with other types of data too:\n",
    "\n",
    "| Variable name | What is it? | Examples | \n",
    "|:--------------|------------|---------:|\n",
    "| `int` | integer number | `1`, `64`, `6452` |\n",
    "| `float` | \"floating point\" number | `1.23`, `6.67e-11`, `500.5` |\n",
    "| `string` | a sequence of characters | `\"hello world!\"`, `\"I have 6 dogs\"` |\n",
    "| `bool` | boolean logical | `True`, `False` | \n",
    "\n",
    "This isn't a complete list. Other examples of Python data types you may come across are `tuple`, `list`, `dict`, but we'll just be using the ones above for now. "
   ]
  },
  {
   "cell_type": "markdown",
   "metadata": {},
   "source": [
    "You can check what type of variable something is using the `type()` function:"
   ]
  },
  {
   "cell_type": "code",
   "execution_count": 17,
   "metadata": {},
   "outputs": [
    {
     "data": {
      "text/plain": [
       "int"
      ]
     },
     "execution_count": 17,
     "metadata": {},
     "output_type": "execute_result"
    }
   ],
   "source": [
    "type(x)"
   ]
  },
  {
   "cell_type": "markdown",
   "metadata": {},
   "source": [
    "This is telling us that `x` is an integer. Why is `x` an `int` and not a `string`? "
   ]
  },
  {
   "cell_type": "markdown",
   "metadata": {},
   "source": [
    "```{admonition} Python REPL\n",
    ":class: myinfo\n",
    "\n",
    "Python follows the **REPL** algorithm every time it reads a line of code:\n",
    "\n",
    "**R**ead\n",
    "\n",
    "**E**valuate\n",
    "\n",
    "**P**rint\n",
    "\n",
    "**L**oop\n",
    "\n",
    "For the cell above, the line it read was `type(x)`, so the REPL algorithm did the following:\n",
    "\n",
    "1. Read: Read `type(x)`\n",
    "2. Evaluate: \n",
    " - Evaluate `x` and see that `x = 5`\n",
    " - Evaluate `type(5)` and see that the `5` is an `int`\n",
    "3. Print: Print the result `int`\n",
    "4. Loop: Wait for the next bit of input\n",
    "\n",
    "It does this same thing for every line of code that you enter.\n",
    "```"
   ]
  },
  {
   "cell_type": "markdown",
   "metadata": {},
   "source": [
    "## Logical expressions\n",
    "\n",
    "Logical, or boolean (`bool`), variables can have two possible values - `True` and `False`. These are interpreted by python as `1` for `True` and `0` for `False`."
   ]
  },
  {
   "cell_type": "code",
   "execution_count": 18,
   "metadata": {},
   "outputs": [
    {
     "data": {
      "text/plain": [
       "True"
      ]
     },
     "execution_count": 18,
     "metadata": {},
     "output_type": "execute_result"
    }
   ],
   "source": [
    "2 < 3"
   ]
  },
  {
   "cell_type": "markdown",
   "metadata": {},
   "source": [
    "In the above cell we're evaluating \"is 2 less than 3?\", and Python returns `True`. If we ask the opposite question (\"is 2 greater than 3?\"), it should return `False`:"
   ]
  },
  {
   "cell_type": "code",
   "execution_count": 19,
   "metadata": {},
   "outputs": [
    {
     "data": {
      "text/plain": [
       "False"
      ]
     },
     "execution_count": 19,
     "metadata": {},
     "output_type": "execute_result"
    }
   ],
   "source": [
    "2 > 3"
   ]
  },
  {
   "cell_type": "markdown",
   "metadata": {},
   "source": [
    "The logical tests you can use with python are as follows:\n",
    "\n",
    "| Test | What it means | \n",
    "|:-------|-------:|\n",
    "| `>` | greater than | \n",
    "| `<` | less than | \n",
    "| `>=` | greater than or equal to| \n",
    "| `<=` | less than or equal to|\n",
    "| `==` | equal to | \n",
    "| `!=` | not equal to | "
   ]
  },
  {
   "cell_type": "markdown",
   "metadata": {},
   "source": [
    "## BODMAS\n",
    "\n",
    "Python evaluates expressions following the **BODMAS** rule:\n",
    "\n",
    "1. Brackets\n",
    "2. Order\n",
    "3. Division\n",
    "4. Multiplication\n",
    "5. Addition\n",
    "6. Subtraction\n",
    "\n",
    "The most important thing to take away from this is **brackets are important**. One of the most common reasons for things not working the way you expect is brackets being in the wrong place or missing completely. When you type an open bracket, `(`, Jupyter will automatically add the close bracket `)`. Make sure you're typing between them! "
   ]
  },
  {
   "cell_type": "markdown",
   "metadata": {},
   "source": [
    "## Example: Calculating the mean\n",
    "\n",
    "Now we've looked at variables and expressions we can start to use them to do something useful. Something you will do *a lot* in Physics is calculate the mean. \n",
    "\n",
    "The mean is defined as \n",
    "\n",
    "$$ \\mu = \\dfrac{1}{N}\\sum\\limits_{i=1}^{N} x_i $$\n",
    "\n",
    "where $x_i$ are the individual values and $N$ is the number of values.\n",
    "\n",
    "In this example we want to calculate the mean height of three people, Alice (1.65 m), Bob (1.93 m) and Clive (1.46 m). A simple way to calculate the mean would be to plug the numbers straight in, as if we were using a calculator:"
   ]
  },
  {
   "cell_type": "code",
   "execution_count": 20,
   "metadata": {},
   "outputs": [
    {
     "data": {
      "text/plain": [
       "1.68"
      ]
     },
     "execution_count": 20,
     "metadata": {},
     "output_type": "execute_result"
    }
   ],
   "source": [
    "(1.65 + 1.93 + 1.46) / 3"
   ]
  },
  {
   "cell_type": "markdown",
   "metadata": {},
   "source": [
    "That works, but what if we want to use the mean value somewhere else later on? It also isn't very helpful to our future self - when we come back and look at this code later we'll have no idea what those numbers refer to. So we can use variables!"
   ]
  },
  {
   "cell_type": "code",
   "execution_count": 21,
   "metadata": {},
   "outputs": [
    {
     "name": "stdout",
     "output_type": "stream",
     "text": [
      "1.68\n"
     ]
    }
   ],
   "source": [
    "alice = 1.65\n",
    "bob = 1.93\n",
    "clive = 1.46\n",
    "\n",
    "n_people = 3\n",
    "\n",
    "sum_height = alice + bob + clive\n",
    "\n",
    "mean_height = sum_height / n_people\n",
    "\n",
    "print(mean_height)"
   ]
  },
  {
   "cell_type": "markdown",
   "metadata": {},
   "source": [
    "This takes a little bit more code to do, but now it's clear to us (and anyone else who looks at our code) what's actually happening."
   ]
  },
  {
   "cell_type": "markdown",
   "metadata": {
    "slideshow": {
     "slide_type": "slide"
    }
   },
   "source": [
    "(ex-vars)=\n",
    "```{admonition} Exercise: Variables and expressions\n",
    ":class: practice\n",
    "\n",
    "Write and execute python expressions to evaluate the following statements. Use variables and give them descriptive names so it's clear what your code is doing. Print the result of each one using a `print()` statement. You should do each one in a new cell. \n",
    "\n",
    "1. The mean age of Alice (23 years), Bob (19 years) and Clive (20 years).\n",
    "2. The absolute value of the difference between Dave's height (1.68 m) and Elvis's height (1.79 m).\n",
    "3. The value of `7 // 3` is equal to `1 + 1`.\n",
    "4. The number 31 is even.\n",
    "\n",
    "\n",
    "[solution](soln_vars.ipynb)\n",
    "```"
   ]
  },
  {
   "cell_type": "markdown",
   "metadata": {
    "slideshow": {
     "slide_type": "slide"
    }
   },
   "source": [
    "## Key Points\n",
    "- Variables are used to store information so you can use it later\n",
    "- Give your variables descriptive names so you'll know what they are when you come back to your code later\n",
    "- Python follows the BODMAS rules when evaluating expressions"
   ]
  },
  {
   "cell_type": "markdown",
   "metadata": {},
   "source": []
  }
 ],
 "metadata": {
  "celltoolbar": "Slideshow",
  "kernelspec": {
   "display_name": "Python 3 (ipykernel)",
   "language": "python",
   "name": "python3"
  },
  "language_info": {
   "codemirror_mode": {
    "name": "ipython",
    "version": 3
   },
   "file_extension": ".py",
   "mimetype": "text/x-python",
   "name": "python",
   "nbconvert_exporter": "python",
   "pygments_lexer": "ipython3",
   "version": "3.8.15"
  }
 },
 "nbformat": 4,
 "nbformat_minor": 2
}
