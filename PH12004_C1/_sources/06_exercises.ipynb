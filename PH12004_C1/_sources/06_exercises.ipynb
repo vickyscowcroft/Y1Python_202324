{
 "cells": [
  {
   "cell_type": "code",
   "execution_count": 1,
   "metadata": {
    "tags": [
     "hide-cell"
    ]
   },
   "outputs": [],
   "source": [
    "import numpy as np"
   ]
  },
  {
   "cell_type": "markdown",
   "metadata": {},
   "source": [
    "# C1 Exercises"
   ]
  },
  {
   "cell_type": "markdown",
   "metadata": {},
   "source": [
    "## Overview\n",
    "\n",
    "This last section has some more exercises for you to practice your new Jupyter notebook skills. Not all of these exercises have linked solutions.\n",
    "\n",
    "Remember to use the markdown cells in your notebook to keep a record of what you're doing and explanations of how/why your code works. "
   ]
  },
  {
   "cell_type": "markdown",
   "metadata": {},
   "source": [
    "(ex_c1_1)=\n",
    "`````{admonition} Exercise: Brackets are important\n",
    ":class: practice\n",
    "\n",
    "I have missed the brackets out of the following logical expression:\n",
    "\n",
    "```python\n",
    "2 + 3 == 4 + 5 == 7\n",
    "```\n",
    "\n",
    "Add brackets to this expression so that it returns a value of `True`.\n",
    "\n",
    "[solution](soln_c1_ex1.ipynb)\n",
    "`````"
   ]
  },
  {
   "cell_type": "markdown",
   "metadata": {},
   "source": [
    "(ex_c1_2)=\n",
    "```{admonition} Exercise: Slicing strings\n",
    ":class: practice\n",
    "\n",
    "Assign the string `\"goodbye\"` to a variable called `s3`. Write logical expressions to check the following:\n",
    "\n",
    "1. Is the middle character of `s3` the letter `d`?\n",
    "2. Are the first two characters of `s3` the letters `g` and `a`?\n",
    "3. Do the last four characters of `s3` match the string `dbye`?\n",
    "\n",
    "[solution](soln_c1_ex2.ipynb)\n",
    "```"
   ]
  },
  {
   "cell_type": "markdown",
   "metadata": {},
   "source": [
    "(ex_c1_3)=\n",
    "```{admonition} Exercise: Ladders\n",
    ":class: practice\n",
    "\n",
    "A ladder of length `length` is leaning against a wall, making an angle `angle` with respect to the horizontal ground. \n",
    "\n",
    "Write a python expression to calculate the vertical height reached by the top of the ladder against the wall. \n",
    "\n",
    "Test your code using the following values:\n",
    "\n",
    "1. 5 meters and 75 degrees,\n",
    "2. 4 meters and 0 degrees,\n",
    "3. 6 meters and 80 degrees.\n",
    "\n",
    "Calculate the correct answers by hand so you can confirm your answers are correct. Use the markdown cells to write the equations you are using. Review the [Introduction to Markdown](03_intro_to_markdown.ipynb) section for details about how to write equations in markdown.\n",
    "\n",
    "**Hint**: It will be helpful to draw a diagram in your lab book to work out how the angle and length relate to the height. If your phone has a camera, you can take a photo of your diagram, email it to yourself and add it to your notebook. You can add images to your notebook using 'Insert Image' from the 'Edit' menu at the top of the screen.\n",
    "\n",
    "[solution](soln_c1_ex3.ipynb)\n",
    "\n",
    "```"
   ]
  },
  {
   "cell_type": "markdown",
   "metadata": {},
   "source": [
    "(ex_c1_4)=\n",
    "```{admonition} Exercise: Bullseye!\n",
    ":class: practice\n",
    "\n",
    "A dartboard of radius 10 units and the wall it is hanging on are represented by a 2-dimensional coordinate system, with the board's centre at (0,0). The coordinates of a dart hit are represented by the variables `(x, y)`. \n",
    "\n",
    "Write an expression which, given `x` and `y`, evaluates as `True` if the dart has hit the dartboard. \n",
    "\n",
    "Test your code on the following coordinates:\n",
    "\n",
    "1. (0, 0)\n",
    "2. (10, 10)\n",
    "3. (6, -6)\n",
    "4. (-7, 8)\n",
    "\n",
    "[solution](soln_c1_ex4.ipynb)\n",
    "```"
   ]
  },
  {
   "cell_type": "markdown",
   "metadata": {},
   "source": [
    "(ex_c1_5)=\n",
    "`````{admonition} Exercise: Lists\n",
    ":class: practice\n",
    "\n",
    "Write a Python expression that calculates the *range* (difference between the maximum and minimum value) of a list of numbers, `mylist`.\n",
    "\n",
    "Test your expression on the list below:\n",
    "\n",
    "```python\n",
    "mylist = [3, 7, -2, 12]\n",
    "```\n",
    "\n",
    "[solution](soln_c1_ex5.ipynb)\n",
    "`````\n"
   ]
  }
 ],
 "metadata": {
  "kernelspec": {
   "display_name": "Python 3 (ipykernel)",
   "language": "python",
   "name": "python3"
  },
  "language_info": {
   "codemirror_mode": {
    "name": "ipython",
    "version": 3
   },
   "file_extension": ".py",
   "mimetype": "text/x-python",
   "name": "python",
   "nbconvert_exporter": "python",
   "pygments_lexer": "ipython3",
   "version": "3.8.15"
  }
 },
 "nbformat": 4,
 "nbformat_minor": 2
}
