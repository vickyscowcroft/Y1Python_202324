{
 "cells": [
  {
   "cell_type": "markdown",
   "metadata": {},
   "source": [
    "## Solution: Slicing strings\n",
    "\n",
    "You should find the following answers:\n",
    "\n",
    "1. `True`\n",
    "2. `False`\n",
    "3. `True`\n",
    "\n",
    "**Hint**: You'll need to use slicing and logical conditions to find these answers.\n",
    "\n",
    "[back to the exercises](ex_c1_2)"
   ]
  },
  {
   "cell_type": "markdown",
   "metadata": {},
   "source": []
  }
 ],
 "metadata": {
  "language_info": {
   "name": "python"
  },
  "orig_nbformat": 4
 },
 "nbformat": 4,
 "nbformat_minor": 2
}
