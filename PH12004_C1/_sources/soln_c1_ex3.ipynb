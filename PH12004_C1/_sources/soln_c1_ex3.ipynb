{
 "cells": [
  {
   "cell_type": "code",
   "execution_count": 1,
   "metadata": {
    "tags": [
     "hide-cell"
    ]
   },
   "outputs": [],
   "source": [
    "import numpy as np"
   ]
  },
  {
   "cell_type": "markdown",
   "metadata": {},
   "source": [
    "## Solution: Ladders\n",
    "\n",
    "```{image} images/ladder.jpg\n",
    ":alt: Diagram of a ladder against a wall\n",
    ":width: 500px\n",
    ":align: center\n",
    "```\n",
    "\n",
    "From the diagram we can see that the height of the ladder, $h$, is given by\n",
    "\n",
    "$$h = l \\sin\\theta$$\n",
    "\n",
    "where $l$ is the length of the ladder and $\\theta$ is the angle it makes with the wall. \n",
    "\n",
    "Angles in the question are given in degrees, but remember that `numpy` expects angles in radians. We need to make sure to convert them!"
   ]
  },
  {
   "cell_type": "code",
   "execution_count": 3,
   "metadata": {},
   "outputs": [],
   "source": [
    "length = 5 ## length in m\n",
    "\n",
    "angle = 75 ## angle in degrees"
   ]
  },
  {
   "cell_type": "code",
   "execution_count": 4,
   "metadata": {},
   "outputs": [],
   "source": [
    "height = length * np.sin(np.radians(angle))"
   ]
  },
  {
   "cell_type": "code",
   "execution_count": 5,
   "metadata": {},
   "outputs": [
    {
     "name": "stdout",
     "output_type": "stream",
     "text": [
      "4.8296291314453415\n"
     ]
    }
   ],
   "source": [
    "print(height)"
   ]
  },
  {
   "cell_type": "markdown",
   "metadata": {},
   "source": [
    "Should check this by hand to make sure that the expression is working as expected:\n",
    "\n",
    "```{image} images/ladder_maths.jpg\n",
    ":alt: Checking h = l sin theta answer\n",
    ":width: 400px\n",
    ":align: center\n",
    "```\n",
    "\n",
    "Excellent! This is the same result as the python expression gave. Can now apply it to the other two lengths and distances."
   ]
  },
  {
   "cell_type": "code",
   "execution_count": 6,
   "metadata": {},
   "outputs": [
    {
     "name": "stdout",
     "output_type": "stream",
     "text": [
      "0.0\n"
     ]
    }
   ],
   "source": [
    "length = 4 ## length in m\n",
    "\n",
    "angle = 0 ## angle in degrees\n",
    "\n",
    "height = length * np.sin(np.radians(angle))\n",
    "print(height)"
   ]
  },
  {
   "cell_type": "code",
   "execution_count": 7,
   "metadata": {},
   "outputs": [
    {
     "name": "stdout",
     "output_type": "stream",
     "text": [
      "5.908846518073248\n"
     ]
    }
   ],
   "source": [
    "length = 6 ## length in m\n",
    "\n",
    "angle = 80 ## angle in degrees\n",
    "\n",
    "height = length * np.sin(np.radians(angle))\n",
    "print(height)"
   ]
  },
  {
   "cell_type": "markdown",
   "metadata": {},
   "source": [
    "You'll see that the answers are all printed with way too many significant figures. We'll be looking at how to control the output formatting in a later session\n",
    "\n",
    "[back to the exercises](ex_c1_3)"
   ]
  },
  {
   "cell_type": "markdown",
   "metadata": {},
   "source": []
  }
 ],
 "metadata": {
  "kernelspec": {
   "display_name": "teaching_stable",
   "language": "python",
   "name": "python3"
  },
  "language_info": {
   "codemirror_mode": {
    "name": "ipython",
    "version": 3
   },
   "file_extension": ".py",
   "mimetype": "text/x-python",
   "name": "python",
   "nbconvert_exporter": "python",
   "pygments_lexer": "ipython3",
   "version": "3.8.15"
  },
  "orig_nbformat": 4
 },
 "nbformat": 4,
 "nbformat_minor": 2
}
