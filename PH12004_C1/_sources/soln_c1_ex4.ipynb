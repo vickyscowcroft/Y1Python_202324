{
 "cells": [
  {
   "cell_type": "markdown",
   "metadata": {},
   "source": [
    "## Solution: Bullseye!\n",
    "\n",
    "First thing to do is visualise the problem:\n",
    "\n",
    "```{image} images/dartboard.jpg\n",
    ":alt: Picture of the dartboard\n",
    ":width: 400px\n",
    ":align: center\n",
    "```\n",
    "\n",
    "We want to find out if a dart has hit inside the board, or if it's hit the wall. \n",
    "\n",
    "You should find the following results:\n",
    "\n",
    "1. `True`\n",
    "2. `False`\n",
    "3. `True`\n",
    "4. `False`"
   ]
  },
  {
   "cell_type": "markdown",
   "metadata": {},
   "source": []
  }
 ],
 "metadata": {
  "language_info": {
   "name": "python"
  },
  "orig_nbformat": 4
 },
 "nbformat": 4,
 "nbformat_minor": 2
}
