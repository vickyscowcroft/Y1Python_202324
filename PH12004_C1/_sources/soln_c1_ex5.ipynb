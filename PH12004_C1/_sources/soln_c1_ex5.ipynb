{
 "cells": [
  {
   "cell_type": "markdown",
   "metadata": {},
   "source": [
    "## Solution: Lists\n",
    "\n",
    "Just a hint for this one... look at the `numpy` functions in the [intro to python](04_intro_to_python.ipynb) section. You might need some that aren't listed here, but can you take a guess at what they might be?\n",
    "\n",
    "[back to the exercises](ex_c1_5)"
   ]
  },
  {
   "cell_type": "markdown",
   "metadata": {},
   "source": []
  }
 ],
 "metadata": {
  "language_info": {
   "name": "python"
  },
  "orig_nbformat": 4
 },
 "nbformat": 4,
 "nbformat_minor": 2
}
