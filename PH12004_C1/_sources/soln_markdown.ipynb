{
 "cells": [
  {
   "cell_type": "markdown",
   "metadata": {},
   "source": [
    "## Solution: Write some markdown\n",
    "```\n",
    "# Intro to notebooks\n",
    "\n",
    "Here is some markdown text. **This is bold because it's very important**. \n",
    "\n",
    "Today my favourite equation is a Gaussian distribution:\n",
    "\n",
    "$$ f(x) = \\dfrac{1}{\\sigma\\sqrt{2\\pi}} e^{-\\frac{1}{2}\\left(\\frac{x-\\mu}{\\sigma}\\right)^2}$$\n",
    "\n",
    "where $\\sigma$ is the standard deviation and $\\mu$ is the mean of the distribution. \n",
    "```"
   ]
  },
  {
   "cell_type": "markdown",
   "metadata": {},
   "source": [
    "\n",
    "# Intro to notebooks\n",
    "\n",
    "Here is some markdown text. **This is bold because it's very important**. \n",
    "\n",
    "Today my favourite equation is a Gaussian distribution:\n",
    "\n",
    "$$ f(x) = \\dfrac{1}{\\sigma\\sqrt{2\\pi}} e^{-\\frac{1}{2}\\left(\\frac{x-\\mu}{\\sigma}\\right)^2}$$\n",
    "\n",
    "where $\\sigma$ is the standard deviation and $\\mu$ is the mean of the distribution. \n",
    "\n",
    "[back to the worksheet](ex-markdown)"
   ]
  }
 ],
 "metadata": {
  "language_info": {
   "name": "python"
  },
  "orig_nbformat": 4
 },
 "nbformat": 4,
 "nbformat_minor": 2
}
