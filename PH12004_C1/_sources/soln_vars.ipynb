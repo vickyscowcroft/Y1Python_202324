{
 "cells": [
  {
   "cell_type": "code",
   "execution_count": 2,
   "metadata": {
    "tags": [
     "remove-cell"
    ]
   },
   "outputs": [],
   "source": [
    "import numpy as np"
   ]
  },
  {
   "cell_type": "markdown",
   "metadata": {},
   "source": [
    "## Solution: Variables and expressions"
   ]
  },
  {
   "cell_type": "markdown",
   "metadata": {},
   "source": [
    "1\\. The mean age of Alice (23 years), Bob (19 years) and Clive (20 years)."
   ]
  },
  {
   "cell_type": "code",
   "execution_count": null,
   "metadata": {
    "tags": [
     "hide-cell"
    ]
   },
   "outputs": [],
   "source": [
    "alice_age = 23\n",
    "bob_age = 19\n",
    "clive_age = 20\n",
    "\n",
    "n_people = 3\n",
    "\n",
    "sum_ages = alice_age + bob_age + clive_age\n",
    "\n",
    "mean_age = sum_ages / n_people\n",
    "\n",
    "print(mean_age)"
   ]
  },
  {
   "cell_type": "markdown",
   "metadata": {},
   "source": [
    "2\\. The absolute value of the difference between Dave's height (1.68 m) and Elvis's height (1.79 m)."
   ]
  },
  {
   "cell_type": "code",
   "execution_count": 3,
   "metadata": {
    "tags": [
     "hide-cell"
    ]
   },
   "outputs": [
    {
     "name": "stdout",
     "output_type": "stream",
     "text": [
      "0.1100000000000001\n"
     ]
    }
   ],
   "source": [
    "dave_height = 1.68\n",
    "elvis_height = 1.79\n",
    "\n",
    "height_difference = dave_height - elvis_height\n",
    "\n",
    "absolute_diff = np.fabs(height_difference)\n",
    "\n",
    "print(absolute_diff)"
   ]
  },
  {
   "cell_type": "markdown",
   "metadata": {},
   "source": [
    "3\\. The value of 7 // 3 is equal to 1 + 1\n"
   ]
  },
  {
   "cell_type": "code",
   "execution_count": 4,
   "metadata": {
    "tags": [
     "hide-cell"
    ]
   },
   "outputs": [
    {
     "name": "stdout",
     "output_type": "stream",
     "text": [
      "True\n"
     ]
    }
   ],
   "source": [
    "result_1 = 7 // 3\n",
    "result_2 = 1 + 1\n",
    "\n",
    "comparison = (result_1 == result_2)\n",
    "print(comparison)"
   ]
  },
  {
   "cell_type": "markdown",
   "metadata": {},
   "source": [
    "4\\. The number 31 is even.\n"
   ]
  },
  {
   "cell_type": "code",
   "execution_count": 5,
   "metadata": {
    "tags": [
     "hide-cell"
    ]
   },
   "outputs": [
    {
     "name": "stdout",
     "output_type": "stream",
     "text": [
      "False\n"
     ]
    }
   ],
   "source": [
    "number = 31\n",
    "\n",
    "remainder = number % 2\n",
    "\n",
    "is_even = (remainder == 0)\n",
    "\n",
    "print(is_even)"
   ]
  },
  {
   "cell_type": "markdown",
   "metadata": {},
   "source": [
    "[back to the worksheets](ex-vars)"
   ]
  }
 ],
 "metadata": {
  "kernelspec": {
   "display_name": "teaching_stable",
   "language": "python",
   "name": "python3"
  },
  "language_info": {
   "codemirror_mode": {
    "name": "ipython",
    "version": 3
   },
   "file_extension": ".py",
   "mimetype": "text/x-python",
   "name": "python",
   "nbconvert_exporter": "python",
   "pygments_lexer": "ipython3",
   "version": "3.8.15"
  },
  "orig_nbformat": 4
 },
 "nbformat": 4,
 "nbformat_minor": 2
}
