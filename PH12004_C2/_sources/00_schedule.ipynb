{
 "cells": [
  {
   "cell_type": "markdown",
   "metadata": {
    "slideshow": {
     "slide_type": "slide"
    }
   },
   "source": [
    "# C2 Fun with functions and plotting\n",
    "\n"
   ]
  },
  {
   "cell_type": "markdown",
   "metadata": {
    "slideshow": {
     "slide_type": "slide"
    }
   },
   "source": [
    "## Overview\n",
    "\n",
    "In this session we'll be looking at how to use Python to read in data, make plots, and do some simple analysis. \n",
    "\n",
    "The techniques you'll learn in this session are directly applicable to your work in the experimental labs sessions. Make sure to write some markdown that explains your code so you can re-use your code later on. \n",
    "\n",
    "## Additional examples shown during the sessions:\n",
    "Any additional code examples from the Thursday and Friday sessions will be added to [this page](c2_thurs_am.ipynb)"
   ]
  },
  {
   "cell_type": "markdown",
   "metadata": {
    "slideshow": {
     "slide_type": "slide"
    }
   },
   "source": [
    "````{admonition} Setup\n",
    ":class: setup\n",
    "\n",
    "Before getting started today, create a new folder called `data` **inside** the `Scientific_Computing_S1` folder you made last week. Once you've done this, start Jupyter from the Anaconda prompt.\n",
    "\n",
    "**Remember**: You need to change to your `Scientific_Computing_S1` folder by entering\n",
    "\n",
    "```\n",
    "cd /d \"C:\\Users\\abc123\\OneDrive - University of Bath\\Scientific_Computing_S1\"\n",
    "```\n",
    "at the prompt, replacing `abc123` with your University user name.\n",
    "\n",
    "Once you've changed directory, start jupyter by entering\n",
    "\n",
    "```\n",
    "jupyter notebook\n",
    "```\n",
    "at the prompt.\n",
    "\n",
    "**Do not close the anaconda prompt window!**\n",
    "```````"
   ]
  },
  {
   "cell_type": "code",
   "execution_count": null,
   "metadata": {},
   "outputs": [],
   "source": []
  }
 ],
 "metadata": {
  "celltoolbar": "Slideshow",
  "kernelspec": {
   "display_name": "Python 3",
   "language": "python",
   "name": "python3"
  },
  "language_info": {
   "codemirror_mode": {
    "name": "ipython",
    "version": 3
   },
   "file_extension": ".py",
   "mimetype": "text/x-python",
   "name": "python",
   "nbconvert_exporter": "python",
   "pygments_lexer": "ipython3",
   "version": "3.7.10"
  }
 },
 "nbformat": 4,
 "nbformat_minor": 2
}
