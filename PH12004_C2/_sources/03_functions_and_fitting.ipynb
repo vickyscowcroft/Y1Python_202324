{
 "cells": [
  {
   "cell_type": "code",
   "execution_count": 1,
   "metadata": {},
   "outputs": [],
   "source": [
    "%config InlineBackend.figure_format = 'retina'\n",
    "\n",
    "import numpy as np\n",
    "import matplotlib.pyplot as plt\n",
    "import pandas as pd\n",
    "from scipy.optimize import curve_fit\n",
    "\n",
    "plt.rcParams.update({'font.size':12}) \n"
   ]
  },
  {
   "cell_type": "code",
   "execution_count": 2,
   "metadata": {
    "tags": [
     "remove-cell"
    ]
   },
   "outputs": [],
   "source": [
    "data = pd.read_csv('./data/C2_Ohms_Fitting.csv')"
   ]
  },
  {
   "cell_type": "markdown",
   "metadata": {
    "slideshow": {
     "slide_type": "slide"
    }
   },
   "source": [
    "# Functions and line fitting\n"
   ]
  },
  {
   "cell_type": "markdown",
   "metadata": {
    "slideshow": {
     "slide_type": "slide"
    }
   },
   "source": [
    "## Overview\n",
    "\n",
    "```{admonition} Questions\n",
    ":class: questions\n",
    "- How do you add a best fit line?\n",
    "- What is it actually doing?\n",
    "```\n",
    "\n",
    "```{admonition} Objectives\n",
    ":class: objectives\n",
    "- Fit a best fit line with `scipy`\n",
    "- Add the line to the plot\n",
    "- Adding a legend\n",
    "```"
   ]
  },
  {
   "cell_type": "markdown",
   "metadata": {},
   "source": [
    "## Defining functions\n",
    "\n",
    "You've already used lots of functions from the `numpy` and `matplotlib` packages. Now it's time to write our own!\n",
    "\n",
    "A function is basically a mini-program. It's a little bit of code that you can use again and again. We've already been sort of doing that by copying and pasting old bits of our code into new cells, but now we won't even need to copy and paste.\n",
    "\n",
    "Functions can be simple things that don't need input, like the one in the cell below:"
   ]
  },
  {
   "cell_type": "code",
   "execution_count": 3,
   "metadata": {},
   "outputs": [],
   "source": [
    "def howdy():\n",
    "    print(\"howdy!\")\n",
    "    return\n",
    "    "
   ]
  },
  {
   "cell_type": "code",
   "execution_count": 4,
   "metadata": {},
   "outputs": [
    {
     "name": "stdout",
     "output_type": "stream",
     "text": [
      "howdy!\n"
     ]
    }
   ],
   "source": [
    "howdy()"
   ]
  },
  {
   "cell_type": "markdown",
   "metadata": {},
   "source": [
    "We define a function using `def`. In the `howdy` function above, the brackets after the function name are empty, because it doesn't need any input. We have a colon after the brackets to tell python that the next lines are part of the function.\n",
    "\n",
    "Inside the function we just have `print(\"howdy!\")`. Every time we run the function, this is exactly what it will do.\n",
    "\n",
    "Finally, we have a `return` statement. We don't need this function to return anything, we just want it to print `howdy!` then stop. "
   ]
  },
  {
   "cell_type": "markdown",
   "metadata": {},
   "source": [
    "Basically, I've written a pretty useless function. But we can make our functions do stuff by giving them input.\n",
    "\n",
    "\n",
    "```{image} images/johnny_5.jpeg\n",
    ":alt: Jonny 5 needs input\n",
    ":width: 500px\n",
    ":align: center\n",
    "```"
   ]
  },
  {
   "cell_type": "markdown",
   "metadata": {},
   "source": [
    "We're now going to change our `howdy()` function to take some input"
   ]
  },
  {
   "cell_type": "code",
   "execution_count": 5,
   "metadata": {},
   "outputs": [],
   "source": [
    "def howdy(name):\n",
    "    print(\"howdy, {}!\".format(name))\n",
    "    return"
   ]
  },
  {
   "cell_type": "markdown",
   "metadata": {},
   "source": [
    "I've told the function to expect a some input, and to add that input to what's printed on the screen. Change your function in the same way and run the `howdy` function in a new cell. For the input, you can either directly pass it a string (like in the cell below), or you can create a variable that contains a string and pass it that. "
   ]
  },
  {
   "cell_type": "code",
   "execution_count": 6,
   "metadata": {},
   "outputs": [
    {
     "name": "stdout",
     "output_type": "stream",
     "text": [
      "howdy, Vicky!\n"
     ]
    }
   ],
   "source": [
    "howdy(\"Vicky\")"
   ]
  },
  {
   "cell_type": "code",
   "execution_count": 7,
   "metadata": {},
   "outputs": [],
   "source": [
    "name = \"Johnny 5\""
   ]
  },
  {
   "cell_type": "code",
   "execution_count": 8,
   "metadata": {},
   "outputs": [
    {
     "name": "stdout",
     "output_type": "stream",
     "text": [
      "howdy, Johnny 5!\n"
     ]
    }
   ],
   "source": [
    "howdy(name)"
   ]
  },
  {
   "cell_type": "markdown",
   "metadata": {},
   "source": [
    "You'll also see that there are curly brackets in the `print` function, and there's some extra text afterwards: the `.format()` call. \n",
    "\n",
    "`format()` is used to format our output. We'll look in more detail at this later. For now, remember that if you want to put a variable in a `print` statement use the curly brackets to show where it will go, and `.format()` to tell it which variable you want. "
   ]
  },
  {
   "cell_type": "markdown",
   "metadata": {},
   "source": [
    "This is still a pretty useless function though. What it really needs is some output."
   ]
  },
  {
   "cell_type": "code",
   "execution_count": 9,
   "metadata": {},
   "outputs": [],
   "source": [
    "def howdy(name):\n",
    "    print(\"howdy, {}!\".format(name))\n",
    "    letters = len(name)\n",
    "    print(\"There are {} letters in your name\".format(letters))\n",
    "    return(letters)"
   ]
  },
  {
   "cell_type": "code",
   "execution_count": 10,
   "metadata": {},
   "outputs": [
    {
     "name": "stdout",
     "output_type": "stream",
     "text": [
      "howdy, Johnny 5!\n",
      "There are 8 letters in your name\n"
     ]
    },
    {
     "data": {
      "text/plain": [
       "8"
      ]
     },
     "execution_count": 10,
     "metadata": {},
     "output_type": "execute_result"
    }
   ],
   "source": [
    "howdy(name)"
   ]
  },
  {
   "cell_type": "markdown",
   "metadata": {},
   "source": [
    "Here I've added something to count the number of letters in `name`. The function also **returns** that value. That's why you see an `Out[ ]` box now too. The `8` is the value that was returned. \n",
    "\n",
    "If we really wanted to, we could save that in a variable too:"
   ]
  },
  {
   "cell_type": "code",
   "execution_count": 11,
   "metadata": {},
   "outputs": [
    {
     "name": "stdout",
     "output_type": "stream",
     "text": [
      "howdy, Johnny 5!\n",
      "There are 8 letters in your name\n"
     ]
    }
   ],
   "source": [
    "n_letters = howdy(name)"
   ]
  },
  {
   "cell_type": "code",
   "execution_count": 12,
   "metadata": {},
   "outputs": [
    {
     "data": {
      "text/plain": [
       "8"
      ]
     },
     "execution_count": 12,
     "metadata": {},
     "output_type": "execute_result"
    }
   ],
   "source": [
    "n_letters"
   ]
  },
  {
   "cell_type": "markdown",
   "metadata": {},
   "source": [
    "## Useful functions\n",
    "\n",
    "Now we have an idea of how functions work, we can write a function that does something useful. We're going to add a line of best fit to our plot. We can get a least-squares fit to our data using `curve_fit`."
   ]
  },
  {
   "cell_type": "markdown",
   "metadata": {},
   "source": [
    "\n",
    "First we set up the function that we want to fit to our data:\n",
    "```python \n",
    "def line(x, slope, intercept):          \n",
    "    return slope*x + intercept\n",
    "```\n",
    "\n",
    "Here we're giving it 3 things as input: \n",
    "\n",
    "- `x` is our $x$ value\n",
    "- `slope` is the slope of the line\n",
    "- `intercept` is the intercept\n",
    "\n",
    "The return value (the output) is\n",
    "\n",
    "$$ y = m x + c $$\n",
    "\n",
    "where $m$ is the slope and $c$ is the intercept."
   ]
  },
  {
   "cell_type": "code",
   "execution_count": 13,
   "metadata": {},
   "outputs": [],
   "source": [
    "def line(x, slope, intercept):         \n",
    "    return slope*x + intercept         "
   ]
  },
  {
   "cell_type": "markdown",
   "metadata": {},
   "source": [
    "While we could write some code to calculate the values of the slope and intercept using least-squares fitting, we don't need to. Some kind soul has already done this for us as part of the `scipy` package. The `curve_fit` function is the one we need. \n",
    "\n",
    "To import it, run\n",
    "\n",
    "```python\n",
    "from scipy.optimize import curve_fit\n",
    "```"
   ]
  },
  {
   "cell_type": "markdown",
   "metadata": {},
   "source": [
    "Next we pass our function and the x and y data to `curve_fit`:\n",
    "```python\n",
    "popt, pcov = curve_fit(line,data['V'],data['I_mA'])\n",
    "```\n",
    "This will find the best fit line to our voltage and current data and send the parameters to the `popt` and `pcov` variables."
   ]
  },
  {
   "cell_type": "markdown",
   "metadata": {
    "slideshow": {
     "slide_type": "slide"
    }
   },
   "source": [
    "````{admonition} popt, pcov\n",
    ":class: myinfo\n",
    "`popt` and `pcov` are arrays that contain information about our fit. \n",
    "\n",
    "In the example here we're fitting a line of the form\n",
    "\n",
    "$$ y = m x + c $$\n",
    "\n",
    "`popt` is a 1-dimensional array that contains the values of $m$ and $c$:\n",
    "\n",
    "```python\n",
    "popt = [m, c]\n",
    "```\n",
    "where `m` is the slope and `c` is the intercept. We access these values the same way we learned in C3 - by slicing the arrays:\n",
    "\n",
    "```python\n",
    "slope = popt[0]\n",
    "intercept = popt[1]\n",
    "```\n",
    "\n",
    "`pcov` is a 2-dimensional array that represents the **covariance matrix** of our fit. \n",
    "\n",
    "$$ \\text{cov}[m, c] = \\begin{bmatrix}\n",
    "\\sigma^2_m & \\sigma_{m,c}\\\\\n",
    "\\sigma_{c,m} & \\sigma^2_c \n",
    "\\end{bmatrix}\n",
    "$$\n",
    "\n",
    "where $\\sigma^2_m$ and $\\sigma^2_c$ are the variances of the fitted parameters and $\\sigma_{m,c}$ and $\\sigma_{c,m}$ are the covariances. We're not going to use the covariances in this course. The only parts we need are the **variances**. \n",
    "\n",
    "Variance is simply the standard error squared. To get the uncertainties on $m$ and $c$, we simply slice the array to get the diagonal elements and square root them:\n",
    "\n",
    "```python\n",
    "err_slope = np.sqrt(float(pcov[0][0]))\n",
    "err_intercept = np.sqrt(float(pcov[1][1]))\n",
    "```\n",
    "````"
   ]
  },
  {
   "cell_type": "code",
   "execution_count": 14,
   "metadata": {},
   "outputs": [],
   "source": [
    "popt, pcov = curve_fit(line,data['V'],data['I_mA'])\n",
    "slope = popt[0]\n",
    "intercept = popt[1]\n",
    "err_slope = np.sqrt(float(pcov[0][0]))\n",
    "err_intercept = np.sqrt(float(pcov[1][1]))"
   ]
  },
  {
   "cell_type": "markdown",
   "metadata": {},
   "source": [
    "We can print the parameters and their uncertainties to the screen using `print`"
   ]
  },
  {
   "cell_type": "code",
   "execution_count": 15,
   "metadata": {},
   "outputs": [
    {
     "name": "stdout",
     "output_type": "stream",
     "text": [
      "Slope: 9.247 +- 0.297\n",
      "Intercept: 4.719 +- 1.734\n"
     ]
    }
   ],
   "source": [
    "print('Slope: {0:.3f} +- {1:.3f}'.format(slope, err_slope))\n",
    "print('Intercept: {0:.3f} +- {1:.3f}'.format(intercept, err_intercept))"
   ]
  },
  {
   "cell_type": "markdown",
   "metadata": {},
   "source": [
    "## Final plot\n",
    "\n",
    "We can now add the best fit line to the plot.\n",
    "\n",
    "As this plot will have more than just the data on it we should include a legend describing what's being shown. We can also add the equation of the line to the figure so everything is self-contained within one file.\n",
    "\n",
    "In the example below we now use the `label` keyword in `ax.errorbar`. `label` specifies the text that will be used on the legend for the things you're plotting.\n",
    "\n",
    "The best fit line is added using `ax.plot`. The `x` values are the `x` values of the data (i.e. the distances). The `y` values are the value of the best fit line equation at each point. "
   ]
  },
  {
   "cell_type": "markdown",
   "metadata": {},
   "source": [
    "We add the legend using two lines of code:\n",
    "\n",
    "```python\n",
    "handles, labels = ax.get_legend_handles_labels()\n",
    "ax.legend(handles[::-1],labels[::-1],loc=0, numpoints=1)\n",
    "```\n",
    "The first line grabs the `handles` - the plotting sybols - and the `labels` for each thing we've added to the plot.\n",
    "The second line adds the legend.\n",
    "\n",
    "When adding the legend, we reverse the order of the `handles` and `labels` using `handles[::-1]`. This makes it so the thing we plotted first is at the top of the legend.\n",
    "\n",
    "**This is why you learned how to reverse things!**"
   ]
  },
  {
   "cell_type": "markdown",
   "metadata": {},
   "source": [
    "`loc=0` tells `legend` to pick the best position to draw the legend. You can read more details about legends [here](https://matplotlib.org/3.1.0/api/_as_gen/matplotlib.pyplot.legend.html)"
   ]
  },
  {
   "cell_type": "markdown",
   "metadata": {},
   "source": [
    "Finally, we add the best fit line equation to the plot using `annotate`:\n",
    "```python\n",
    "annotation ='$I = {0:.3f} ( \\pm {1:.3f})V {2:+.3f} (\\pm {3:.3f})$'.format(slope, err_slope, intercept, err_intercept)\n",
    "ax.annotate(annotation, xy=(70, 1), xycoords='data', ha='center', bbox=dict(boxstyle=\"round\", fc=\"w\"))\n",
    "```\n",
    "\n",
    "The `annotation` line defines the text that we want to print. Here we can control the format of the text. Now we're using more than one variable in the format statement we use numbers in the curly brackets so it's easier to see which variable goes where. The `:.3f` inside the brackets tell python we want to print the variables as `float`s with 3 decimal places. \n",
    "\n",
    "Details of the Python formatting syntax are [here](https://docs.python.org/3/library/string.html#format-specification-mini-language). You can use latex to add maths symbols to your text. \n",
    "\n",
    "The `annotate` line specifies where and how the annotation is placed. "
   ]
  },
  {
   "cell_type": "code",
   "execution_count": 16,
   "metadata": {},
   "outputs": [
    {
     "data": {
      "image/png": "[encoded data removed]",
      "text/plain": [
       "<Figure size 720x432 with 1 Axes>"
      ]
     },
     "metadata": {
      "image/png": {
       "height": 372,
       "width": 614
      },
      "needs_background": "light"
     },
     "output_type": "display_data"
    }
   ],
   "source": [
    "fig = plt.figure(figsize=(10,6))\n",
    "ax = fig.add_subplot(1,1,1)\n",
    "ax.errorbar(data['V'],           \n",
    "             data['I_mA'],              \n",
    "             yerr=data['I_unc_mA'],     \n",
    "             marker='o',             \n",
    "             markersize = 7,        \n",
    "             color='black',         \n",
    "             ecolor='black',        \n",
    "             markerfacecolor='black',\n",
    "             linestyle='none',       \n",
    "             capsize=6,  \n",
    "             label = \"C2 data\"\n",
    "             )\n",
    "\n",
    "ax.set_xlabel('Voltage (V)')\n",
    "ax.set_ylabel('Current (mA)')\n",
    "\n",
    "ax.tick_params(direction='in',      \n",
    "                length=7,           \n",
    "               )\n",
    "ax.plot(data['V'], data['V']*slope+intercept, \n",
    "         linestyle='--',\n",
    "         color='black',\n",
    "         label='Best fit')\n",
    "\n",
    "handles, labels = ax.get_legend_handles_labels()\n",
    "ax.legend(handles[::-1],labels[::-1],loc=0, numpoints=1)\n",
    "annotation ='$I = {0:.3f} ( \\pm {1:.3f})V {2:+.3f} (\\pm {3:.3f})$'.format(slope, err_slope, intercept, err_intercept)\n",
    "ax.annotate(annotation, xy=(8, 0), xycoords='data', ha='center', bbox=dict(boxstyle=\"round\", fc=\"w\"))\n",
    "plt.show()"
   ]
  },
  {
   "cell_type": "markdown",
   "metadata": {},
   "source": [
    "```{admonition} Equations on plots\n",
    ":class: myinfo\n",
    "\n",
    "When you're making plots that could be thought of as 'working drafts' it's fine to include the equation on the plot. However,  if you're making a figure to put in a report, don't add the equation like we have here. It's only here to get you practice in formatting output. \n",
    "```"
   ]
  },
  {
   "cell_type": "markdown",
   "metadata": {
    "slideshow": {
     "slide_type": "slide"
    }
   },
   "source": [
    "(ex-ohms-law)=\n",
    "```{admonition} Exercise: Ohms law\n",
    ":class: practice\n",
    "\n",
    "Voltage, current and resistance are related by Ohms law: \n",
    "\n",
    "$$ V = IR$$\n",
    "\n",
    "The function you used above has the form\n",
    "\n",
    "$$ I = m V + c $$\n",
    "\n",
    "where $m$ is the slope, $c$ is the intercept, and $I$ has units of milli-amps.\n",
    "\n",
    "Use the results from your fitting function to calculate the value of R and it's uncertainty. You may have to review the material from the statistics part of the skills unit to remind yourself about how to propagate uncertainties. \n",
    "\n",
    "Use a markdown cell to properly format your answer with its uncertainty and units.\n",
    "\n",
    "\n",
    "[solution](soln_ohms_law.ipynb)"
   ]
  },
  {
   "cell_type": "markdown",
   "metadata": {
    "slideshow": {
     "slide_type": "slide"
    }
   },
   "source": [
    "## Key Points\n",
    "- Functions are most useful with input and output\n",
    "- Use `curve_fit` to fit a line of best fit to your data.\n",
    "- Use `.format()` to format text on plots.\n",
    "- All results need units and uncertainties. If it doesn't have these, it's meaningless. "
   ]
  },
  {
   "cell_type": "code",
   "execution_count": null,
   "metadata": {},
   "outputs": [],
   "source": []
  }
 ],
 "metadata": {
  "celltoolbar": "Slideshow",
  "kernelspec": {
   "display_name": "Python 3",
   "language": "python",
   "name": "python3"
  },
  "language_info": {
   "codemirror_mode": {
    "name": "ipython",
    "version": 3
   },
   "file_extension": ".py",
   "mimetype": "text/x-python",
   "name": "python",
   "nbconvert_exporter": "python",
   "pygments_lexer": "ipython3",
   "version": "3.7.10"
  }
 },
 "nbformat": 4,
 "nbformat_minor": 2
}
