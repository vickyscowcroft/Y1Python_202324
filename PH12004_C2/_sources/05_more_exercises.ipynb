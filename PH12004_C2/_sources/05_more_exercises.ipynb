{
 "cells": [
  {
   "cell_type": "code",
   "execution_count": 4,
   "metadata": {
    "execution": {
     "iopub.execute_input": "2021-06-15T11:32:48.941009Z",
     "iopub.status.busy": "2021-06-15T11:32:48.940489Z",
     "iopub.status.idle": "2021-06-15T11:32:49.356767Z",
     "shell.execute_reply": "2021-06-15T11:32:49.357194Z"
    },
    "tags": [
     "remove-cell"
    ]
   },
   "outputs": [],
   "source": [
    "import numpy as np\n",
    "import matplotlib.pyplot as plt\n",
    "import pandas as pd\n",
    "%config InlineBackend.figure_format = 'retina'\n",
    "plt.rcParams.update({'font.size':14}) "
   ]
  },
  {
   "cell_type": "markdown",
   "metadata": {
    "slideshow": {
     "slide_type": "slide"
    }
   },
   "source": [
    "# Exercises"
   ]
  },
  {
   "cell_type": "markdown",
   "metadata": {
    "slideshow": {
     "slide_type": "slide"
    }
   },
   "source": [
    "## Overview\n",
    "\n",
    "This last section has some more exercises for you to practice your new function and plotting skills. Not all of these exercises have linked solutions."
   ]
  },
  {
   "cell_type": "markdown",
   "metadata": {
    "slideshow": {
     "slide_type": "slide"
    }
   },
   "source": [
    "(ex-c2-ex1)=\n",
    "```{admonition} Exercise: Distances\n",
    ":class: practice\n",
    "\n",
    "In the 'Dynamics and Astrophysics' unit you're going to come across the distance modulus equation:\n",
    "\n",
    "$$ \\mu = 5 \\log_{10} d - 5 $$\n",
    "\n",
    "where $d$ is the distance in parsecs and $\\mu$ is the distance modulus (in magnitudes), defined as \n",
    "\n",
    "$$ \\mu = m - M $$\n",
    "\n",
    "where $m$ is the apparent magnitude and $M$ is the absolute magnitude of an object. \n",
    "\n",
    "1. Using markdown cells, write out an equation for $d$ as a function of $\\mu$.\n",
    "\n",
    "2. Write a function that takes a distance in parsecs as input and gives the distance modulus as output. Write another function that does the reverse. \n",
    "\n",
    "3. Use your function to work out the distance in kpc ($10^3$ pc) of the Large Magellanic Cloud ($\\mu = 18.5$ mag). \n",
    "\n",
    "4. What is the distance modulus of the Andromeda galaxy ($d = 778 $ kpc). \n",
    "\n",
    "5. If Andromeda's apparent magnitude is 3.4 mag, what is it's absolute magnitude? \n",
    "\n",
    "**Hint**: The magnitude system is backwards (thanks, Ancient Greeks) so a magnitude of -10 is brighter than a magnitude of 0, which is brighter than a magnitude of 10.\n",
    "\n",
    "\n",
    "[solution](soln_c2_ex1.ipynb)\n",
    "```"
   ]
  },
  {
   "cell_type": "markdown",
   "metadata": {},
   "source": [
    "(ex-c2-ex2)=\n",
    "```{admonition} Exercise: The central limit theorem\n",
    ":class: practice\n",
    "\n",
    "1. Use the `np.random.normal` function to generate an array of 10 random numbers with a mean of 10 and a standard deviation of 3. \n",
    "\n",
    "2. Using `density=True` in `plt.hist` plot the probability density of the results. \n",
    "\n",
    "3. Repeat this for samples of 100 and 1000 random numbers and plot the histograms of the results. Choose an appropriate bin size for your histogram.\n",
    "\n",
    "4. On the same plot as each of your histograms, plot a Normal (Gaussian) distribution:\n",
    "\n",
    "$$ f(x) = \\dfrac{1}{\\sigma\\sqrt{2\\pi}} e^{-\\frac{1}{2}\\left(\\frac{x-\\mu}{\\sigma}\\right)^2}$$\n",
    "\n",
    "for $\\mu = 10$, $\\sigma = 3$. \n",
    "\n",
    "Are the results what you expect? Write a few sentances about how the results compare to your expectations for 10, 100 and 1000 random numbers.\n",
    "\n",
    "5. Write a function that takes the sample size ($n$), mean ($\\mu$), and standard deviation ($\\sigma$) as input and generates a sample of $n$ normally distributed random numbers. Your function should plot the probability density of the sample along with the Normal distribution. The plot should have a title that states the input values of $n$, $\\mu$ and $\\sigma$ and should have appropriate axis labels. \n",
    "\n",
    "Look at how the plot changes as you increase $n$. Is it doing what you expect? \n",
    "\n",
    "**Hint**: Take a look at the documentation for [np.random.normal](https://numpy.org/doc/stable/reference/random/generated/numpy.random.normal.html) if you're not sure where to start.\n",
    "\n",
    "[solution](soln_c2_ex2.ipynb)\n",
    "```"
   ]
  },
  {
   "cell_type": "markdown",
   "metadata": {},
   "source": [
    "(ex-pulse)=\n",
    "```{admonition} Exercise: Pulse on a wire\n",
    ":class: practice\n",
    "\n",
    "In this exercise we're looking at how to apply your coding skills beyond this lab unit. You can use the same techniques that we use to look at concepts in the lab to help you visualise problems from your other units  This exercise is adapted from a question on a problem sheet.\n",
    "\n",
    "Consider a transverse wave pulse on a wire that, at $t=0$, can be described by  \n",
    "\n",
    "$$\n",
    "y(x) = \\dfrac{4 \\times 10^{-3}}{\\left(100 x\\right)^2 + 4}\n",
    "$$\n",
    "\n",
    "where $x$ and $y$ are both in metres. \n",
    "\n",
    "Plot the pulse for $-0.1$ m $< x < 0.1$ m. Your plot should have appropriate axis labels and units. \n",
    "\n",
    "Write down an expression for $y(x, t, v)$ for this wave travelling in the positive $x$ direction at a velocity $v$. Convert this expression into a function. \n",
    "\n",
    "Plot the displacement, $y$, as a function of time at $x= 0.1$ m for a wave travelling with $v = 2$ m s$^{-1}$.\n",
    "\n",
    "What is the earliest time that the displacement caused by the wave reaches 0.5 mm?\n",
    "\n",
    "[solution](soln_c2_ex3.ipynb)\n",
    "\n",
    "```"
   ]
  },
  {
   "cell_type": "markdown",
   "metadata": {},
   "source": [
    "(ex-c2-ex4)=\n",
    "```{admonition} Exercise: Estimating $g$\n",
    ":class: practice\n",
    "\n",
    "Download the file [data_2.csv](./data/data_2.csv) and read it in using `pandas`. Have a look at the data. You should have three columns containing the following:\n",
    "* time (seconds)\n",
    "* height (meters)\n",
    "* uncertainty on the height (meters)\n",
    "\n",
    "Make a **good plot** of the data, with axis labels, error bars, units etc. \n",
    "\n",
    "Using the SUVAT equations:\n",
    "\n",
    "$$ s = u t + \\dfrac{1}{2} a t^2 $$\n",
    "\n",
    "where $s$ is displacement from the initial position, $u$ is the initial velocity, $a$ is acceleration and $t$ is time, calculate the value of the gravitational constant, $g$, and its uncertainty from your data. \n",
    "\n",
    "Write an explanation of your method (including equations) in the markdown cells. \n",
    "\n",
    "Add a line of best fit to your plot to check your result for $g$.\n",
    "\n",
    "[solution](soln_c2_ex4.ipynb)\n",
    "```"
   ]
  },
  {
   "cell_type": "code",
   "execution_count": null,
   "metadata": {},
   "outputs": [],
   "source": []
  }
 ],
 "metadata": {
  "celltoolbar": "Slideshow",
  "kernelspec": {
   "display_name": "Python 3",
   "language": "python",
   "name": "python3"
  },
  "language_info": {
   "codemirror_mode": {
    "name": "ipython",
    "version": 3
   },
   "file_extension": ".py",
   "mimetype": "text/x-python",
   "name": "python",
   "nbconvert_exporter": "python",
   "pygments_lexer": "ipython3",
   "version": "3.7.10"
  },
  "varInspector": {
   "cols": {
    "lenName": 16,
    "lenType": 16,
    "lenVar": 40
   },
   "kernels_config": {
    "python": {
     "delete_cmd_postfix": "",
     "delete_cmd_prefix": "del ",
     "library": "var_list.py",
     "varRefreshCmd": "print(var_dic_list())"
    },
    "r": {
     "delete_cmd_postfix": ") ",
     "delete_cmd_prefix": "rm(",
     "library": "var_list.r",
     "varRefreshCmd": "cat(var_dic_list()) "
    }
   },
   "types_to_exclude": [
    "module",
    "function",
    "builtin_function_or_method",
    "instance",
    "_Feature"
   ],
   "window_display": false
  }
 },
 "nbformat": 4,
 "nbformat_minor": 2
}
