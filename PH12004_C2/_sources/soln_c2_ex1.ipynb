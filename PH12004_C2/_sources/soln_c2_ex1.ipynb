{
 "cells": [
  {
   "cell_type": "code",
   "execution_count": 5,
   "metadata": {
    "tags": [
     "remove-cell"
    ]
   },
   "outputs": [],
   "source": [
    "import numpy as np"
   ]
  },
  {
   "cell_type": "markdown",
   "metadata": {},
   "source": [
    "## Solution: Distances\n",
    "\n",
    "Starting from the distance modulus equation\n",
    "\n",
    "$$\n",
    "\\mu = 5 \\log_{10} d - 5\n",
    "$$ \n",
    "\n",
    "we can rearrange to get $d$ as a function of $\\mu$:\n",
    "\n",
    "$$ \n",
    "\\mu + 5 = 5 \\log_{10} d\n",
    "$$\n",
    "\n",
    "$$\n",
    "\\dfrac{\\mu + 5}{5} = \\log_{10} d\n",
    "$$\n",
    "\n",
    "$$\n",
    "d = 10^{(\\mu + 5)/5}\n",
    "$$\n",
    "\n",
    "So our functions are:\n"
   ]
  },
  {
   "cell_type": "code",
   "execution_count": 1,
   "metadata": {},
   "outputs": [],
   "source": [
    "def mu_to_d(mu):\n",
    "    d = 10**((mu + 5.)/5.)\n",
    "    return(d)"
   ]
  },
  {
   "cell_type": "code",
   "execution_count": 2,
   "metadata": {},
   "outputs": [],
   "source": [
    "def d_to_mu(d):\n",
    "    mu = 5. * np.log10(d) - 5.\n",
    "    return(mu)"
   ]
  },
  {
   "cell_type": "markdown",
   "metadata": {},
   "source": [
    "Distance to the Large Magellanic Cloud ($\\mu = 18.5$ mag):"
   ]
  },
  {
   "cell_type": "code",
   "execution_count": 3,
   "metadata": {},
   "outputs": [
    {
     "name": "stdout",
     "output_type": "stream",
     "text": [
      "d = 50.12 kpc\n"
     ]
    }
   ],
   "source": [
    "d_lmc = mu_to_d(18.5)\n",
    "d_lmc_kpc = d_lmc / 1000.\n",
    "print(\"d = {0:.2f} kpc\".format(d_lmc_kpc))"
   ]
  },
  {
   "cell_type": "markdown",
   "metadata": {},
   "source": [
    "Distance modulus of Andromeda ($d = 778$ kpc):"
   ]
  },
  {
   "cell_type": "code",
   "execution_count": 6,
   "metadata": {},
   "outputs": [
    {
     "name": "stdout",
     "output_type": "stream",
     "text": [
      "mu = 24.45 mag\n"
     ]
    }
   ],
   "source": [
    "mu_andromeda = d_to_mu(778 * 1000)\n",
    "print(\"mu = {0:.2f} mag\".format(mu_andromeda))"
   ]
  },
  {
   "cell_type": "markdown",
   "metadata": {},
   "source": [
    "Absolute magnitude (M) of Andromeda ($m = 3.4$ mag):\n",
    "\n",
    "$$\n",
    "\\mu = m - M\n",
    "$$\n",
    "\n",
    "$$\n",
    "M = m - \\mu\n",
    "$$"
   ]
  },
  {
   "cell_type": "code",
   "execution_count": 7,
   "metadata": {},
   "outputs": [],
   "source": [
    "def abs_mag(app_mag, mu):\n",
    "    abs_mag = app_mag - mu\n",
    "    return(abs_mag)\n",
    "    "
   ]
  },
  {
   "cell_type": "code",
   "execution_count": 8,
   "metadata": {},
   "outputs": [
    {
     "name": "stdout",
     "output_type": "stream",
     "text": [
      "M = -21.05\n"
     ]
    }
   ],
   "source": [
    "abs_mag_andromeda = abs_mag(3.4, mu_andromeda)\n",
    "print(\"M = {0:.2f}\".format(abs_mag_andromeda))"
   ]
  },
  {
   "cell_type": "markdown",
   "metadata": {},
   "source": [
    "Always a good idea to check if these numbers are about right, which we can do [on the Nasa Extragalactic Database](http://ned.ipac.caltech.edu/byname?objname=m31) or [on this slightly less scientific website](https://en.wikipedia.org/wiki/Andromeda_Galaxy)"
   ]
  },
  {
   "cell_type": "markdown",
   "metadata": {},
   "source": [
    "[back to the exercises](ex-c2-ex1)"
   ]
  },
  {
   "cell_type": "markdown",
   "metadata": {},
   "source": []
  }
 ],
 "metadata": {
  "kernelspec": {
   "display_name": "Python 3",
   "language": "python",
   "name": "python3"
  },
  "language_info": {
   "codemirror_mode": {
    "name": "ipython",
    "version": 3
   },
   "file_extension": ".py",
   "mimetype": "text/x-python",
   "name": "python",
   "nbconvert_exporter": "python",
   "pygments_lexer": "ipython3",
   "version": "3.8.15"
  }
 },
 "nbformat": 4,
 "nbformat_minor": 2
}
