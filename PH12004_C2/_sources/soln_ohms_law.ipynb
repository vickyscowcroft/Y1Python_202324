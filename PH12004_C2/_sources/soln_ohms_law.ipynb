{
 "cells": [
  {
   "cell_type": "code",
   "execution_count": 1,
   "metadata": {
    "tags": [
     "remove-cell"
    ]
   },
   "outputs": [],
   "source": [
    "%config InlineBackend.figure_format = 'retina'\n",
    "\n",
    "import numpy as np\n",
    "import matplotlib.pyplot as plt\n",
    "import pandas as pd\n",
    "from scipy.optimize import curve_fit"
   ]
  },
  {
   "cell_type": "code",
   "execution_count": 4,
   "metadata": {
    "tags": [
     "remove-cell"
    ]
   },
   "outputs": [],
   "source": [
    "data = pd.read_csv('./data/C2_Ohms_Fitting.csv')"
   ]
  },
  {
   "cell_type": "code",
   "execution_count": 5,
   "metadata": {
    "tags": [
     "remove-cell"
    ]
   },
   "outputs": [],
   "source": [
    "def line(x, slope, intercept):         \n",
    "    return slope*x + intercept    "
   ]
  },
  {
   "cell_type": "code",
   "execution_count": 6,
   "metadata": {
    "tags": [
     "remove-cell"
    ]
   },
   "outputs": [],
   "source": [
    "popt, pcov = curve_fit(line,data['V'],data['I_mA'])\n",
    "slope = popt[0]\n",
    "intercept = popt[1]\n",
    "err_slope = np.sqrt(float(pcov[0][0]))\n",
    "err_intercept = np.sqrt(float(pcov[1][1]))"
   ]
  },
  {
   "cell_type": "markdown",
   "metadata": {},
   "source": [
    "## Solution: Ohms law\n",
    "\n",
    "You should end up with a final answer for the resistance of\n",
    "\n",
    "$$ R = 108.1 \\pm 3.5 \\Omega$$\n",
    "\n",
    "If you compare this to the answer in the ER worksheet you'll find that it's slightly different. The answer quoted in the ER worksheet is $R = 108.7 \\pm 7.1 \\Omega$. \n",
    "\n",
    "### Difference in $R$:\n",
    "\n",
    "The difference in $R$ comes about because the value of the slope of the best fit line is rounded to $9.2 \\text{ m}\\Omega^{-1}$ **before** you calculate the value of $R$:\n",
    "\n",
    "$$ \\dfrac{1}{R} = 9.2 \\text{ m}\\Omega^{-1}$$\n",
    "\n",
    "$$ R = \\dfrac{1}{0.0092} = 108.7 ~\\Omega$$\n",
    "\n",
    "However, if we calculate $R$ directly from our `slope` variable:\n"
   ]
  },
  {
   "cell_type": "code",
   "execution_count": 7,
   "metadata": {},
   "outputs": [
    {
     "name": "stdout",
     "output_type": "stream",
     "text": [
      "R = 108.1 ohms\n"
     ]
    }
   ],
   "source": [
    "resistance = 1./(slope * 1e-3)\n",
    "print(\"R = {0:.1f} ohms\".format(resistance))"
   ]
  },
  {
   "cell_type": "markdown",
   "metadata": {},
   "source": [
    "We end up with $R = 108.1 ~\\Omega$.\n",
    "\n",
    "The moral of this story is that we shouldn't be rounding anything until right at the end, otherwise we'll be introducing another source of uncertainty into our calculation. "
   ]
  },
  {
   "cell_type": "markdown",
   "metadata": {},
   "source": [
    "### Difference in $\\sigma_R$:\n",
    "\n",
    "The difference between our value of $\\sigma_R$ and the value in the ER worksheet is because the value quoted in ER is not actually $\\sigma_R$! \n",
    "\n",
    "On page 9 of the ER worksheet you'll see a table with the output of Excel's regression analysis. The values used to calculate the uncertainty in the slope and intercept here were the 95% confidence limits, `Lower 95%` and `Upper 95%`, with the result calculated as \n",
    "\n",
    "$$ M = m \\pm \\dfrac{U_{95\\%} - L_{95\\%}}{2} $$\n",
    "\n",
    "The uncertainties that are calculated by `curve_fit` are not the 95% confidence interval - they are the **standard error**. If you check the ER regression analysis table you'll see that the `Standard Error` values for the slope and intercept match your results for `err_slope` and `err_intercept`.\n",
    "\n",
    "We can propagate the uncertainty on the slope to find the standard error on the resistance, $\\sigma_R$ in the usual way, using\n",
    "\n",
    "$$ \\dfrac{\\sigma_R}{|R|} = \\dfrac{\\sigma_m}{|m|} $$\n",
    "\n",
    "to find the fractional uncertainty in $R$:"
   ]
  },
  {
   "cell_type": "code",
   "execution_count": 8,
   "metadata": {},
   "outputs": [
    {
     "name": "stdout",
     "output_type": "stream",
     "text": [
      "Fractional uncertainty in R = 0.032\n"
     ]
    }
   ],
   "source": [
    "frac_res_unc = err_slope / slope\n",
    "print(\"Fractional uncertainty in R = {0:.3f}\".format(frac_res_unc))"
   ]
  },
  {
   "cell_type": "markdown",
   "metadata": {},
   "source": [
    "finally calculating the standard error on the resistance using\n",
    "\n",
    "$$ \\sigma_R =  \\dfrac{|R| \\sigma_m}{|m|} $$"
   ]
  },
  {
   "cell_type": "code",
   "execution_count": 9,
   "metadata": {},
   "outputs": [
    {
     "name": "stdout",
     "output_type": "stream",
     "text": [
      "sigma R = 3.5\n"
     ]
    }
   ],
   "source": [
    "sigma_res = resistance * frac_res_unc\n",
    "print(\"sigma R = {0:.1f}\".format(sigma_res))"
   ]
  },
  {
   "cell_type": "markdown",
   "metadata": {},
   "source": [
    "So our final result is\n",
    "\n",
    "$$ R = 108.1 \\pm 3.5 ~\\Omega$$"
   ]
  },
  {
   "cell_type": "markdown",
   "metadata": {},
   "source": [
    "[back to the worksheets](ex-ohms-law)"
   ]
  },
  {
   "cell_type": "markdown",
   "metadata": {},
   "source": []
  }
 ],
 "metadata": {
  "kernelspec": {
   "display_name": "teaching_stable",
   "language": "python",
   "name": "python3"
  },
  "language_info": {
   "codemirror_mode": {
    "name": "ipython",
    "version": 3
   },
   "file_extension": ".py",
   "mimetype": "text/x-python",
   "name": "python",
   "nbconvert_exporter": "python",
   "pygments_lexer": "ipython3",
   "version": "3.8.15"
  },
  "orig_nbformat": 4
 },
 "nbformat": 4,
 "nbformat_minor": 2
}
