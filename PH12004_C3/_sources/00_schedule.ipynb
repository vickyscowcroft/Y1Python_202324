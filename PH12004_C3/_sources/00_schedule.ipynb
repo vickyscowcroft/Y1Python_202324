{
 "cells": [
  {
   "cell_type": "markdown",
   "metadata": {
    "slideshow": {
     "slide_type": "slide"
    }
   },
   "source": [
    "# Handling with data with Python and Pandas\n",
    "\n",
    "In this set of notebooks we'll be looking at how to work with data using `pandas`."
   ]
  },
  {
   "cell_type": "markdown",
   "metadata": {
    "slideshow": {
     "slide_type": "slide"
    }
   },
   "source": [
    "`````{admonition} Setup\n",
    ":class: setup\n",
    "\n",
    "\n",
    "**Remember**: You need to change to your `Scientific_Computing_S1` folder by entering\n",
    "\n",
    "```\n",
    "cd /d \"C:\\Users\\abc123\\OneDrive - University of Bath\\Scientific_Computing_S1\"\n",
    "```\n",
    "at the prompt, replacing `abc123` with your University user name.\n",
    "\n",
    "Once you've changed directory, start jupyter by entering\n",
    "\n",
    "```\n",
    "jupyter notebook\n",
    "```\n",
    "at the prompt.\n",
    "\n",
    "You should have a folder called `data` inside your `Scientific_Computing_S1` folder. Make sure you're creating this week's notebook inside the `Scientific_Computing_S1`  folder, **not** inside the `data` folder.\n",
    "\n",
    "### Do not close the anaconda prompt window!\n",
    "\n",
    "`````"
   ]
  },
  {
   "cell_type": "code",
   "execution_count": null,
   "metadata": {},
   "outputs": [],
   "source": []
  }
 ],
 "metadata": {
  "celltoolbar": "Slideshow",
  "kernelspec": {
   "display_name": "Python 3",
   "language": "python",
   "name": "python3"
  },
  "language_info": {
   "codemirror_mode": {
    "name": "ipython",
    "version": 3
   },
   "file_extension": ".py",
   "mimetype": "text/x-python",
   "name": "python",
   "nbconvert_exporter": "python",
   "pygments_lexer": "ipython3",
   "version": "3.7.10"
  }
 },
 "nbformat": 4,
 "nbformat_minor": 2
}
