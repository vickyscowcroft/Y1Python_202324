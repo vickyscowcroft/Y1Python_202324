{
 "cells": [
  {
   "cell_type": "markdown",
   "metadata": {},
   "source": [
    "# Introduction to `pandas`\n",
    "\n",
    "\n",
    "```{image} images/panda.jpeg\n",
    ":alt: a panda\n",
    ":width: 800px\n",
    ":align: center\n",
    "```"
   ]
  },
  {
   "cell_type": "markdown",
   "metadata": {
    "slideshow": {
     "slide_type": "subslide"
    }
   },
   "source": [
    "## Overview\n",
    "\n",
    "```{admonition} Questions\n",
    ":class: questions\n",
    "- What is `pandas?`\n",
    "- Why don't I get a real panda?\n",
    "- I'm disappointed. I was expecting a panda.\n",
    "```\n",
    "\n",
    "```{admonition} Objectives\n",
    ":class: objectives\n",
    "- Read in data from an csv file\n",
    "- `pandas dataframes`\n",
    "```"
   ]
  },
  {
   "cell_type": "markdown",
   "metadata": {
    "slideshow": {
     "slide_type": "slide"
    }
   },
   "source": [
    "## What is `pandas`?\n",
    "Unfortunately, this does not mean finding a panda to do our coding for us (although that would be amazing and if anyone knows a panda who could do this please let me know).\n",
    "\n",
    "Pandas is the **Python Data Analysis Library**. It can read pretty much anything you throw at it. If you've been putting your lab data into an excel spreadsheet, pandas can read it in so you can analyse and plot it. `pandas` is used commonly in science and industries such as data science; the skills you're developing here will be useful well beyond the lab units. More information about `pandas` can be found on the webpage [here](https://pandas.pydata.org/,\"pandas\")."
   ]
  },
  {
   "cell_type": "markdown",
   "metadata": {
    "slideshow": {
     "slide_type": "slide"
    }
   },
   "source": [
    "## Reading in data \n",
    "\n",
    "In C2 we started using `pandas` to read in data from files. This week we're going to continue using `pandas` and get stuck in to all the cool things it can do.  \n",
    "\n",
    "The data we used last week was all formatted nicely and worked well without us having to do much. However, it's often the case that we have data that **isn't** perfect. We may be using data that we didn't take ourselves, from an online database for example. The file could contain missing values that could make our analysis go wrong. We could be looking at a massive file and we might only want a few specific columns out of the hundreds in the file. `pandas` makes dealing with things like this a lot easier. \n",
    "\n",
    "```{admonition} Exercise: Download the data\n",
    ":class: practice\n",
    "The data we will be using today is a good example of 'imperfect' data. Download the [Exoplanet_catalog_2019.csv](./data/Exoplanet_catalog_2019.csv) file and save it to your `data` folder. \n",
    "```"
   ]
  },
  {
   "cell_type": "markdown",
   "metadata": {},
   "source": [
    "### `pandas` dataframes and reproducibility\n",
    "\n",
    "One of the main features of `pandas` is the way it handles data. The main data type for `pandas` is a **dataframe**. You can think of a dataframe like a table or an Excel spreadsheet. All the data is contained inside the dataframe and you can reference individual rows, columns and cells within the dataframe. \n",
    "\n",
    "If dataframes are like spreadsheets, why are we using them instead of Excel? Because we want to do **reproducible science**. When you write a lab report and describe your experimental setup and methodology you're making your work reproducible; another person should be able to take your lab report and reproduce the experiment you did. Historically, while scientists have been good about giving details of their experiments, there has been less emphasis on the reproducibility of the data analysis. However, the tide is turning and there is now much more importance placed on reproducible research and analysis. \n",
    "\n",
    "[Here](https://simplystatistics.org/2014/06/06/the-real-reason-reproducible-research-is-important/) is a nice blog post about why reproducible research is important. \n",
    "\n",
    "So why aren't we doing our analysis in Excel and just making sure that it's reproducible? Because it's hard. Excel makes it very easy to get started, typing in your data and perhaps making a quick plot, but it doesn't keep a record of what you've done. It's very easy to accidently edit your data without realising it, or to make a mistake referencing a cell and completely change your results. This isn't just a problem for science. In 2012 the bank JPMorgan lost \\$6.1 billion (yes, 6.1 billion dollars) due to an [Excel error](https://www.thekeycuts.com/dear-analyst-38-breaking-down-an-excel-error-that-led-to-six-billion-loss-at-jpmorgan-chase/). "
   ]
  },
  {
   "cell_type": "markdown",
   "metadata": {},
   "source": [
    "The first thing we need to do is `import pandas`. You'll often see the package name abbreviated to `pd` if you're looking online, so we'll stick with that convention."
   ]
  },
  {
   "cell_type": "code",
   "execution_count": 1,
   "metadata": {},
   "outputs": [],
   "source": [
    "import pandas as pd"
   ]
  },
  {
   "cell_type": "markdown",
   "metadata": {},
   "source": [
    "Next we can read in the file. We know it's a `csv` file from the filename, so we can use the `pd.read_csv` function. We assign the result of `pd.read_csv` to the name of our dataframe. I'm going to call our dataframe `exo_df`."
   ]
  },
  {
   "cell_type": "code",
   "execution_count": 2,
   "metadata": {},
   "outputs": [],
   "source": [
    "exo_df = pd.read_csv('./data/Exoplanet_catalog_2019.csv')"
   ]
  },
  {
   "cell_type": "markdown",
   "metadata": {},
   "source": [
    "We can now take a look at the dataframe:"
   ]
  },
  {
   "cell_type": "code",
   "execution_count": 3,
   "metadata": {},
   "outputs": [
    {
     "data": {
      "text/html": [
       "<div>\n",
       "<style scoped>\n",
       "    .dataframe tbody tr th:only-of-type {\n",
       "        vertical-align: middle;\n",
       "    }\n",
       "\n",
       "    .dataframe tbody tr th {\n",
       "        vertical-align: top;\n",
       "    }\n",
       "\n",
       "    .dataframe thead th {\n",
       "        text-align: right;\n",
       "    }\n",
       "</style>\n",
       "<table border=\"1\" class=\"dataframe\">\n",
       "  <thead>\n",
       "    <tr style=\"text-align: right;\">\n",
       "      <th></th>\n",
       "      <th># name</th>\n",
       "      <th>orbital_period</th>\n",
       "      <th>semi_major_axis</th>\n",
       "      <th>eccentricity</th>\n",
       "      <th>discovered</th>\n",
       "      <th>detection_type</th>\n",
       "      <th>star_name</th>\n",
       "      <th>star_distance</th>\n",
       "      <th>star_metallicity</th>\n",
       "      <th>star_mass</th>\n",
       "      <th>star_sp_type</th>\n",
       "    </tr>\n",
       "  </thead>\n",
       "  <tbody>\n",
       "    <tr>\n",
       "      <th>0</th>\n",
       "      <td>11 Com b</td>\n",
       "      <td>326.03000</td>\n",
       "      <td>1.2900</td>\n",
       "      <td>0.23100</td>\n",
       "      <td>2008.0</td>\n",
       "      <td>Radial Velocity</td>\n",
       "      <td>11 Com</td>\n",
       "      <td>110.60</td>\n",
       "      <td>-0.35</td>\n",
       "      <td>2.70</td>\n",
       "      <td>G8 III</td>\n",
       "    </tr>\n",
       "    <tr>\n",
       "      <th>1</th>\n",
       "      <td>11 UMi b</td>\n",
       "      <td>516.22000</td>\n",
       "      <td>1.5400</td>\n",
       "      <td>0.08000</td>\n",
       "      <td>2009.0</td>\n",
       "      <td>Radial Velocity</td>\n",
       "      <td>11 UMi</td>\n",
       "      <td>119.50</td>\n",
       "      <td>0.04</td>\n",
       "      <td>1.80</td>\n",
       "      <td>K4III</td>\n",
       "    </tr>\n",
       "    <tr>\n",
       "      <th>2</th>\n",
       "      <td>14 And b</td>\n",
       "      <td>185.84000</td>\n",
       "      <td>0.8300</td>\n",
       "      <td>0.00000</td>\n",
       "      <td>2008.0</td>\n",
       "      <td>Radial Velocity</td>\n",
       "      <td>14 And</td>\n",
       "      <td>76.40</td>\n",
       "      <td>-0.24</td>\n",
       "      <td>2.20</td>\n",
       "      <td>K0III</td>\n",
       "    </tr>\n",
       "    <tr>\n",
       "      <th>3</th>\n",
       "      <td>14 Her b</td>\n",
       "      <td>1773.40000</td>\n",
       "      <td>2.7700</td>\n",
       "      <td>0.36900</td>\n",
       "      <td>2002.0</td>\n",
       "      <td>Radial Velocity</td>\n",
       "      <td>14 Her</td>\n",
       "      <td>18.10</td>\n",
       "      <td>0.43</td>\n",
       "      <td>0.90</td>\n",
       "      <td>K0 V</td>\n",
       "    </tr>\n",
       "    <tr>\n",
       "      <th>4</th>\n",
       "      <td>16 Cyg B b</td>\n",
       "      <td>799.50000</td>\n",
       "      <td>1.6800</td>\n",
       "      <td>0.68900</td>\n",
       "      <td>1996.0</td>\n",
       "      <td>Radial Velocity</td>\n",
       "      <td>16 Cyg B</td>\n",
       "      <td>21.41</td>\n",
       "      <td>0.08</td>\n",
       "      <td>1.01</td>\n",
       "      <td>G2.5 V</td>\n",
       "    </tr>\n",
       "    <tr>\n",
       "      <th>...</th>\n",
       "      <td>...</td>\n",
       "      <td>...</td>\n",
       "      <td>...</td>\n",
       "      <td>...</td>\n",
       "      <td>...</td>\n",
       "      <td>...</td>\n",
       "      <td>...</td>\n",
       "      <td>...</td>\n",
       "      <td>...</td>\n",
       "      <td>...</td>\n",
       "      <td>...</td>\n",
       "    </tr>\n",
       "    <tr>\n",
       "      <th>3827</th>\n",
       "      <td>tau Gem b</td>\n",
       "      <td>305.50000</td>\n",
       "      <td>1.1700</td>\n",
       "      <td>0.03100</td>\n",
       "      <td>2004.0</td>\n",
       "      <td>Radial Velocity</td>\n",
       "      <td>tau Gem</td>\n",
       "      <td>98.40</td>\n",
       "      <td>0.14</td>\n",
       "      <td>2.30</td>\n",
       "      <td>K2III</td>\n",
       "    </tr>\n",
       "    <tr>\n",
       "      <th>3828</th>\n",
       "      <td>ups And b</td>\n",
       "      <td>4.61711</td>\n",
       "      <td>0.0590</td>\n",
       "      <td>0.01186</td>\n",
       "      <td>1996.0</td>\n",
       "      <td>Radial Velocity</td>\n",
       "      <td>ups And</td>\n",
       "      <td>13.47</td>\n",
       "      <td>0.09</td>\n",
       "      <td>1.27</td>\n",
       "      <td>F8 V</td>\n",
       "    </tr>\n",
       "    <tr>\n",
       "      <th>3829</th>\n",
       "      <td>ups And c</td>\n",
       "      <td>240.93700</td>\n",
       "      <td>0.8610</td>\n",
       "      <td>0.24450</td>\n",
       "      <td>1999.0</td>\n",
       "      <td>Radial Velocity</td>\n",
       "      <td>ups And</td>\n",
       "      <td>13.47</td>\n",
       "      <td>0.09</td>\n",
       "      <td>1.27</td>\n",
       "      <td>F8 V</td>\n",
       "    </tr>\n",
       "    <tr>\n",
       "      <th>3830</th>\n",
       "      <td>ups And d</td>\n",
       "      <td>1281.43900</td>\n",
       "      <td>2.5500</td>\n",
       "      <td>0.31600</td>\n",
       "      <td>1999.0</td>\n",
       "      <td>Radial Velocity</td>\n",
       "      <td>ups And</td>\n",
       "      <td>13.47</td>\n",
       "      <td>0.09</td>\n",
       "      <td>1.27</td>\n",
       "      <td>F8 V</td>\n",
       "    </tr>\n",
       "    <tr>\n",
       "      <th>3831</th>\n",
       "      <td>ups And e</td>\n",
       "      <td>3848.86000</td>\n",
       "      <td>5.2456</td>\n",
       "      <td>0.00536</td>\n",
       "      <td>2010.0</td>\n",
       "      <td>Radial Velocity</td>\n",
       "      <td>ups And</td>\n",
       "      <td>13.47</td>\n",
       "      <td>0.09</td>\n",
       "      <td>1.27</td>\n",
       "      <td>F8 V</td>\n",
       "    </tr>\n",
       "  </tbody>\n",
       "</table>\n",
       "<p>3832 rows × 11 columns</p>\n",
       "</div>"
      ],
      "text/plain": [
       "          # name  orbital_period  semi_major_axis  eccentricity  discovered  \\\n",
       "0       11 Com b       326.03000           1.2900       0.23100      2008.0   \n",
       "1       11 UMi b       516.22000           1.5400       0.08000      2009.0   \n",
       "2       14 And b       185.84000           0.8300       0.00000      2008.0   \n",
       "3       14 Her b      1773.40000           2.7700       0.36900      2002.0   \n",
       "4     16 Cyg B b       799.50000           1.6800       0.68900      1996.0   \n",
       "...          ...             ...              ...           ...         ...   \n",
       "3827   tau Gem b       305.50000           1.1700       0.03100      2004.0   \n",
       "3828   ups And b         4.61711           0.0590       0.01186      1996.0   \n",
       "3829   ups And c       240.93700           0.8610       0.24450      1999.0   \n",
       "3830   ups And d      1281.43900           2.5500       0.31600      1999.0   \n",
       "3831   ups And e      3848.86000           5.2456       0.00536      2010.0   \n",
       "\n",
       "       detection_type star_name  star_distance  star_metallicity  star_mass  \\\n",
       "0     Radial Velocity    11 Com         110.60             -0.35       2.70   \n",
       "1     Radial Velocity    11 UMi         119.50              0.04       1.80   \n",
       "2     Radial Velocity    14 And          76.40             -0.24       2.20   \n",
       "3     Radial Velocity    14 Her          18.10              0.43       0.90   \n",
       "4     Radial Velocity  16 Cyg B          21.41              0.08       1.01   \n",
       "...               ...       ...            ...               ...        ...   \n",
       "3827  Radial Velocity   tau Gem          98.40              0.14       2.30   \n",
       "3828  Radial Velocity   ups And          13.47              0.09       1.27   \n",
       "3829  Radial Velocity   ups And          13.47              0.09       1.27   \n",
       "3830  Radial Velocity   ups And          13.47              0.09       1.27   \n",
       "3831  Radial Velocity   ups And          13.47              0.09       1.27   \n",
       "\n",
       "     star_sp_type  \n",
       "0          G8 III  \n",
       "1           K4III  \n",
       "2           K0III  \n",
       "3            K0 V  \n",
       "4          G2.5 V  \n",
       "...           ...  \n",
       "3827        K2III  \n",
       "3828         F8 V  \n",
       "3829         F8 V  \n",
       "3830         F8 V  \n",
       "3831         F8 V  \n",
       "\n",
       "[3832 rows x 11 columns]"
      ]
     },
     "execution_count": 3,
     "metadata": {},
     "output_type": "execute_result"
    }
   ],
   "source": [
    "exo_df"
   ]
  },
  {
   "cell_type": "markdown",
   "metadata": {},
   "source": [
    "Oooh, fancy! "
   ]
  },
  {
   "cell_type": "markdown",
   "metadata": {},
   "source": [
    "One useful thing to check when you read in a file is what the names of the columns are. We can do this using"
   ]
  },
  {
   "cell_type": "code",
   "execution_count": 4,
   "metadata": {},
   "outputs": [
    {
     "data": {
      "text/plain": [
       "Index(['# name', 'orbital_period', 'semi_major_axis', 'eccentricity',\n",
       "       'discovered', 'detection_type', 'star_name', 'star_distance',\n",
       "       'star_metallicity', 'star_mass', 'star_sp_type'],\n",
       "      dtype='object')"
      ]
     },
     "execution_count": 4,
     "metadata": {},
     "output_type": "execute_result"
    }
   ],
   "source": [
    "exo_df.columns"
   ]
  },
  {
   "cell_type": "markdown",
   "metadata": {},
   "source": [
    "We can see above that the first column name looks a bit strange. It has a `#` at the start. This was most likely put there to denote this first line as a header line. Keeping that there is going to make things difficult later on, so we can change the name of this column using `rename`. We pass it the old and new names of the column as a dictionary (i.e. something of the format `key:value`). `inplace=True` tells it to edit the existing dataframe. If we didn't want to edit it we could create a new dataframe using \n",
    "```py\n",
    "new_df = exo_df.rename(columns={'# name':'name'})\n",
    "```\n",
    "which would leave the `exo_df` dataframe untouched. \n",
    "\n",
    "Once we've used `rename` we can check the column names again to make sure it's worked.\n"
   ]
  },
  {
   "cell_type": "code",
   "execution_count": 5,
   "metadata": {},
   "outputs": [],
   "source": [
    "exo_df.rename(columns={'# name':'name'}, inplace=True)"
   ]
  },
  {
   "cell_type": "code",
   "execution_count": 6,
   "metadata": {},
   "outputs": [
    {
     "data": {
      "text/plain": [
       "Index(['name', 'orbital_period', 'semi_major_axis', 'eccentricity',\n",
       "       'discovered', 'detection_type', 'star_name', 'star_distance',\n",
       "       'star_metallicity', 'star_mass', 'star_sp_type'],\n",
       "      dtype='object')"
      ]
     },
     "execution_count": 6,
     "metadata": {},
     "output_type": "execute_result"
    }
   ],
   "source": [
    "exo_df.columns"
   ]
  },
  {
   "cell_type": "markdown",
   "metadata": {},
   "source": [
    "### Dictionaries\n",
    "\n",
    "A `dictionary` is another type of Python variable. They are used to store collections of data in `key : value` pairs. \n",
    "\n",
    "An simple example of a dictionary is \n"
   ]
  },
  {
   "cell_type": "code",
   "execution_count": 7,
   "metadata": {},
   "outputs": [],
   "source": [
    "mydictionary = {'breed' : 'dog', 'name' : 'Branston', 'mood': 'grumpy'}"
   ]
  },
  {
   "cell_type": "code",
   "execution_count": 8,
   "metadata": {},
   "outputs": [
    {
     "data": {
      "text/plain": [
       "{'breed': 'dog', 'name': 'Branston', 'mood': 'grumpy'}"
      ]
     },
     "execution_count": 8,
     "metadata": {},
     "output_type": "execute_result"
    }
   ],
   "source": [
    "mydictionary"
   ]
  },
  {
   "cell_type": "code",
   "execution_count": 9,
   "metadata": {},
   "outputs": [
    {
     "data": {
      "text/plain": [
       "'Branston'"
      ]
     },
     "execution_count": 9,
     "metadata": {},
     "output_type": "execute_result"
    }
   ],
   "source": [
    "mydictionary['name']"
   ]
  },
  {
   "cell_type": "markdown",
   "metadata": {},
   "source": [
    "Dictionaries are useful for lots of different things, but the main thing we'll be using them for is dealing with column names. "
   ]
  },
  {
   "cell_type": "markdown",
   "metadata": {},
   "source": [
    "```{admonition} Your data is safe with dataframes\n",
    ":class: myinfo\n",
    "\n",
    "It might seem counterintuitive to edit the column names in a dataframe when we said at the start that editing data is bad practice. However, all we're doing here only affects the dataframe. The original csv file hasn't been touched. If we realise we've made a mistake we can always start again from our original data. \n",
    "\n",
    "```"
   ]
  },
  {
   "cell_type": "markdown",
   "metadata": {},
   "source": [
    "Dataframes work similar to how arrays do. We can access rows or columns by indexing and slicing, just as with arrays. \n",
    "\n",
    "However, rather than remember which column corresponds to which variable, we can pass the column name. So, if we wanted to select the `orbital_period` column, we just use"
   ]
  },
  {
   "cell_type": "code",
   "execution_count": 10,
   "metadata": {},
   "outputs": [
    {
     "data": {
      "text/plain": [
       "0        326.03000\n",
       "1        516.22000\n",
       "2        185.84000\n",
       "3       1773.40000\n",
       "4        799.50000\n",
       "           ...    \n",
       "3827     305.50000\n",
       "3828       4.61711\n",
       "3829     240.93700\n",
       "3830    1281.43900\n",
       "3831    3848.86000\n",
       "Name: orbital_period, Length: 3832, dtype: float64"
      ]
     },
     "execution_count": 10,
     "metadata": {},
     "output_type": "execute_result"
    }
   ],
   "source": [
    "exo_df['orbital_period']"
   ]
  },
  {
   "cell_type": "markdown",
   "metadata": {},
   "source": [
    "We can pass several column names if we want to select multiple things. The column names can be in any order, as long as we pass an array of names inside the brackets. Remember that an array is a list enclosed in square brackets, so we'll need an extra set:"
   ]
  },
  {
   "cell_type": "code",
   "execution_count": 11,
   "metadata": {},
   "outputs": [
    {
     "data": {
      "text/html": [
       "<div>\n",
       "<style scoped>\n",
       "    .dataframe tbody tr th:only-of-type {\n",
       "        vertical-align: middle;\n",
       "    }\n",
       "\n",
       "    .dataframe tbody tr th {\n",
       "        vertical-align: top;\n",
       "    }\n",
       "\n",
       "    .dataframe thead th {\n",
       "        text-align: right;\n",
       "    }\n",
       "</style>\n",
       "<table border=\"1\" class=\"dataframe\">\n",
       "  <thead>\n",
       "    <tr style=\"text-align: right;\">\n",
       "      <th></th>\n",
       "      <th>orbital_period</th>\n",
       "      <th>name</th>\n",
       "      <th>detection_type</th>\n",
       "    </tr>\n",
       "  </thead>\n",
       "  <tbody>\n",
       "    <tr>\n",
       "      <th>0</th>\n",
       "      <td>326.03000</td>\n",
       "      <td>11 Com b</td>\n",
       "      <td>Radial Velocity</td>\n",
       "    </tr>\n",
       "    <tr>\n",
       "      <th>1</th>\n",
       "      <td>516.22000</td>\n",
       "      <td>11 UMi b</td>\n",
       "      <td>Radial Velocity</td>\n",
       "    </tr>\n",
       "    <tr>\n",
       "      <th>2</th>\n",
       "      <td>185.84000</td>\n",
       "      <td>14 And b</td>\n",
       "      <td>Radial Velocity</td>\n",
       "    </tr>\n",
       "    <tr>\n",
       "      <th>3</th>\n",
       "      <td>1773.40000</td>\n",
       "      <td>14 Her b</td>\n",
       "      <td>Radial Velocity</td>\n",
       "    </tr>\n",
       "    <tr>\n",
       "      <th>4</th>\n",
       "      <td>799.50000</td>\n",
       "      <td>16 Cyg B b</td>\n",
       "      <td>Radial Velocity</td>\n",
       "    </tr>\n",
       "    <tr>\n",
       "      <th>...</th>\n",
       "      <td>...</td>\n",
       "      <td>...</td>\n",
       "      <td>...</td>\n",
       "    </tr>\n",
       "    <tr>\n",
       "      <th>3827</th>\n",
       "      <td>305.50000</td>\n",
       "      <td>tau Gem b</td>\n",
       "      <td>Radial Velocity</td>\n",
       "    </tr>\n",
       "    <tr>\n",
       "      <th>3828</th>\n",
       "      <td>4.61711</td>\n",
       "      <td>ups And b</td>\n",
       "      <td>Radial Velocity</td>\n",
       "    </tr>\n",
       "    <tr>\n",
       "      <th>3829</th>\n",
       "      <td>240.93700</td>\n",
       "      <td>ups And c</td>\n",
       "      <td>Radial Velocity</td>\n",
       "    </tr>\n",
       "    <tr>\n",
       "      <th>3830</th>\n",
       "      <td>1281.43900</td>\n",
       "      <td>ups And d</td>\n",
       "      <td>Radial Velocity</td>\n",
       "    </tr>\n",
       "    <tr>\n",
       "      <th>3831</th>\n",
       "      <td>3848.86000</td>\n",
       "      <td>ups And e</td>\n",
       "      <td>Radial Velocity</td>\n",
       "    </tr>\n",
       "  </tbody>\n",
       "</table>\n",
       "<p>3832 rows × 3 columns</p>\n",
       "</div>"
      ],
      "text/plain": [
       "      orbital_period        name   detection_type\n",
       "0          326.03000    11 Com b  Radial Velocity\n",
       "1          516.22000    11 UMi b  Radial Velocity\n",
       "2          185.84000    14 And b  Radial Velocity\n",
       "3         1773.40000    14 Her b  Radial Velocity\n",
       "4          799.50000  16 Cyg B b  Radial Velocity\n",
       "...              ...         ...              ...\n",
       "3827       305.50000   tau Gem b  Radial Velocity\n",
       "3828         4.61711   ups And b  Radial Velocity\n",
       "3829       240.93700   ups And c  Radial Velocity\n",
       "3830      1281.43900   ups And d  Radial Velocity\n",
       "3831      3848.86000   ups And e  Radial Velocity\n",
       "\n",
       "[3832 rows x 3 columns]"
      ]
     },
     "execution_count": 11,
     "metadata": {},
     "output_type": "execute_result"
    }
   ],
   "source": [
    "exo_df[['orbital_period', 'name', 'detection_type']]"
   ]
  },
  {
   "cell_type": "markdown",
   "metadata": {},
   "source": [
    "`````{admonition} Exercise: Break it on purpose\n",
    ":class:\n",
    "\n",
    "In a new cell, try to select the columns again, but this time only use one set of brackets, i.e.,\n",
    "\n",
    "```py\n",
    "exo_df['orbital_period', 'name', 'detection_type']\n",
    "```\n",
    "\n",
    " What does the error message say? Do you understand how the error message corresponds to what you've done? This may seem a slightly pointless exercise given that you know why the command doesn't work, but learning to interpret error messages is a crucial skill in coding. As you may have found already, error messages aren't always crystal clear and you'll sometimes have to dig a little to see what the real problem is. \n",
    " `````"
   ]
  },
  {
   "cell_type": "markdown",
   "metadata": {},
   "source": [
    "(cond-sel)=\n",
    "## Conditional selection\n",
    "\n",
    "The data we've read in contains information about exoplanets. Exoplanets are planets that are orbiting stars other than our Sun. There are a few different ways to detect exoplanets. To see which techniques are included in our data we can use a function called `unique()`."
   ]
  },
  {
   "cell_type": "code",
   "execution_count": 12,
   "metadata": {},
   "outputs": [
    {
     "data": {
      "text/plain": [
       "array(['Radial Velocity', 'Primary Transit'], dtype=object)"
      ]
     },
     "execution_count": 12,
     "metadata": {},
     "output_type": "execute_result"
    }
   ],
   "source": [
    "exo_df.detection_type.unique()"
   ]
  },
  {
   "cell_type": "markdown",
   "metadata": {},
   "source": [
    "`unique()` tells us all the unique values in the column. From this we know that there are two possible values in the `detection_type` column: `'Radial Velocity'` and `'Primary Transit'`. "
   ]
  },
  {
   "cell_type": "markdown",
   "metadata": {},
   "source": [
    "\n",
    "What if we were only interested in the objects in the table that we detected using the Radial Velocity technique? We should be able to select those rows using the same logical conditions we've used in previous worksheets (see worksheet C1 if you want a refresher on how logical conditions work). \n"
   ]
  },
  {
   "cell_type": "code",
   "execution_count": 13,
   "metadata": {},
   "outputs": [
    {
     "data": {
      "text/plain": [
       "0       True\n",
       "1       True\n",
       "2       True\n",
       "3       True\n",
       "4       True\n",
       "        ... \n",
       "3827    True\n",
       "3828    True\n",
       "3829    True\n",
       "3830    True\n",
       "3831    True\n",
       "Name: detection_type, Length: 3832, dtype: bool"
      ]
     },
     "execution_count": 13,
     "metadata": {},
     "output_type": "execute_result"
    }
   ],
   "source": [
    "exo_df['detection_type']=='Radial Velocity'"
   ]
  },
  {
   "cell_type": "markdown",
   "metadata": {},
   "source": [
    "Here `pandas` is going through the `detection_type` column row by row and evaluating the logical expression, returning `True` or `False`. Which is fine, but all that does is tell us which used Radial Velocity and which didn't. \n",
    "\n",
    "If we want to get all the information about the Radial Velocity objects we have to do a similar thing as we did when we wanted to select several columns. Rather than using `exo_df[[columns_we_want]]`, we're telling it which rows we want using the code from the cell above:"
   ]
  },
  {
   "cell_type": "code",
   "execution_count": 14,
   "metadata": {},
   "outputs": [
    {
     "data": {
      "text/html": [
       "<div>\n",
       "<style scoped>\n",
       "    .dataframe tbody tr th:only-of-type {\n",
       "        vertical-align: middle;\n",
       "    }\n",
       "\n",
       "    .dataframe tbody tr th {\n",
       "        vertical-align: top;\n",
       "    }\n",
       "\n",
       "    .dataframe thead th {\n",
       "        text-align: right;\n",
       "    }\n",
       "</style>\n",
       "<table border=\"1\" class=\"dataframe\">\n",
       "  <thead>\n",
       "    <tr style=\"text-align: right;\">\n",
       "      <th></th>\n",
       "      <th>name</th>\n",
       "      <th>orbital_period</th>\n",
       "      <th>semi_major_axis</th>\n",
       "      <th>eccentricity</th>\n",
       "      <th>discovered</th>\n",
       "      <th>detection_type</th>\n",
       "      <th>star_name</th>\n",
       "      <th>star_distance</th>\n",
       "      <th>star_metallicity</th>\n",
       "      <th>star_mass</th>\n",
       "      <th>star_sp_type</th>\n",
       "    </tr>\n",
       "  </thead>\n",
       "  <tbody>\n",
       "    <tr>\n",
       "      <th>0</th>\n",
       "      <td>11 Com b</td>\n",
       "      <td>326.03000</td>\n",
       "      <td>1.2900</td>\n",
       "      <td>0.23100</td>\n",
       "      <td>2008.0</td>\n",
       "      <td>Radial Velocity</td>\n",
       "      <td>11 Com</td>\n",
       "      <td>110.60</td>\n",
       "      <td>-0.35</td>\n",
       "      <td>2.70</td>\n",
       "      <td>G8 III</td>\n",
       "    </tr>\n",
       "    <tr>\n",
       "      <th>1</th>\n",
       "      <td>11 UMi b</td>\n",
       "      <td>516.22000</td>\n",
       "      <td>1.5400</td>\n",
       "      <td>0.08000</td>\n",
       "      <td>2009.0</td>\n",
       "      <td>Radial Velocity</td>\n",
       "      <td>11 UMi</td>\n",
       "      <td>119.50</td>\n",
       "      <td>0.04</td>\n",
       "      <td>1.80</td>\n",
       "      <td>K4III</td>\n",
       "    </tr>\n",
       "    <tr>\n",
       "      <th>2</th>\n",
       "      <td>14 And b</td>\n",
       "      <td>185.84000</td>\n",
       "      <td>0.8300</td>\n",
       "      <td>0.00000</td>\n",
       "      <td>2008.0</td>\n",
       "      <td>Radial Velocity</td>\n",
       "      <td>14 And</td>\n",
       "      <td>76.40</td>\n",
       "      <td>-0.24</td>\n",
       "      <td>2.20</td>\n",
       "      <td>K0III</td>\n",
       "    </tr>\n",
       "    <tr>\n",
       "      <th>3</th>\n",
       "      <td>14 Her b</td>\n",
       "      <td>1773.40000</td>\n",
       "      <td>2.7700</td>\n",
       "      <td>0.36900</td>\n",
       "      <td>2002.0</td>\n",
       "      <td>Radial Velocity</td>\n",
       "      <td>14 Her</td>\n",
       "      <td>18.10</td>\n",
       "      <td>0.43</td>\n",
       "      <td>0.90</td>\n",
       "      <td>K0 V</td>\n",
       "    </tr>\n",
       "    <tr>\n",
       "      <th>4</th>\n",
       "      <td>16 Cyg B b</td>\n",
       "      <td>799.50000</td>\n",
       "      <td>1.6800</td>\n",
       "      <td>0.68900</td>\n",
       "      <td>1996.0</td>\n",
       "      <td>Radial Velocity</td>\n",
       "      <td>16 Cyg B</td>\n",
       "      <td>21.41</td>\n",
       "      <td>0.08</td>\n",
       "      <td>1.01</td>\n",
       "      <td>G2.5 V</td>\n",
       "    </tr>\n",
       "    <tr>\n",
       "      <th>...</th>\n",
       "      <td>...</td>\n",
       "      <td>...</td>\n",
       "      <td>...</td>\n",
       "      <td>...</td>\n",
       "      <td>...</td>\n",
       "      <td>...</td>\n",
       "      <td>...</td>\n",
       "      <td>...</td>\n",
       "      <td>...</td>\n",
       "      <td>...</td>\n",
       "      <td>...</td>\n",
       "    </tr>\n",
       "    <tr>\n",
       "      <th>3827</th>\n",
       "      <td>tau Gem b</td>\n",
       "      <td>305.50000</td>\n",
       "      <td>1.1700</td>\n",
       "      <td>0.03100</td>\n",
       "      <td>2004.0</td>\n",
       "      <td>Radial Velocity</td>\n",
       "      <td>tau Gem</td>\n",
       "      <td>98.40</td>\n",
       "      <td>0.14</td>\n",
       "      <td>2.30</td>\n",
       "      <td>K2III</td>\n",
       "    </tr>\n",
       "    <tr>\n",
       "      <th>3828</th>\n",
       "      <td>ups And b</td>\n",
       "      <td>4.61711</td>\n",
       "      <td>0.0590</td>\n",
       "      <td>0.01186</td>\n",
       "      <td>1996.0</td>\n",
       "      <td>Radial Velocity</td>\n",
       "      <td>ups And</td>\n",
       "      <td>13.47</td>\n",
       "      <td>0.09</td>\n",
       "      <td>1.27</td>\n",
       "      <td>F8 V</td>\n",
       "    </tr>\n",
       "    <tr>\n",
       "      <th>3829</th>\n",
       "      <td>ups And c</td>\n",
       "      <td>240.93700</td>\n",
       "      <td>0.8610</td>\n",
       "      <td>0.24450</td>\n",
       "      <td>1999.0</td>\n",
       "      <td>Radial Velocity</td>\n",
       "      <td>ups And</td>\n",
       "      <td>13.47</td>\n",
       "      <td>0.09</td>\n",
       "      <td>1.27</td>\n",
       "      <td>F8 V</td>\n",
       "    </tr>\n",
       "    <tr>\n",
       "      <th>3830</th>\n",
       "      <td>ups And d</td>\n",
       "      <td>1281.43900</td>\n",
       "      <td>2.5500</td>\n",
       "      <td>0.31600</td>\n",
       "      <td>1999.0</td>\n",
       "      <td>Radial Velocity</td>\n",
       "      <td>ups And</td>\n",
       "      <td>13.47</td>\n",
       "      <td>0.09</td>\n",
       "      <td>1.27</td>\n",
       "      <td>F8 V</td>\n",
       "    </tr>\n",
       "    <tr>\n",
       "      <th>3831</th>\n",
       "      <td>ups And e</td>\n",
       "      <td>3848.86000</td>\n",
       "      <td>5.2456</td>\n",
       "      <td>0.00536</td>\n",
       "      <td>2010.0</td>\n",
       "      <td>Radial Velocity</td>\n",
       "      <td>ups And</td>\n",
       "      <td>13.47</td>\n",
       "      <td>0.09</td>\n",
       "      <td>1.27</td>\n",
       "      <td>F8 V</td>\n",
       "    </tr>\n",
       "  </tbody>\n",
       "</table>\n",
       "<p>863 rows × 11 columns</p>\n",
       "</div>"
      ],
      "text/plain": [
       "            name  orbital_period  semi_major_axis  eccentricity  discovered  \\\n",
       "0       11 Com b       326.03000           1.2900       0.23100      2008.0   \n",
       "1       11 UMi b       516.22000           1.5400       0.08000      2009.0   \n",
       "2       14 And b       185.84000           0.8300       0.00000      2008.0   \n",
       "3       14 Her b      1773.40000           2.7700       0.36900      2002.0   \n",
       "4     16 Cyg B b       799.50000           1.6800       0.68900      1996.0   \n",
       "...          ...             ...              ...           ...         ...   \n",
       "3827   tau Gem b       305.50000           1.1700       0.03100      2004.0   \n",
       "3828   ups And b         4.61711           0.0590       0.01186      1996.0   \n",
       "3829   ups And c       240.93700           0.8610       0.24450      1999.0   \n",
       "3830   ups And d      1281.43900           2.5500       0.31600      1999.0   \n",
       "3831   ups And e      3848.86000           5.2456       0.00536      2010.0   \n",
       "\n",
       "       detection_type star_name  star_distance  star_metallicity  star_mass  \\\n",
       "0     Radial Velocity    11 Com         110.60             -0.35       2.70   \n",
       "1     Radial Velocity    11 UMi         119.50              0.04       1.80   \n",
       "2     Radial Velocity    14 And          76.40             -0.24       2.20   \n",
       "3     Radial Velocity    14 Her          18.10              0.43       0.90   \n",
       "4     Radial Velocity  16 Cyg B          21.41              0.08       1.01   \n",
       "...               ...       ...            ...               ...        ...   \n",
       "3827  Radial Velocity   tau Gem          98.40              0.14       2.30   \n",
       "3828  Radial Velocity   ups And          13.47              0.09       1.27   \n",
       "3829  Radial Velocity   ups And          13.47              0.09       1.27   \n",
       "3830  Radial Velocity   ups And          13.47              0.09       1.27   \n",
       "3831  Radial Velocity   ups And          13.47              0.09       1.27   \n",
       "\n",
       "     star_sp_type  \n",
       "0          G8 III  \n",
       "1           K4III  \n",
       "2           K0III  \n",
       "3            K0 V  \n",
       "4          G2.5 V  \n",
       "...           ...  \n",
       "3827        K2III  \n",
       "3828         F8 V  \n",
       "3829         F8 V  \n",
       "3830         F8 V  \n",
       "3831         F8 V  \n",
       "\n",
       "[863 rows x 11 columns]"
      ]
     },
     "execution_count": 14,
     "metadata": {},
     "output_type": "execute_result"
    }
   ],
   "source": [
    "exo_df[exo_df['detection_type']=='Radial Velocity']"
   ]
  },
  {
   "cell_type": "markdown",
   "metadata": {},
   "source": [
    "Now we have all the data from all of the rows where `detection_type` is Radial Velocity. "
   ]
  },
  {
   "cell_type": "markdown",
   "metadata": {},
   "source": [
    "(ex-select-data)=\n",
    "```{admonition} Exercise: Selecting data\n",
    ":class: practice\n",
    "Select all the objects from the dataframe that have an orbital period longer than 250 days.\n",
    "\n",
    "Select all the objects that have an eccentricity below 0.15.\n",
    "\n",
    "Finally, select all the objects that have an orbital period longer than 250 days **and** have eccentricity below 0.15.\n",
    "\n",
    "**Hint** Remember you can use `.columns` to check the names of the columns in your data. Make sure you're writing the names exactly as they appear in the table. \n",
    "\n",
    "[solution](soln_selecting_data.ipynb)\n",
    "```"
   ]
  },
  {
   "cell_type": "markdown",
   "metadata": {
    "slideshow": {
     "slide_type": "slide"
    }
   },
   "source": [
    "## Key Points\n",
    "- Use the `pandas` package to work with data files such as spreadsheets without editing the original data.\n",
    "- Dataframes are similar to arrays. You can access the data within them using the same methods as you use for arrays."
   ]
  },
  {
   "cell_type": "code",
   "execution_count": null,
   "metadata": {},
   "outputs": [],
   "source": []
  }
 ],
 "metadata": {
  "celltoolbar": "Slideshow",
  "kernelspec": {
   "display_name": "Python 3",
   "language": "python",
   "name": "python3"
  },
  "language_info": {
   "codemirror_mode": {
    "name": "ipython",
    "version": 3
   },
   "file_extension": ".py",
   "mimetype": "text/x-python",
   "name": "python",
   "nbconvert_exporter": "python",
   "pygments_lexer": "ipython3",
   "version": "3.8.15"
  }
 },
 "nbformat": 4,
 "nbformat_minor": 2
}
