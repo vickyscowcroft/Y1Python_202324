{
 "cells": [
  {
   "cell_type": "markdown",
   "metadata": {
    "slideshow": {
     "slide_type": "slide"
    }
   },
   "source": [
    "# Python objects"
   ]
  },
  {
   "cell_type": "markdown",
   "metadata": {
    "slideshow": {
     "slide_type": "slide"
    }
   },
   "source": [
    "## Overview\n",
    "\n",
    "```{admonition} Questions\n",
    ":class: questions\n",
    "- What is an object?\n",
    "- What is an attribute?\n",
    "- What is a method?\n",
    "```\n",
    "```{admonition} Objectives\n",
    ":class: objectives\n",
    "- Use the methods built in to your dataframe\n",
    "- Access the attributes of your dataframe\n",
    "```"
   ]
  },
  {
   "cell_type": "markdown",
   "metadata": {},
   "source": [
    "## Object oriented programming\n",
    "\n",
    "You may have heard Python referred to as an **object-oriented** programming language. Object oriented means that programs are designed around **objects**, which can contain data and code. The data are often referred to as **fields** (or properties), with the functions associated with an object often called **methods**. The fields and methods belonging to an object are called **attributes**.\n",
    "\n",
    "This is a lot of jargon for one cell, so lets see what this means in practice. "
   ]
  },
  {
   "cell_type": "markdown",
   "metadata": {},
   "source": [
    "## Classes\n",
    "\n",
    "Any object in python will belong to a `class`. The dataframes we've been using this week are all objects belonging to the dataframe class. Classes tell us what kind of data and code are associated with an object. \n",
    "\n",
    "To illustrate what we mean we're going to create a new class of objects called `Robot`. \n",
    "\n",
    "Copy the following cell into your notebook and run it. We'll run some more code in the following cells to see what's actually going on. \n"
   ]
  },
  {
   "cell_type": "code",
   "execution_count": 1,
   "metadata": {},
   "outputs": [],
   "source": [
    "class Robot:\n",
    "    # Represents a robot, with a name\n",
    "    \n",
    "    population = 0\n",
    "    # this variable counts the total number of robots we have\n",
    "    \n",
    "    def __init__(self, name):\n",
    "        \n",
    "        ## this initialises our data\n",
    "        self.name = name\n",
    "        print(\"Initialising {}\".format(self.name))\n",
    "        \n",
    "        # when we add a robot we increase the population of robots\n",
    "        Robot.population += 1\n",
    "        \n",
    "    def die(self):\n",
    "        # This function kills robots :(\n",
    "        print(\"{} is being destroyed!\".format(self.name))\n",
    "        \n",
    "        Robot.population -= 1\n",
    "        \n",
    "        if Robot.population == 0:\n",
    "            print(\"{} was the last robot :(\".format(self.name))\n",
    "        else:\n",
    "            print(\"There are still {:d} robots left\".format(Robot.population))\n",
    "    \n",
    "    def say_hi(self):\n",
    "        # this makes the robot say hello\n",
    "        print(\"Greetings! My name is {}.\".format(self.name))\n",
    "        "
   ]
  },
  {
   "cell_type": "markdown",
   "metadata": {},
   "source": [
    "In the cell above we've created the `Robot` class. We've given it a variable called `name` that corresponds to the name of the each robot. We've also created a class variable called `population` that counts all the robots we have. \n",
    "\n",
    "We've also made two methods: `die` and `say_hi`. Lets see how to use each of these.\n"
   ]
  },
  {
   "cell_type": "markdown",
   "metadata": {},
   "source": [
    "The first step is to create a new robot:"
   ]
  },
  {
   "cell_type": "code",
   "execution_count": 2,
   "metadata": {},
   "outputs": [
    {
     "name": "stdout",
     "output_type": "stream",
     "text": [
      "Initialising R2-D2\n"
     ]
    }
   ],
   "source": [
    "droid1 = Robot(\"R2-D2\")"
   ]
  },
  {
   "cell_type": "markdown",
   "metadata": {},
   "source": [
    "In the cell above we've created a variable called `droid1` that contains a `Robot` object with the name \"R2-D2\""
   ]
  },
  {
   "cell_type": "markdown",
   "metadata": {},
   "source": [
    "We can use the `say_hi` method to get our robot to say hello:"
   ]
  },
  {
   "cell_type": "code",
   "execution_count": 3,
   "metadata": {},
   "outputs": [
    {
     "name": "stdout",
     "output_type": "stream",
     "text": [
      "Greetings! My name is R2-D2.\n"
     ]
    }
   ],
   "source": [
    "droid1.say_hi()"
   ]
  },
  {
   "cell_type": "markdown",
   "metadata": {},
   "source": [
    "The `.` between `droid1` and `say_hi()` tells us that `say_hi()` is a method related to our variable. You've seen things like this before - for example:\n",
    "\n",
    "```python\n",
    "x = np.array([0,1,2,3,4])\n",
    "x.max()\n",
    "``` \n",
    "gives us the maximum value of the `x` array - `max()` is an method of our numpy array. "
   ]
  },
  {
   "cell_type": "markdown",
   "metadata": {},
   "source": [
    "Let make some more robots!"
   ]
  },
  {
   "cell_type": "code",
   "execution_count": 4,
   "metadata": {},
   "outputs": [
    {
     "name": "stdout",
     "output_type": "stream",
     "text": [
      "Initialising C-3PO\n"
     ]
    }
   ],
   "source": [
    "droid2 = Robot(\"C-3PO\")"
   ]
  },
  {
   "cell_type": "code",
   "execution_count": 5,
   "metadata": {},
   "outputs": [
    {
     "name": "stdout",
     "output_type": "stream",
     "text": [
      "Greetings! My name is C-3PO.\n"
     ]
    }
   ],
   "source": [
    "droid2.say_hi()"
   ]
  },
  {
   "cell_type": "code",
   "execution_count": 6,
   "metadata": {},
   "outputs": [
    {
     "name": "stdout",
     "output_type": "stream",
     "text": [
      "Initialising Jonny 5\n"
     ]
    }
   ],
   "source": [
    "droid3 = Robot(\"Jonny 5\")\n"
   ]
  },
  {
   "cell_type": "markdown",
   "metadata": {},
   "source": [
    "As well as our functions we also have data stored in our robots. All the robots have an attribute called `name`"
   ]
  },
  {
   "cell_type": "code",
   "execution_count": 7,
   "metadata": {},
   "outputs": [
    {
     "data": {
      "text/plain": [
       "'R2-D2'"
      ]
     },
     "execution_count": 7,
     "metadata": {},
     "output_type": "execute_result"
    }
   ],
   "source": [
    "droid1.name"
   ]
  },
  {
   "cell_type": "code",
   "execution_count": 8,
   "metadata": {},
   "outputs": [
    {
     "data": {
      "text/plain": [
       "'C-3PO'"
      ]
     },
     "execution_count": 8,
     "metadata": {},
     "output_type": "execute_result"
    }
   ],
   "source": [
    "droid2.name"
   ]
  },
  {
   "cell_type": "code",
   "execution_count": 9,
   "metadata": {},
   "outputs": [
    {
     "data": {
      "text/plain": [
       "'Jonny 5'"
      ]
     },
     "execution_count": 9,
     "metadata": {},
     "output_type": "execute_result"
    }
   ],
   "source": [
    "droid3.name"
   ]
  },
  {
   "cell_type": "markdown",
   "metadata": {},
   "source": [
    "Notice that when we're asking for the data associated with an object we don't need the brackets at the end. "
   ]
  },
  {
   "cell_type": "markdown",
   "metadata": {},
   "source": [
    "```{admonition} Exercise: Break stuff!\n",
    ":class: practice\n",
    "Test out the different attributes for the robots. Try calling the `say_hi` function without any brackets. Try adding brackets to the `name` attribute. Take a note of what any error messages or output says. \n",
    "```"
   ]
  },
  {
   "cell_type": "markdown",
   "metadata": {},
   "source": [
    "We can access the attributes of any object in a similar way. For example, \n",
    "\n",
    "```python\n",
    "planet_df.orbital_period\n",
    "```\n",
    "is another way of accessing the `orbital_period` column in the `planet_df` dataframe. Each of our columns becomes an attribute of the dataframe object.\n",
    "\n",
    "We can access the methods of a dataframe in a similar way:\n",
    "\n",
    "```python\n",
    "planet_df.orbital_period.max()\n",
    "```\n",
    "will give us the maximum value in the `orbital_period` column. \n",
    "\n"
   ]
  },
  {
   "cell_type": "markdown",
   "metadata": {},
   "source": [
    "Now we have some robots, lets destroy them!"
   ]
  },
  {
   "cell_type": "code",
   "execution_count": 10,
   "metadata": {},
   "outputs": [
    {
     "name": "stdout",
     "output_type": "stream",
     "text": [
      "R2-D2 is being destroyed!\n",
      "There are still 2 robots left\n"
     ]
    }
   ],
   "source": [
    "droid1.die()"
   ]
  },
  {
   "cell_type": "code",
   "execution_count": 11,
   "metadata": {},
   "outputs": [
    {
     "name": "stdout",
     "output_type": "stream",
     "text": [
      "C-3PO is being destroyed!\n",
      "There are still 1 robots left\n"
     ]
    }
   ],
   "source": [
    "droid2.die()"
   ]
  },
  {
   "cell_type": "code",
   "execution_count": 12,
   "metadata": {},
   "outputs": [
    {
     "name": "stdout",
     "output_type": "stream",
     "text": [
      "Jonny 5 is being destroyed!\n",
      "Jonny 5 was the last robot :(\n"
     ]
    }
   ],
   "source": [
    "droid3.die()"
   ]
  },
  {
   "cell_type": "markdown",
   "metadata": {},
   "source": [
    "```{admonition} Exercise: Review of attributes\n",
    ":class: practice\n",
    "\n",
    "Go back through the previous sections in this worksheet and find where you've been using attributes of dataframes. Make notes in your notebook about which attributes you've used, which of these are methods and which contain data. \n",
    "```"
   ]
  },
  {
   "cell_type": "markdown",
   "metadata": {
    "slideshow": {
     "slide_type": "slide"
    }
   },
   "source": [
    "## Key Points\n",
    "- Python is an example of an **object-oriented** language\n",
    "- All objects have **attributes** that can be either data or functions (methods)\n",
    "- You can access the attributes of an object using `.`"
   ]
  },
  {
   "cell_type": "code",
   "execution_count": null,
   "metadata": {},
   "outputs": [],
   "source": []
  }
 ],
 "metadata": {
  "celltoolbar": "Slideshow",
  "kernelspec": {
   "display_name": "Python 3",
   "language": "python",
   "name": "python3"
  },
  "language_info": {
   "codemirror_mode": {
    "name": "ipython",
    "version": 3
   },
   "file_extension": ".py",
   "mimetype": "text/x-python",
   "name": "python",
   "nbconvert_exporter": "python",
   "pygments_lexer": "ipython3",
   "version": "3.8.15"
  }
 },
 "nbformat": 4,
 "nbformat_minor": 2
}
