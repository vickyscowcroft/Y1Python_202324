{
 "cells": [
  {
   "cell_type": "code",
   "execution_count": 4,
   "metadata": {
    "tags": [
     "remove-cell"
    ]
   },
   "outputs": [],
   "source": [
    "import pandas as pd\n",
    "import matplotlib.pyplot as plt\n",
    "import numpy as np\n",
    "from scipy.optimize import curve_fit\n",
    "\n",
    "%config InlineBackend.figure_format = 'retina'\n",
    "%matplotlib inline\n",
    "\n",
    "plt.rcParams.update({'font.size':16}) "
   ]
  },
  {
   "cell_type": "markdown",
   "metadata": {
    "slideshow": {
     "slide_type": "slide"
    }
   },
   "source": [
    "# Further exercises with `pandas`"
   ]
  },
  {
   "cell_type": "markdown",
   "metadata": {
    "slideshow": {
     "slide_type": "slide"
    }
   },
   "source": [
    "Work through the exercises in this section to get more familiar with `pandas`. I haven't provided full solutions to all of these exercises.\n",
    "\n",
    "As a change from (astro)physics data, today we're going to be looking at penguins. \n",
    "\n",
    "```{image} ./images/Emperor_Penguin_Manchot_empereur.jpg\n",
    ":alt: a penguin\n",
    ":width: 800px\n",
    ":align: center\n",
    "```\n",
    "\n",
    "To get started, download the [palmerpenguins dataset](./data/penguins_raw.csv) and save it in the folder you're using for this weeks work. **Remember**, keeping all your data files and notebooks in one place saves you the hassle of messing about with paths every time. \n",
    "\n",
    "Throughout these exercises you should be **writing what you are doing and why you're doing it** in the markdown cells alongside your code. I know I keep saying this, but it is important. Could I be giving you a clue to what I'm expecting you to do for your coursework? You could say that, but I couldn't possibly comment."
   ]
  },
  {
   "cell_type": "markdown",
   "metadata": {},
   "source": [
    "```{admonition} Penguins dataset\n",
    ":class: myinfo\n",
    "If you want to know more about where the dataset we're using here comes from, you can check the [palmerpenguins website](https://allisonhorst.github.io/palmerpenguins/index.html)\n",
    "```"
   ]
  },
  {
   "cell_type": "markdown",
   "metadata": {
    "slideshow": {
     "slide_type": "slide"
    }
   },
   "source": [
    "(c3-ex1)=\n",
    "```{admonition} Exercise: Read in your data\n",
    ":class: practice\n",
    "\n",
    "First things first. Read the palmerpenguins [penguins_raw.csv](./data/penguins_raw.csv) file into a dataframe. \n",
    "\n",
    "Check what it looks like. Do the columns have sensible names? If not, change them. \n",
    "\n",
    "Check to see if there are any `NaN` values. \n",
    "\n",
    "**Hint:** There is one column that might have a lot of `NaN`s. We don't necessarily want to get rid of rows that have `NaN`s only in that column. Look at your dataframe and check which column this is. Should we do anything about it?\n",
    "\n",
    "[solution](soln_c3_ex1.ipynb)\n",
    "```"
   ]
  },
  {
   "cell_type": "markdown",
   "metadata": {},
   "source": [
    "(c3-ex2)=\n",
    "```{admonition} Exercise: Penguins love histograms\n",
    ":class: practice\n",
    "\n",
    "It's time to make some more histograms!\n",
    "\n",
    "Make a histogram showing the distribution of body mass for our penguins.\n",
    "\n",
    "Your dataframe should have a column called `Species`. Use the `unique()` function on that column to get a list of the different species of penguins in the data. Create a new plot with histograms of body mass for each species of penguin. As always, give your plot sensible axis labels, units, a legend, and experiment to find a good bin size so that the histograms can be compared fairly. \n",
    "\n",
    "**Hint:** `unique()` works similarly to the `min()` and `max()` functions we used in the [previous section](03_working_with_data.ipynb). \n",
    "\n",
    "[solution](soln_c3_ex2.ipynb)\n",
    "```"
   ]
  },
  {
   "cell_type": "markdown",
   "metadata": {},
   "source": [
    "(c3-ex3)=\n",
    "```{admonition} Exercise: What a big bill you have?\n",
    ":class: practice\n",
    "\n",
    "I would like to apologise in advance too all of the penguin enthusiats and/or NatSci students who most likely know a lot more about penguins and biology than I do... \n",
    "\n",
    "After some googling, I have discovered that the \"culmen\" is the ridge on top of a penguin's bill. We shall now investigate whether there is a relation between the size of a penguin's bill and its flipper size. Perhaps there is a relation? Perhaps there is not. There's only one way to find out.\n",
    "\n",
    " - Plot culmen length and depth as a function of body mass for each species of penguin. \n",
    " - Plot flipper length as a function of body mass for each species of penguin.\n",
    " - Assume that a penguin's beak can be approximated as a cylinder of length equal to the culmen length and radius equal to half of the culmen depth. Add a new column to your dataframe corresponding to the volume of the penguins beak.\n",
    " - Plot beak volume as a function of body mass for each species. Define a function to relate the two and find the best fit relation. Do heavier penguins have larger beaks?\n",
    "\n",
    "[solution](soln_c3_ex3.ipynb)\n",
    "```"
   ]
  },
  {
   "cell_type": "markdown",
   "metadata": {},
   "source": [
    "```{admonition} Final question...\n",
    ":class: practice\n",
    "\n",
    "What type of pasta do penguins eat?\n",
    "\n",
    "[I don't know, what type of pasta do penguines eat?](soln_penguins.ipynb)\n",
    "```\n"
   ]
  },
  {
   "cell_type": "code",
   "execution_count": null,
   "metadata": {},
   "outputs": [],
   "source": []
  }
 ],
 "metadata": {
  "celltoolbar": "Slideshow",
  "kernelspec": {
   "display_name": "Python 3",
   "language": "python",
   "name": "python3"
  },
  "language_info": {
   "codemirror_mode": {
    "name": "ipython",
    "version": 3
   },
   "file_extension": ".py",
   "mimetype": "text/x-python",
   "name": "python",
   "nbconvert_exporter": "python",
   "pygments_lexer": "ipython3",
   "version": "3.8.15"
  }
 },
 "nbformat": 4,
 "nbformat_minor": 2
}
