{
 "cells": [
  {
   "cell_type": "code",
   "execution_count": 1,
   "metadata": {
    "tags": [
     "remove-cell"
    ]
   },
   "outputs": [
    {
     "name": "stderr",
     "output_type": "stream",
     "text": [
      "/var/folders/2d/qnv3dwyd2y7dvqhd9dpck1g40000gp/T/ipykernel_89364/2080750612.py:6: SettingWithCopyWarning: \n",
      "A value is trying to be set on a copy of a slice from a DataFrame\n",
      "\n",
      "See the caveats in the documentation: https://pandas.pydata.org/pandas-docs/stable/user_guide/indexing.html#returning-a-view-versus-a-copy\n",
      "  planet_df.dropna(inplace=True)\n"
     ]
    }
   ],
   "source": [
    "import pandas as pd\n",
    "\n",
    "exo_df = pd.read_csv(\"./data/Exoplanet_catalog_2019.csv\")\n",
    "exo_df.rename(columns={'# name':'name'}, inplace=True)\n",
    "planet_df = exo_df[['name', 'orbital_period', 'semi_major_axis', 'detection_type', 'star_mass']]\n",
    "planet_df.dropna(inplace=True)\n",
    "kepler_df = planet_df.where((planet_df['orbital_period'] <= 10000) & (planet_df['star_mass'] > 0.7)).dropna()"
   ]
  },
  {
   "cell_type": "markdown",
   "metadata": {},
   "source": [
    "# Solution: Add another column\n",
    "\n",
    "The process is the same as for adding the $T^2$ column."
   ]
  },
  {
   "cell_type": "code",
   "execution_count": 2,
   "metadata": {},
   "outputs": [],
   "source": [
    "kepler_df['a_3_m'] = kepler_df['semi_major_axis']**3 / kepler_df['star_mass']"
   ]
  },
  {
   "cell_type": "code",
   "execution_count": 3,
   "metadata": {},
   "outputs": [
    {
     "data": {
      "text/html": [
       "<div>\n",
       "<style scoped>\n",
       "    .dataframe tbody tr th:only-of-type {\n",
       "        vertical-align: middle;\n",
       "    }\n",
       "\n",
       "    .dataframe tbody tr th {\n",
       "        vertical-align: top;\n",
       "    }\n",
       "\n",
       "    .dataframe thead th {\n",
       "        text-align: right;\n",
       "    }\n",
       "</style>\n",
       "<table border=\"1\" class=\"dataframe\">\n",
       "  <thead>\n",
       "    <tr style=\"text-align: right;\">\n",
       "      <th></th>\n",
       "      <th>name</th>\n",
       "      <th>orbital_period</th>\n",
       "      <th>semi_major_axis</th>\n",
       "      <th>detection_type</th>\n",
       "      <th>star_mass</th>\n",
       "      <th>a_3_m</th>\n",
       "    </tr>\n",
       "  </thead>\n",
       "  <tbody>\n",
       "    <tr>\n",
       "      <th>0</th>\n",
       "      <td>11 Com b</td>\n",
       "      <td>326.03000</td>\n",
       "      <td>1.2900</td>\n",
       "      <td>Radial Velocity</td>\n",
       "      <td>2.70</td>\n",
       "      <td>0.795070</td>\n",
       "    </tr>\n",
       "    <tr>\n",
       "      <th>1</th>\n",
       "      <td>11 UMi b</td>\n",
       "      <td>516.22000</td>\n",
       "      <td>1.5400</td>\n",
       "      <td>Radial Velocity</td>\n",
       "      <td>1.80</td>\n",
       "      <td>2.029036</td>\n",
       "    </tr>\n",
       "    <tr>\n",
       "      <th>2</th>\n",
       "      <td>14 And b</td>\n",
       "      <td>185.84000</td>\n",
       "      <td>0.8300</td>\n",
       "      <td>Radial Velocity</td>\n",
       "      <td>2.20</td>\n",
       "      <td>0.259903</td>\n",
       "    </tr>\n",
       "    <tr>\n",
       "      <th>3</th>\n",
       "      <td>14 Her b</td>\n",
       "      <td>1773.40000</td>\n",
       "      <td>2.7700</td>\n",
       "      <td>Radial Velocity</td>\n",
       "      <td>0.90</td>\n",
       "      <td>23.615481</td>\n",
       "    </tr>\n",
       "    <tr>\n",
       "      <th>4</th>\n",
       "      <td>16 Cyg B b</td>\n",
       "      <td>799.50000</td>\n",
       "      <td>1.6800</td>\n",
       "      <td>Radial Velocity</td>\n",
       "      <td>1.01</td>\n",
       "      <td>4.694685</td>\n",
       "    </tr>\n",
       "    <tr>\n",
       "      <th>...</th>\n",
       "      <td>...</td>\n",
       "      <td>...</td>\n",
       "      <td>...</td>\n",
       "      <td>...</td>\n",
       "      <td>...</td>\n",
       "      <td>...</td>\n",
       "    </tr>\n",
       "    <tr>\n",
       "      <th>3827</th>\n",
       "      <td>tau Gem b</td>\n",
       "      <td>305.50000</td>\n",
       "      <td>1.1700</td>\n",
       "      <td>Radial Velocity</td>\n",
       "      <td>2.30</td>\n",
       "      <td>0.696353</td>\n",
       "    </tr>\n",
       "    <tr>\n",
       "      <th>3828</th>\n",
       "      <td>ups And b</td>\n",
       "      <td>4.61711</td>\n",
       "      <td>0.0590</td>\n",
       "      <td>Radial Velocity</td>\n",
       "      <td>1.27</td>\n",
       "      <td>0.000162</td>\n",
       "    </tr>\n",
       "    <tr>\n",
       "      <th>3829</th>\n",
       "      <td>ups And c</td>\n",
       "      <td>240.93700</td>\n",
       "      <td>0.8610</td>\n",
       "      <td>Radial Velocity</td>\n",
       "      <td>1.27</td>\n",
       "      <td>0.502581</td>\n",
       "    </tr>\n",
       "    <tr>\n",
       "      <th>3830</th>\n",
       "      <td>ups And d</td>\n",
       "      <td>1281.43900</td>\n",
       "      <td>2.5500</td>\n",
       "      <td>Radial Velocity</td>\n",
       "      <td>1.27</td>\n",
       "      <td>13.056201</td>\n",
       "    </tr>\n",
       "    <tr>\n",
       "      <th>3831</th>\n",
       "      <td>ups And e</td>\n",
       "      <td>3848.86000</td>\n",
       "      <td>5.2456</td>\n",
       "      <td>Radial Velocity</td>\n",
       "      <td>1.27</td>\n",
       "      <td>113.653232</td>\n",
       "    </tr>\n",
       "  </tbody>\n",
       "</table>\n",
       "<p>1719 rows × 6 columns</p>\n",
       "</div>"
      ],
      "text/plain": [
       "            name  orbital_period  semi_major_axis   detection_type  star_mass  \\\n",
       "0       11 Com b       326.03000           1.2900  Radial Velocity       2.70   \n",
       "1       11 UMi b       516.22000           1.5400  Radial Velocity       1.80   \n",
       "2       14 And b       185.84000           0.8300  Radial Velocity       2.20   \n",
       "3       14 Her b      1773.40000           2.7700  Radial Velocity       0.90   \n",
       "4     16 Cyg B b       799.50000           1.6800  Radial Velocity       1.01   \n",
       "...          ...             ...              ...              ...        ...   \n",
       "3827   tau Gem b       305.50000           1.1700  Radial Velocity       2.30   \n",
       "3828   ups And b         4.61711           0.0590  Radial Velocity       1.27   \n",
       "3829   ups And c       240.93700           0.8610  Radial Velocity       1.27   \n",
       "3830   ups And d      1281.43900           2.5500  Radial Velocity       1.27   \n",
       "3831   ups And e      3848.86000           5.2456  Radial Velocity       1.27   \n",
       "\n",
       "           a_3_m  \n",
       "0       0.795070  \n",
       "1       2.029036  \n",
       "2       0.259903  \n",
       "3      23.615481  \n",
       "4       4.694685  \n",
       "...          ...  \n",
       "3827    0.696353  \n",
       "3828    0.000162  \n",
       "3829    0.502581  \n",
       "3830   13.056201  \n",
       "3831  113.653232  \n",
       "\n",
       "[1719 rows x 6 columns]"
      ]
     },
     "execution_count": 3,
     "metadata": {},
     "output_type": "execute_result"
    }
   ],
   "source": [
    "kepler_df"
   ]
  },
  {
   "cell_type": "markdown",
   "metadata": {},
   "source": [
    "[back to the worksheet](ex-add-column)"
   ]
  },
  {
   "cell_type": "markdown",
   "metadata": {},
   "source": []
  }
 ],
 "metadata": {
  "kernelspec": {
   "display_name": "teaching_stable",
   "language": "python",
   "name": "python3"
  },
  "language_info": {
   "codemirror_mode": {
    "name": "ipython",
    "version": 3
   },
   "file_extension": ".py",
   "mimetype": "text/x-python",
   "name": "python",
   "nbconvert_exporter": "python",
   "pygments_lexer": "ipython3",
   "version": "3.8.15"
  }
 },
 "nbformat": 4,
 "nbformat_minor": 2
}
