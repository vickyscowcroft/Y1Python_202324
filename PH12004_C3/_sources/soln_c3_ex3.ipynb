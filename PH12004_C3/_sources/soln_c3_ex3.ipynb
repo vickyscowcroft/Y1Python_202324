{
 "cells": [
  {
   "cell_type": "markdown",
   "metadata": {},
   "source": [
    "## Solution: What a big bill you have?\n",
    "\n",
    "Your final plot should look something like this:\n",
    "\n",
    "```{image} images/big_beaks.png\n",
    ":alt: histogram of penguins data\n",
    ":width: 600px\n",
    ":align: center\n",
    "```\n",
    "Although beak volume increases with body mass for each of the species, the lower mass penguins (Adelie and Chinstrap) actually have larger beaks!\n",
    "I did start to write some logical reasoning here as to why this could be the case, but remembered I am an astronomer, not a penguinologist and [bad things happen](https://www.theguardian.com/australia-news/2020/mar/30/astrophysicist-gets-magnets-stuck-up-nose-while-inventing-coronavirus-device) when astronomers try to do science outside their field. So let's leave it there for now.\n",
    "\n",
    "[back to the exercises](c3-ex3)"
   ]
  },
  {
   "cell_type": "markdown",
   "metadata": {},
   "source": []
  }
 ],
 "metadata": {
  "language_info": {
   "name": "python"
  }
 },
 "nbformat": 4,
 "nbformat_minor": 2
}
