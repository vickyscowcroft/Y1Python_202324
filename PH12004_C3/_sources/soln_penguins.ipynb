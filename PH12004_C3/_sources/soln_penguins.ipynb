{
 "cells": [
  {
   "cell_type": "markdown",
   "metadata": {},
   "source": [
    "\n",
    "# Macaroni!\n",
    "\n",
    "```{figure} ./images/macaroni_penguin.jpg\n",
    "---\n",
    "alt: a macaroni penguin\n",
    "height: 800px\n",
    "name: macaroni-penguin\n",
    "---\n",
    "Credit: flikr @kuhnmi CC 2.0\n",
    "```\n"
   ]
  },
  {
   "cell_type": "markdown",
   "metadata": {},
   "source": [
    "[back to the exercises](05_further_exercises.ipynb)"
   ]
  },
  {
   "cell_type": "markdown",
   "metadata": {},
   "source": []
  }
 ],
 "metadata": {
  "language_info": {
   "name": "python"
  }
 },
 "nbformat": 4,
 "nbformat_minor": 2
}
