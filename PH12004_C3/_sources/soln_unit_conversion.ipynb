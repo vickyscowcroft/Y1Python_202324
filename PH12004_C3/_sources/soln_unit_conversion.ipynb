{
 "cells": [
  {
   "cell_type": "code",
   "execution_count": 1,
   "metadata": {
    "tags": [
     "remove-cell"
    ]
   },
   "outputs": [],
   "source": [
    "import pandas as pd\n",
    "\n",
    "kepler_df = pd.read_csv(\"temp_kepler.csv\")"
   ]
  },
  {
   "cell_type": "markdown",
   "metadata": {},
   "source": [
    "## Solution: Convert to sensible units"
   ]
  },
  {
   "cell_type": "code",
   "execution_count": 2,
   "metadata": {},
   "outputs": [],
   "source": [
    "kepler_df['orbital_period_sec'] = kepler_df['orbital_period'] * 24. * 60. * 60.\n",
    "kepler_df['a_metres'] = kepler_df['semi_major_axis'] * 1.496E11\n",
    "kepler_df['mass_kg'] = kepler_df['star_mass'] * 1.989E30"
   ]
  },
  {
   "cell_type": "code",
   "execution_count": 3,
   "metadata": {},
   "outputs": [],
   "source": [
    "kepler_df['a_3_m'] = kepler_df['a_metres']**3 / kepler_df['mass_kg']\n",
    "kepler_df['T_sq'] = kepler_df['orbital_period_sec']**2"
   ]
  },
  {
   "cell_type": "markdown",
   "metadata": {},
   "source": [
    "[back to the worksheet](ex-unit-conversion)"
   ]
  },
  {
   "cell_type": "markdown",
   "metadata": {},
   "source": []
  }
 ],
 "metadata": {
  "kernelspec": {
   "display_name": "teaching_stable",
   "language": "python",
   "name": "python3"
  },
  "language_info": {
   "codemirror_mode": {
    "name": "ipython",
    "version": 3
   },
   "file_extension": ".py",
   "mimetype": "text/x-python",
   "name": "python",
   "nbconvert_exporter": "python",
   "pygments_lexer": "ipython3",
   "version": "3.8.15"
  }
 },
 "nbformat": 4,
 "nbformat_minor": 2
}
