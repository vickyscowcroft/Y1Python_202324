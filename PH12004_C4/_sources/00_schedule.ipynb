{
 "cells": [
  {
   "cell_type": "markdown",
   "metadata": {
    "slideshow": {
     "slide_type": "slide"
    }
   },
   "source": [
    "# More `pandas` and `plt`\n",
    "\n",
    "This week we're looking at more things with `pandas` and `matplotlib`. We'll be combining multiple datasets and looking at multi-dimensional data (ooooooh)."
   ]
  },
  {
   "cell_type": "markdown",
   "metadata": {
    "slideshow": {
     "slide_type": "slide"
    }
   },
   "source": [
    "`````{admonition} Setup\n",
    ":class: setup\n",
    "\n",
    "\n",
    "**Remember**: You need to change to your `Scientific_Computing_S1` folder by entering\n",
    "\n",
    "```\n",
    "cd /d \"C:\\Users\\abc123\\OneDrive - University of Bath\\Scientific_Computing_S1\"\n",
    "```\n",
    "at the prompt, replacing `abc123` with your University user name.\n",
    "\n",
    "Once you've changed directory, start jupyter by entering\n",
    "\n",
    "```\n",
    "jupyter notebook\n",
    "```\n",
    "at the prompt.\n",
    "\n",
    "### Do not close the anaconda prompt window!\n",
    "\n",
    "You should have a folder called `data` inside your `Scientific_Computing_S1` folder. Make sure you're creating this week's notebook inside the `Scientific_Computing_S1`  folder, **not** inside the `data` folder.\n",
    "\n",
    "You will need to download the following files and save them in the `data` folder. Remember, do not open them in Excel!\n",
    "\n",
    "* [BoltData.csv](./data/BoltData.csv)\n",
    "* [LMC_Cepheids.csv](./data/LMC_Cepheids.csv)\n",
    "* [HV00872_phot.csv](./data/HV00872_phot.csv)\n",
    "* [optical_data.csv](./data/optical_data.csv)\n",
    "* [gaia_distances.csv](./data/gaia_distances.csv)\n",
    "* [reddenings.csv](./data/reddenings.csv)\n",
    "`````"
   ]
  },
  {
   "cell_type": "markdown",
   "metadata": {},
   "source": [
    "```{admonition} Don't double-click!\n",
    ":class: warning\n",
    "You may find that if you double-click on the .csv files on a University computer it opens up a program called \"mintab\". I have no idea what this is, but we don't want to use it. If you accidentally do this let one of the demonstrators know and we'll show you how to close the program. \n",
    "```"
   ]
  },
  {
   "cell_type": "markdown",
   "metadata": {},
   "source": []
  }
 ],
 "metadata": {
  "celltoolbar": "Slideshow",
  "kernelspec": {
   "display_name": "Python 3",
   "language": "python",
   "name": "python3"
  },
  "language_info": {
   "codemirror_mode": {
    "name": "ipython",
    "version": 3
   },
   "file_extension": ".py",
   "mimetype": "text/x-python",
   "name": "python",
   "nbconvert_exporter": "python",
   "pygments_lexer": "ipython3",
   "version": "3.7.10"
  }
 },
 "nbformat": 4,
 "nbformat_minor": 2
}
