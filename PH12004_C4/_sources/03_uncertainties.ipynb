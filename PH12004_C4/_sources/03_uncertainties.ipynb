{
 "cells": [
  {
   "cell_type": "markdown",
   "metadata": {
    "slideshow": {
     "slide_type": "slide"
    }
   },
   "source": [
    "# Uncertainties"
   ]
  },
  {
   "cell_type": "markdown",
   "metadata": {
    "slideshow": {
     "slide_type": "slide"
    }
   },
   "source": [
    "## Overview\n",
    "\n",
    "```{admonition} Questions\n",
    ":class: questions\n",
    "- Why are we talking about uncertainties again?\n",
    "- Will Vicky ever stop talking about uncertainties?\n",
    "```\n",
    "\n",
    "```{admonition} Objectives\n",
    ":class: objectives\n",
    "- Find the best fit parameters and their uncertainties for the Cepheid data\n",
    "```"
   ]
  },
  {
   "cell_type": "markdown",
   "metadata": {},
   "source": [
    "In an unusual turn of events, I haven't been hammering on about the importance of uncertainties yet in this lesson. We're going to look at them in more detail here. \n",
    "\n",
    "## Uncertainties are important!\n",
    "\n",
    "Without an estimate of uncertainty, a scientific result is basically meaningless. I could tell you that the length of my dog is 2 meters. That sounds unlikely. But if I told you the length of my dog was $2 \\pm 1$ meters because I tried to measure him while he was moving, you'd now know how reliable my measurement was. \n",
    "\n",
    "For reference, this is the dog in question. He is not 2 m long. \n",
    "\n",
    "```{image} images/branston_pickle.jpg\n",
    ":alt: Photo of a dog doing python\n",
    ":width: 400px\n",
    ":align: center\n",
    "```\n",
    "While knowing the uncertainty on the length of my dog may not be the most important thing, uncertainties are the most important thing."
   ]
  },
  {
   "attachments": {},
   "cell_type": "markdown",
   "metadata": {},
   "source": [
    "One example of this is measurements of the Hubble constant (the expansion rate of the Universe). There are several ways of measuring this value, each of which has its own pro's and con's, and it's own uncertainties. Right now, the two main ways of measuring it (using supernovae and the cosmic microwave background) give different answers. The techniques have improved so much in the last few years that the uncertainties on each of these techniques are now very small. So small that we can confidently say that the results don't agree with each other. \n",
    "\n",
    "The figure below shows the results from different techniques as a function of publication date. The important ones are the pink points (measured using supernovae) and the green points (the most recent measurements from the cosmic microwave background). They don't agree!\n",
    "\n",
    "```{image} images/cep_cmb_planck_stfc.jpg\n",
    ":alt: measurements of the Hubble constant from different experiments as a function of time\n",
    ":width: 800px\n",
    ":align: center\n",
    "```\n",
    "\n",
    "\n",
    "There are several teams working on repeating the measurements and taking new measurements to try to resolve the problem. One reason for the difference could be that one of the measurements is wrong - there could have been a mistake in the analysis for example. But the other reason is more exciting; we can make the measurements agree if we change some of the physics that goes into the model we use to fit the data. We could have discovered something completely unexpected about how the universe evolves! **BUT**. Before we can claim that we've found some new physics, we have to be really sure that the results and their uncertainties are correct. \n",
    "\n",
    "If you want to know more about what's happening with the Hubble constant there's a nice article [here](https://www.scientificamerican.com/article/hubble-tension-headache-clashing-measurements-make-the-universes-expansion-a-lingering-mystery/)"
   ]
  },
  {
   "cell_type": "markdown",
   "metadata": {},
   "source": [
    "## Gaussian uncertainties\n",
    "\n",
    "We usually assume that the uncertainties follow a **Gaussian distribution**. For a Gaussian distribution, the probability of measuring a value $x$ when the true value is $\\langle x \\rangle$ with an uncertainty $\\sigma$ is shown in the figure below:\n",
    "\n",
    "```{image} images/normal-curve.png\n",
    ":alt: A gaussian distribution with the probablities of 1, 2, and 3 sigma indicated. \n",
    ":width: 800px\n",
    ":align: center\n",
    "```\n"
   ]
  },
  {
   "cell_type": "markdown",
   "metadata": {},
   "source": [
    "What this shows is that (statistically speaking) it's quite likely for us to measure a value that is 1.25 $\\sigma$ away from the \"true\" value. There's approximately a 21% chance of measuring a difference greater than $\\pm$ 1.25 $\\sigma$. **Note:** If you want to calculate the probability of measuring a give $\\sigma$ deviation you can use a statistical table, such as [this one](https://en.wikipedia.org/wiki/Standard_normal_table#Complementary_cumulative).\n",
    "\n",
    "So when is the difference significant? When would we say that the values don't agree? It's common in astronomy to use 3 $\\sigma$ as the limit for statistical significance. As the figure shows, there's only a 0.3% chance of a measurement that is more than 3 $\\sigma$ away from the mean occurring by chance. So we say that a measurement is consistent if it is within 3 $\\sigma$ of the expected value, and discrepant if if lies further than 3 $\\sigma$ from the expected value.\n",
    "\n",
    "So when you're comparing measurements you make in the lab to the \"true\" values, you can check if your measurement agrees statistically with the published value by checking how many $\\sigma$'s away it is. "
   ]
  },
  {
   "cell_type": "markdown",
   "metadata": {},
   "source": [
    "```{admonition} Exercise: Find the uncertainties on the Cepheid data\n",
    ":class: practice\n",
    "\n",
    "Using the LMC cepheid data, fit relations between $\\log_{10} P$ and magnitude for both wavelengths (`mag_1` and `mag_2`).\n",
    "\n",
    "$$ m = a \\log_{10} P + b $$\n",
    "\n",
    "Find the best fit values of $a$ and $b$ and their uncertainties for each wavelength. Comment on how the results compare to each other. \n",
    "\n",
    "**Hint:** If you need a refresher on how to calculate the uncertainties in your fitted parameters, take a look at the C2 worksheet.\n",
    "```"
   ]
  },
  {
   "cell_type": "markdown",
   "metadata": {},
   "source": [
    "(ex-subplots)=\n",
    "```{admonition} Exercise: Subplots\n",
    ":class: practice\n",
    "\n",
    "We've been using subplots throughout these notebooks but generally only had one plot. Now we want two!\n",
    "\n",
    "Make plots of the LMC data for each wavelength. Add lines of best fit to each plot. Change the options in `subplot` to make two plots next to each other. \n",
    "\n",
    "[solution](soln_subplots.ipynb)\n",
    "```"
   ]
  },
  {
   "cell_type": "markdown",
   "metadata": {},
   "source": [
    "(ex-lightcurve)= \n",
    "```{admonition} Exercise: Fit a lightcurve\n",
    ":class: practice\n",
    "\n",
    "Here you're going to be looking at some of the original data on the LMC Cepheids. [HV00872_phot.csv](./data/HV00872_phot.csv) contains the original measurements of the first Cepheid in the LMC table. \n",
    "\n",
    "In this file `phase` corresponds to the Cepheid's pulsation phase (between 0 and 1), and the `mag` and `err` columns are now the magnitude and uncertainties at different points in the pulsation cycle.\n",
    "\n",
    "Read in the data to a dataframe. Plot magnitude as a function of phase for each wavelength. \n",
    "\n",
    "Define and fit function of the form\n",
    "\n",
    "$$ m = m_0 + A \\sin\\left(2 \\pi \\phi + \\delta\\right)$$\n",
    "\n",
    "to the data, where $m$ is the magnitude, $m_0$ is the average magnitude, $A$ is the amplitude, $\\phi$ is the phase and $\\delta$ is a phase shift. \n",
    "\n",
    "Find the best values of $m_0$ (and their uncertainties) for each wavelength. How do they compare with the values given in the LMC Cepheid table? Do they agree?\n",
    "\n",
    "**Note**: This may appear to be a more challenging exercise at first glance, but don't panic! You will be using the same techniques as you have for all the other fitting you've done, the thing that's changing is the function you want to fit. \n",
    "[solution](soln_fit_lightcurve.ipynb)\n",
    "\n",
    "```"
   ]
  },
  {
   "cell_type": "markdown",
   "metadata": {
    "slideshow": {
     "slide_type": "slide"
    }
   },
   "source": [
    "## Key Points\n",
    "- Uncertainties are important! \n",
    "- Uncertainties tell you how believable your data is. \n",
    "- A measurement without an uncertainty is meaningless!"
   ]
  },
  {
   "cell_type": "code",
   "execution_count": null,
   "metadata": {},
   "outputs": [],
   "source": []
  }
 ],
 "metadata": {
  "celltoolbar": "Slideshow",
  "kernelspec": {
   "display_name": "Python 3",
   "language": "python",
   "name": "python3"
  },
  "language_info": {
   "codemirror_mode": {
    "name": "ipython",
    "version": 3
   },
   "file_extension": ".py",
   "mimetype": "text/x-python",
   "name": "python",
   "nbconvert_exporter": "python",
   "pygments_lexer": "ipython3",
   "version": "3.7.10"
  }
 },
 "nbformat": 4,
 "nbformat_minor": 2
}
