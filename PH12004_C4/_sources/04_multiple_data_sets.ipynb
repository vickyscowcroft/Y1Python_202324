{
 "cells": [
  {
   "cell_type": "code",
   "execution_count": 69,
   "metadata": {
    "execution": {
     "iopub.execute_input": "2021-03-18T00:33:37.922129Z",
     "iopub.status.busy": "2021-03-18T00:33:37.921311Z",
     "iopub.status.idle": "2021-03-18T00:33:38.597837Z",
     "shell.execute_reply": "2021-03-18T00:33:38.598432Z"
    }
   },
   "outputs": [],
   "source": [
    "%config InlineBackend.figure_format = 'retina'\n",
    "%matplotlib inline\n",
    "\n",
    "import matplotlib.pyplot as plt\n",
    "import numpy as np\n",
    "import pandas as pd\n",
    "plt.rcParams.update({'font.size':14})"
   ]
  },
  {
   "cell_type": "markdown",
   "metadata": {
    "slideshow": {
     "slide_type": "slide"
    }
   },
   "source": [
    "# Combining datasets with `pandas`"
   ]
  },
  {
   "cell_type": "markdown",
   "metadata": {
    "slideshow": {
     "slide_type": "slide"
    }
   },
   "source": [
    "## Overview\n",
    "\n",
    "```{admonition} Questions\n",
    ":class: questions\n",
    "- How do I work with multiple datasets?\n",
    "- How do I match tables?\n",
    "- How do I save a table?\n",
    "```\n",
    "\n",
    "```{admonition} Objectives\n",
    ":class: objectives\n",
    "- Combine data from different files into one dataframe\n",
    "- Save the combined data to a file\n",
    "```"
   ]
  },
  {
   "cell_type": "markdown",
   "metadata": {},
   "source": [
    "This week we're going to look at how to combine different datasets using `pandas`.\n",
    "\n",
    "So far we've been lucky that the data we've needed for our analyses has all been in a single file. But what about if you have data from different sources? How do you combine your different sources into one dataframe?\n",
    "\n",
    "We're going to be using data on a sample of Cepheid variables. This data is all real astronomical research data. We'll be using information from the [European Space Agency's *Gaia* mission](https://sci.esa.int/web/gaia), [NASA IPAC](https://www.ipac.caltech.edu) along with some of my own data from ground-based telescopes. "
   ]
  },
  {
   "cell_type": "markdown",
   "metadata": {},
   "source": [
    "## Reading in the data\n",
    "\n",
    "The first file we'll be working is [optical_data.csv](./data/optical_data.csv), which contains [photometric measurements](https://en.wikipedia.org/wiki/Photometry_(astronomy)) of a sample of Cepheids in our own galaxy. First, we need to read the data into a dataframe, and take a look at it to see what's there."
   ]
  },
  {
   "cell_type": "code",
   "execution_count": 2,
   "metadata": {
    "execution": {
     "iopub.execute_input": "2021-03-18T00:33:38.603651Z",
     "iopub.status.busy": "2021-03-18T00:33:38.602908Z",
     "iopub.status.idle": "2021-03-18T00:33:38.609735Z",
     "shell.execute_reply": "2021-03-18T00:33:38.610333Z"
    }
   },
   "outputs": [],
   "source": [
    "optical_df = pd.read_csv('./data/optical_data.csv')"
   ]
  },
  {
   "cell_type": "code",
   "execution_count": 3,
   "metadata": {
    "execution": {
     "iopub.execute_input": "2021-03-18T00:33:38.617038Z",
     "iopub.status.busy": "2021-03-18T00:33:38.616255Z",
     "iopub.status.idle": "2021-03-18T00:33:38.632073Z",
     "shell.execute_reply": "2021-03-18T00:33:38.632605Z"
    }
   },
   "outputs": [
    {
     "data": {
      "text/html": [
       "<div>\n",
       "<style scoped>\n",
       "    .dataframe tbody tr th:only-of-type {\n",
       "        vertical-align: middle;\n",
       "    }\n",
       "\n",
       "    .dataframe tbody tr th {\n",
       "        vertical-align: top;\n",
       "    }\n",
       "\n",
       "    .dataframe thead th {\n",
       "        text-align: right;\n",
       "    }\n",
       "</style>\n",
       "<table border=\"1\" class=\"dataframe\">\n",
       "  <thead>\n",
       "    <tr style=\"text-align: right;\">\n",
       "      <th></th>\n",
       "      <th>Star_ID</th>\n",
       "      <th>logP</th>\n",
       "      <th>mag_B</th>\n",
       "      <th>err_B</th>\n",
       "      <th>mag_V</th>\n",
       "      <th>err_V</th>\n",
       "      <th>mag_I</th>\n",
       "      <th>err_I</th>\n",
       "    </tr>\n",
       "  </thead>\n",
       "  <tbody>\n",
       "    <tr>\n",
       "      <th>0</th>\n",
       "      <td>RT Aur</td>\n",
       "      <td>0.571</td>\n",
       "      <td>6.120</td>\n",
       "      <td>0.017</td>\n",
       "      <td>5.487</td>\n",
       "      <td>0.011</td>\n",
       "      <td>4.822</td>\n",
       "      <td>0.006</td>\n",
       "    </tr>\n",
       "    <tr>\n",
       "      <th>1</th>\n",
       "      <td>QZ Nor</td>\n",
       "      <td>0.578</td>\n",
       "      <td>9.782</td>\n",
       "      <td>0.007</td>\n",
       "      <td>8.875</td>\n",
       "      <td>0.004</td>\n",
       "      <td>7.871</td>\n",
       "      <td>0.003</td>\n",
       "    </tr>\n",
       "    <tr>\n",
       "      <th>2</th>\n",
       "      <td>SU Cyg</td>\n",
       "      <td>0.585</td>\n",
       "      <td>7.493</td>\n",
       "      <td>0.015</td>\n",
       "      <td>6.890</td>\n",
       "      <td>0.011</td>\n",
       "      <td>6.208</td>\n",
       "      <td>0.007</td>\n",
       "    </tr>\n",
       "    <tr>\n",
       "      <th>3</th>\n",
       "      <td>Y Lac</td>\n",
       "      <td>0.636</td>\n",
       "      <td>9.921</td>\n",
       "      <td>0.016</td>\n",
       "      <td>9.163</td>\n",
       "      <td>0.011</td>\n",
       "      <td>8.312</td>\n",
       "      <td>0.007</td>\n",
       "    </tr>\n",
       "    <tr>\n",
       "      <th>4</th>\n",
       "      <td>T Vul</td>\n",
       "      <td>0.647</td>\n",
       "      <td>6.444</td>\n",
       "      <td>0.014</td>\n",
       "      <td>5.772</td>\n",
       "      <td>0.009</td>\n",
       "      <td>5.087</td>\n",
       "      <td>0.006</td>\n",
       "    </tr>\n",
       "  </tbody>\n",
       "</table>\n",
       "</div>"
      ],
      "text/plain": [
       "  Star_ID   logP  mag_B  err_B  mag_V  err_V  mag_I  err_I\n",
       "0  RT Aur  0.571  6.120  0.017  5.487  0.011  4.822  0.006\n",
       "1  QZ Nor  0.578  9.782  0.007  8.875  0.004  7.871  0.003\n",
       "2  SU Cyg  0.585  7.493  0.015  6.890  0.011  6.208  0.007\n",
       "3   Y Lac  0.636  9.921  0.016  9.163  0.011  8.312  0.007\n",
       "4   T Vul  0.647  6.444  0.014  5.772  0.009  5.087  0.006"
      ]
     },
     "execution_count": 3,
     "metadata": {},
     "output_type": "execute_result"
    }
   ],
   "source": [
    "optical_df.head()"
   ]
  },
  {
   "cell_type": "markdown",
   "metadata": {
    "slideshow": {
     "slide_type": "slide"
    }
   },
   "source": [
    "`````{admonition} .head()\n",
    ":class: myinfo\n",
    "In the cell above I've used\n",
    "```py\n",
    "optical_df.head()\n",
    "```\n",
    "to display only the first 5 rows of the dataframe rather than the whole thing. You could also use\n",
    "```py\n",
    "optical_df[:5]\n",
    "```\n",
    "to get the same output.\n",
    "\n",
    "You can change the number of rows that `head()` displays by passing the number of rows as an argument, e.g.\n",
    "```py\n",
    "optical_df.head(10)\n",
    "```\n",
    "\n",
    "`````"
   ]
  },
  {
   "cell_type": "markdown",
   "metadata": {},
   "source": [
    "The data in this file is:\n",
    "* `Star_ID` - the name of the star (these ones are nearby so they have actual names)\n",
    "* `logP` - $\\log_{10} P$, where $P$ is the period of the variable star (in days)\n",
    "* `mag_X` - the apparent magnitude of the star in the `B`, `V` and `I` bands\n",
    "* `err_X` - the uncertainty on the apparent magnitude in each band."
   ]
  },
  {
   "cell_type": "markdown",
   "metadata": {},
   "source": [
    "Given that I'm not displaying the whole dataframe, it's worth looking at some of it's **attributes** so we know how much data there is. `shape` is an attribute of all dataframes, so that's a good place to start."
   ]
  },
  {
   "cell_type": "code",
   "execution_count": 4,
   "metadata": {
    "execution": {
     "iopub.execute_input": "2021-03-18T00:33:38.637958Z",
     "iopub.status.busy": "2021-03-18T00:33:38.637122Z",
     "iopub.status.idle": "2021-03-18T00:33:38.640319Z",
     "shell.execute_reply": "2021-03-18T00:33:38.640875Z"
    }
   },
   "outputs": [
    {
     "data": {
      "text/plain": [
       "(59, 8)"
      ]
     },
     "execution_count": 4,
     "metadata": {},
     "output_type": "execute_result"
    }
   ],
   "source": [
    "optical_df.shape"
   ]
  },
  {
   "cell_type": "markdown",
   "metadata": {},
   "source": [
    "This tells us that `optical_df` has 8 columns and 59 rows.\n",
    "\n",
    "Dataframes also have **methods** associated with them (methods were covered in the C3 worksheet if you want a refresher). We've already used one method today - `head()`. Another useful method to use here is `describe()`:"
   ]
  },
  {
   "cell_type": "code",
   "execution_count": 5,
   "metadata": {
    "execution": {
     "iopub.execute_input": "2021-03-18T00:33:38.668648Z",
     "iopub.status.busy": "2021-03-18T00:33:38.667755Z",
     "iopub.status.idle": "2021-03-18T00:33:38.671038Z",
     "shell.execute_reply": "2021-03-18T00:33:38.671600Z"
    }
   },
   "outputs": [
    {
     "data": {
      "text/html": [
       "<div>\n",
       "<style scoped>\n",
       "    .dataframe tbody tr th:only-of-type {\n",
       "        vertical-align: middle;\n",
       "    }\n",
       "\n",
       "    .dataframe tbody tr th {\n",
       "        vertical-align: top;\n",
       "    }\n",
       "\n",
       "    .dataframe thead th {\n",
       "        text-align: right;\n",
       "    }\n",
       "</style>\n",
       "<table border=\"1\" class=\"dataframe\">\n",
       "  <thead>\n",
       "    <tr style=\"text-align: right;\">\n",
       "      <th></th>\n",
       "      <th>logP</th>\n",
       "      <th>mag_B</th>\n",
       "      <th>err_B</th>\n",
       "      <th>mag_V</th>\n",
       "      <th>err_V</th>\n",
       "      <th>mag_I</th>\n",
       "      <th>err_I</th>\n",
       "    </tr>\n",
       "  </thead>\n",
       "  <tbody>\n",
       "    <tr>\n",
       "      <th>count</th>\n",
       "      <td>59.000000</td>\n",
       "      <td>58.000000</td>\n",
       "      <td>58.000000</td>\n",
       "      <td>59.000000</td>\n",
       "      <td>59.000000</td>\n",
       "      <td>57.000000</td>\n",
       "      <td>57.000000</td>\n",
       "    </tr>\n",
       "    <tr>\n",
       "      <th>mean</th>\n",
       "      <td>1.037034</td>\n",
       "      <td>8.600448</td>\n",
       "      <td>0.017224</td>\n",
       "      <td>7.462017</td>\n",
       "      <td>0.011186</td>\n",
       "      <td>6.251632</td>\n",
       "      <td>0.007211</td>\n",
       "    </tr>\n",
       "    <tr>\n",
       "      <th>std</th>\n",
       "      <td>0.298511</td>\n",
       "      <td>2.092962</td>\n",
       "      <td>0.004974</td>\n",
       "      <td>1.889636</td>\n",
       "      <td>0.003355</td>\n",
       "      <td>1.662180</td>\n",
       "      <td>0.002111</td>\n",
       "    </tr>\n",
       "    <tr>\n",
       "      <th>min</th>\n",
       "      <td>0.571000</td>\n",
       "      <td>4.586000</td>\n",
       "      <td>0.004000</td>\n",
       "      <td>3.749000</td>\n",
       "      <td>0.002000</td>\n",
       "      <td>2.564000</td>\n",
       "      <td>0.002000</td>\n",
       "    </tr>\n",
       "    <tr>\n",
       "      <th>25%</th>\n",
       "      <td>0.796500</td>\n",
       "      <td>7.450250</td>\n",
       "      <td>0.014250</td>\n",
       "      <td>6.264500</td>\n",
       "      <td>0.009000</td>\n",
       "      <td>5.204000</td>\n",
       "      <td>0.006000</td>\n",
       "    </tr>\n",
       "    <tr>\n",
       "      <th>50%</th>\n",
       "      <td>1.007000</td>\n",
       "      <td>8.662000</td>\n",
       "      <td>0.017000</td>\n",
       "      <td>7.504000</td>\n",
       "      <td>0.011000</td>\n",
       "      <td>6.301000</td>\n",
       "      <td>0.007000</td>\n",
       "    </tr>\n",
       "    <tr>\n",
       "      <th>75%</th>\n",
       "      <td>1.255500</td>\n",
       "      <td>9.915750</td>\n",
       "      <td>0.021000</td>\n",
       "      <td>8.887500</td>\n",
       "      <td>0.014000</td>\n",
       "      <td>7.486000</td>\n",
       "      <td>0.009000</td>\n",
       "    </tr>\n",
       "    <tr>\n",
       "      <th>max</th>\n",
       "      <td>1.653000</td>\n",
       "      <td>13.071000</td>\n",
       "      <td>0.027000</td>\n",
       "      <td>11.728000</td>\n",
       "      <td>0.018000</td>\n",
       "      <td>10.080000</td>\n",
       "      <td>0.011000</td>\n",
       "    </tr>\n",
       "  </tbody>\n",
       "</table>\n",
       "</div>"
      ],
      "text/plain": [
       "            logP      mag_B      err_B      mag_V      err_V      mag_I  \\\n",
       "count  59.000000  58.000000  58.000000  59.000000  59.000000  57.000000   \n",
       "mean    1.037034   8.600448   0.017224   7.462017   0.011186   6.251632   \n",
       "std     0.298511   2.092962   0.004974   1.889636   0.003355   1.662180   \n",
       "min     0.571000   4.586000   0.004000   3.749000   0.002000   2.564000   \n",
       "25%     0.796500   7.450250   0.014250   6.264500   0.009000   5.204000   \n",
       "50%     1.007000   8.662000   0.017000   7.504000   0.011000   6.301000   \n",
       "75%     1.255500   9.915750   0.021000   8.887500   0.014000   7.486000   \n",
       "max     1.653000  13.071000   0.027000  11.728000   0.018000  10.080000   \n",
       "\n",
       "           err_I  \n",
       "count  57.000000  \n",
       "mean    0.007211  \n",
       "std     0.002111  \n",
       "min     0.002000  \n",
       "25%     0.006000  \n",
       "50%     0.007000  \n",
       "75%     0.009000  \n",
       "max     0.011000  "
      ]
     },
     "execution_count": 5,
     "metadata": {},
     "output_type": "execute_result"
    }
   ],
   "source": [
    "optical_df.describe()"
   ]
  },
  {
   "cell_type": "markdown",
   "metadata": {},
   "source": [
    "`describe()` gives us a summary of the dataframe. The first row, `count`, tells us the number of rows in each column that contain a value. We can see from this that 2 rows are missing data in the `mag_B` and `err_B` columns, and 3 are missing data in the `mag_I` and `err_I` columns. That's OK for now, we'll keep those rows in. "
   ]
  },
  {
   "cell_type": "markdown",
   "metadata": {
    "slideshow": {
     "slide_type": "slide"
    }
   },
   "source": [
    "(ex-check-missing-data)=\n",
    "```{admonition} Exercise: Checking which stars are missing data\n",
    ":class: practice\n",
    "\n",
    "If you haven't already, download the [optical_data.csv](./data/optical_data.csv) file and save it in your `data` folder.\n",
    "\n",
    "Read the data into a dataframe and use `head()`, `shape` and `describe()` to check your dataframe. \n",
    "\n",
    "Some of the stars are missing some data. Check which stars are missing data in any of the columns. If you need reminding how to check for missing data you can look back at the [cleaning data](https://moodle.bath.ac.uk/pluginfile.php/2458246/mod_resource/content/1/html/02_cleaning_data.html) section of C3.\n",
    "\n",
    "[solution](soln_c4_missing_data.ipynb)\n",
    "```"
   ]
  },
  {
   "cell_type": "markdown",
   "metadata": {},
   "source": [
    "There are two other datafiles we're going to use: [gaia_distances.csv](./data/gaia_distances.csv) and [reddenings.csv](./data/reddenings.csv). \n",
    "\n",
    "The *Gaia* file contains parallax measurements in units of milliarcseconds (mas, or $10^{-3} \\text{ arcseconds}$), for each star. \n",
    "\n",
    "The reddenings file contains the extinction, $A_V$, and reddening, $E(B-V)$, at the position of each star. These are both given in magnitudes."
   ]
  },
  {
   "cell_type": "markdown",
   "metadata": {},
   "source": [
    "```{admonition} Exercise: Read in the *Gaia* data and the reddening data\n",
    ":class: practice\n",
    "Download the [gaia_distances.csv](./data/gaia_distances.csv) and [reddenings.csv](./data/reddenings.csv) files and save them in your `data` folder. \n",
    "\n",
    "Read these files into dataframes and use `head()`, `shape` and `describe()` to check your them. \n",
    "\n",
    "For each of the three dataframes (optical data, *Gaia* data, reddenings) write some information about what the file contains (i.e. column names, units, number of objects, any missing data) in a markdown cell. \n",
    "```\n"
   ]
  },
  {
   "cell_type": "markdown",
   "metadata": {},
   "source": [
    "If everything has worked correctly, your `gaia_df` dataframe should have 2 columns and 67 rows, and your `reddenings_df` dataframe should have 3 columns and 54 rows. Neither should have any `NaN` values. Your three dataframes should look like these:"
   ]
  },
  {
   "cell_type": "code",
   "execution_count": 6,
   "metadata": {
    "tags": [
     "remove-cell"
    ]
   },
   "outputs": [],
   "source": [
    "gaia_df = pd.read_csv(\"./data/gaia_distances.csv\")\n",
    "reddenings_df = pd.read_csv(\"./data/reddenings.csv\")"
   ]
  },
  {
   "cell_type": "code",
   "execution_count": 7,
   "metadata": {
    "execution": {
     "iopub.execute_input": "2021-03-18T00:33:38.857890Z",
     "iopub.status.busy": "2021-03-18T00:33:38.856981Z",
     "iopub.status.idle": "2021-03-18T00:33:38.860694Z",
     "shell.execute_reply": "2021-03-18T00:33:38.861208Z"
    }
   },
   "outputs": [
    {
     "data": {
      "text/html": [
       "<div>\n",
       "<style scoped>\n",
       "    .dataframe tbody tr th:only-of-type {\n",
       "        vertical-align: middle;\n",
       "    }\n",
       "\n",
       "    .dataframe tbody tr th {\n",
       "        vertical-align: top;\n",
       "    }\n",
       "\n",
       "    .dataframe thead th {\n",
       "        text-align: right;\n",
       "    }\n",
       "</style>\n",
       "<table border=\"1\" class=\"dataframe\">\n",
       "  <thead>\n",
       "    <tr style=\"text-align: right;\">\n",
       "      <th></th>\n",
       "      <th>Star_ID</th>\n",
       "      <th>logP</th>\n",
       "      <th>mag_B</th>\n",
       "      <th>err_B</th>\n",
       "      <th>mag_V</th>\n",
       "      <th>err_V</th>\n",
       "      <th>mag_I</th>\n",
       "      <th>err_I</th>\n",
       "    </tr>\n",
       "  </thead>\n",
       "  <tbody>\n",
       "    <tr>\n",
       "      <th>0</th>\n",
       "      <td>RT Aur</td>\n",
       "      <td>0.571</td>\n",
       "      <td>6.120</td>\n",
       "      <td>0.017</td>\n",
       "      <td>5.487</td>\n",
       "      <td>0.011</td>\n",
       "      <td>4.822</td>\n",
       "      <td>0.006</td>\n",
       "    </tr>\n",
       "    <tr>\n",
       "      <th>1</th>\n",
       "      <td>QZ Nor</td>\n",
       "      <td>0.578</td>\n",
       "      <td>9.782</td>\n",
       "      <td>0.007</td>\n",
       "      <td>8.875</td>\n",
       "      <td>0.004</td>\n",
       "      <td>7.871</td>\n",
       "      <td>0.003</td>\n",
       "    </tr>\n",
       "    <tr>\n",
       "      <th>2</th>\n",
       "      <td>SU Cyg</td>\n",
       "      <td>0.585</td>\n",
       "      <td>7.493</td>\n",
       "      <td>0.015</td>\n",
       "      <td>6.890</td>\n",
       "      <td>0.011</td>\n",
       "      <td>6.208</td>\n",
       "      <td>0.007</td>\n",
       "    </tr>\n",
       "    <tr>\n",
       "      <th>3</th>\n",
       "      <td>Y Lac</td>\n",
       "      <td>0.636</td>\n",
       "      <td>9.921</td>\n",
       "      <td>0.016</td>\n",
       "      <td>9.163</td>\n",
       "      <td>0.011</td>\n",
       "      <td>8.312</td>\n",
       "      <td>0.007</td>\n",
       "    </tr>\n",
       "    <tr>\n",
       "      <th>4</th>\n",
       "      <td>T Vul</td>\n",
       "      <td>0.647</td>\n",
       "      <td>6.444</td>\n",
       "      <td>0.014</td>\n",
       "      <td>5.772</td>\n",
       "      <td>0.009</td>\n",
       "      <td>5.087</td>\n",
       "      <td>0.006</td>\n",
       "    </tr>\n",
       "  </tbody>\n",
       "</table>\n",
       "</div>"
      ],
      "text/plain": [
       "  Star_ID   logP  mag_B  err_B  mag_V  err_V  mag_I  err_I\n",
       "0  RT Aur  0.571  6.120  0.017  5.487  0.011  4.822  0.006\n",
       "1  QZ Nor  0.578  9.782  0.007  8.875  0.004  7.871  0.003\n",
       "2  SU Cyg  0.585  7.493  0.015  6.890  0.011  6.208  0.007\n",
       "3   Y Lac  0.636  9.921  0.016  9.163  0.011  8.312  0.007\n",
       "4   T Vul  0.647  6.444  0.014  5.772  0.009  5.087  0.006"
      ]
     },
     "execution_count": 7,
     "metadata": {},
     "output_type": "execute_result"
    }
   ],
   "source": [
    "optical_df.head()"
   ]
  },
  {
   "cell_type": "code",
   "execution_count": 8,
   "metadata": {
    "execution": {
     "iopub.execute_input": "2021-03-18T00:33:38.869255Z",
     "iopub.status.busy": "2021-03-18T00:33:38.868460Z",
     "iopub.status.idle": "2021-03-18T00:33:38.871570Z",
     "shell.execute_reply": "2021-03-18T00:33:38.872164Z"
    }
   },
   "outputs": [
    {
     "data": {
      "text/html": [
       "<div>\n",
       "<style scoped>\n",
       "    .dataframe tbody tr th:only-of-type {\n",
       "        vertical-align: middle;\n",
       "    }\n",
       "\n",
       "    .dataframe tbody tr th {\n",
       "        vertical-align: top;\n",
       "    }\n",
       "\n",
       "    .dataframe thead th {\n",
       "        text-align: right;\n",
       "    }\n",
       "</style>\n",
       "<table border=\"1\" class=\"dataframe\">\n",
       "  <thead>\n",
       "    <tr style=\"text-align: right;\">\n",
       "      <th></th>\n",
       "      <th>Star_ID</th>\n",
       "      <th>parallax_mas</th>\n",
       "    </tr>\n",
       "  </thead>\n",
       "  <tbody>\n",
       "    <tr>\n",
       "      <th>0</th>\n",
       "      <td>XX Cen</td>\n",
       "      <td>0.564</td>\n",
       "    </tr>\n",
       "    <tr>\n",
       "      <th>1</th>\n",
       "      <td>T Mon</td>\n",
       "      <td>0.733</td>\n",
       "    </tr>\n",
       "    <tr>\n",
       "      <th>2</th>\n",
       "      <td>TW Nor</td>\n",
       "      <td>0.362</td>\n",
       "    </tr>\n",
       "    <tr>\n",
       "      <th>3</th>\n",
       "      <td>CV Mon</td>\n",
       "      <td>0.602</td>\n",
       "    </tr>\n",
       "    <tr>\n",
       "      <th>4</th>\n",
       "      <td>RY Sco</td>\n",
       "      <td>0.754</td>\n",
       "    </tr>\n",
       "  </tbody>\n",
       "</table>\n",
       "</div>"
      ],
      "text/plain": [
       "  Star_ID  parallax_mas\n",
       "0  XX Cen         0.564\n",
       "1   T Mon         0.733\n",
       "2  TW Nor         0.362\n",
       "3  CV Mon         0.602\n",
       "4  RY Sco         0.754"
      ]
     },
     "execution_count": 8,
     "metadata": {},
     "output_type": "execute_result"
    }
   ],
   "source": [
    "gaia_df.head()"
   ]
  },
  {
   "cell_type": "code",
   "execution_count": 9,
   "metadata": {
    "execution": {
     "iopub.execute_input": "2021-03-18T00:33:38.881515Z",
     "iopub.status.busy": "2021-03-18T00:33:38.880648Z",
     "iopub.status.idle": "2021-03-18T00:33:38.883894Z",
     "shell.execute_reply": "2021-03-18T00:33:38.884464Z"
    }
   },
   "outputs": [
    {
     "data": {
      "text/html": [
       "<div>\n",
       "<style scoped>\n",
       "    .dataframe tbody tr th:only-of-type {\n",
       "        vertical-align: middle;\n",
       "    }\n",
       "\n",
       "    .dataframe tbody tr th {\n",
       "        vertical-align: top;\n",
       "    }\n",
       "\n",
       "    .dataframe thead th {\n",
       "        text-align: right;\n",
       "    }\n",
       "</style>\n",
       "<table border=\"1\" class=\"dataframe\">\n",
       "  <thead>\n",
       "    <tr style=\"text-align: right;\">\n",
       "      <th></th>\n",
       "      <th>Star_ID</th>\n",
       "      <th>E_B_V</th>\n",
       "      <th>A_V</th>\n",
       "    </tr>\n",
       "  </thead>\n",
       "  <tbody>\n",
       "    <tr>\n",
       "      <th>0</th>\n",
       "      <td>RT Aur</td>\n",
       "      <td>0.1844</td>\n",
       "      <td>0.5717</td>\n",
       "    </tr>\n",
       "    <tr>\n",
       "      <th>1</th>\n",
       "      <td>QZ Nor</td>\n",
       "      <td>1.2364</td>\n",
       "      <td>3.8329</td>\n",
       "    </tr>\n",
       "    <tr>\n",
       "      <th>2</th>\n",
       "      <td>SU Cyg</td>\n",
       "      <td>0.9989</td>\n",
       "      <td>3.0967</td>\n",
       "    </tr>\n",
       "    <tr>\n",
       "      <th>3</th>\n",
       "      <td>Y Lac</td>\n",
       "      <td>0.3880</td>\n",
       "      <td>1.2028</td>\n",
       "    </tr>\n",
       "    <tr>\n",
       "      <th>4</th>\n",
       "      <td>T Vul</td>\n",
       "      <td>0.1702</td>\n",
       "      <td>0.5278</td>\n",
       "    </tr>\n",
       "  </tbody>\n",
       "</table>\n",
       "</div>"
      ],
      "text/plain": [
       "  Star_ID   E_B_V     A_V\n",
       "0  RT Aur  0.1844  0.5717\n",
       "1  QZ Nor  1.2364  3.8329\n",
       "2  SU Cyg  0.9989  3.0967\n",
       "3   Y Lac  0.3880  1.2028\n",
       "4   T Vul  0.1702  0.5278"
      ]
     },
     "execution_count": 9,
     "metadata": {},
     "output_type": "execute_result"
    }
   ],
   "source": [
    "reddenings_df.head()"
   ]
  },
  {
   "cell_type": "markdown",
   "metadata": {},
   "source": [
    "## Combining the dataframes\n",
    "\n",
    "You may have noticed that while the `Star_ID` column exists in all the dataframes, the stars aren't in the same order. This is going to make it difficult to, for example, make a plot of `parallax` against `mag_V`. The star in row 1 in `gaia_df` is not the same star as row 1 in `optical_df`. What we need to do is combine all three of our dataframes into one big one. \n",
    "\n",
    "We can combine dataframes using **`pd.merge()`**"
   ]
  },
  {
   "cell_type": "markdown",
   "metadata": {},
   "source": [
    "We'll start by combining `gaia_df` and `optical_df` with `pd.merge()`. You can find the documentation for `pd.merge()` [here](https://pandas.pydata.org/pandas-docs/stable/reference/api/pandas.DataFrame.merge.html)\n",
    "\n",
    "`merge()` takes two dataframes as input. One is the `left` dataframe and one is the `right` dataframe. We also need to tell it which column the two dataframes have in common - in this case it's the `Star_ID` column. This is defined by the `on` keyword The values in this column don't need to be in the same order, `pandas` can figure that out. \n",
    "\n",
    "The final thing we need to provide is how we want the data to be merged. This is the `how` keyword. \n",
    "\n",
    "There are several options for `how`:\n",
    "* `left` - Uses the left dataframe as a reference, looking for matches in the right dataframe.\n",
    "* `right` - The opposite of `left`\n",
    "* `outer` - Keeps all the rows from both dataframes, if it can't find a match fills with `NaN`s\n",
    "* `inner` - Keeps the rows where the values in the `on` column appear in both dataframes.\n",
    "\n",
    "(There is a 5th option - `cross` which gives the \"cartesian product\" of the two dataframes. You can test this out if you want, but you won't need it for anything we're doing here.)"
   ]
  },
  {
   "cell_type": "markdown",
   "metadata": {},
   "source": [
    "To see how the different `how` options work we're going to look quickly at two new dataframes. Copy the following code into a new cell in your notebook to create the `df1` and `df2` dataframes:\n"
   ]
  },
  {
   "cell_type": "code",
   "execution_count": 68,
   "metadata": {
    "tags": []
   },
   "outputs": [],
   "source": [
    "df1 = pd.DataFrame({'name': ['Alice', 'Bob', 'Clive', 'Doris',],\n",
    "                        'colour': ['red', 'orange', 'yellow', 'green']})\n",
    "                        \n",
    "df2 = pd.DataFrame({'name': ['Ethel', 'Frank', 'Doris', 'Steve'],\n",
    "                        'animal': ['dog', 'cat', 'llama', 'fish']})"
   ]
  },
  {
   "cell_type": "markdown",
   "metadata": {},
   "source": [
    "\n",
    "\n",
    "Take a look at each dataframe. We'll use `df1` as the left and `df2` as the right. "
   ]
  },
  {
   "cell_type": "code",
   "execution_count": 67,
   "metadata": {
    "execution": {
     "iopub.execute_input": "2021-03-18T00:33:38.892452Z",
     "iopub.status.busy": "2021-03-18T00:33:38.891537Z",
     "iopub.status.idle": "2021-03-18T00:33:38.894769Z",
     "shell.execute_reply": "2021-03-18T00:33:38.895286Z"
    },
    "tags": [
     "remove-cell"
    ]
   },
   "outputs": [
    {
     "data": {
      "text/html": [
       "<div>\n",
       "<style scoped>\n",
       "    .dataframe tbody tr th:only-of-type {\n",
       "        vertical-align: middle;\n",
       "    }\n",
       "\n",
       "    .dataframe tbody tr th {\n",
       "        vertical-align: top;\n",
       "    }\n",
       "\n",
       "    .dataframe thead th {\n",
       "        text-align: right;\n",
       "    }\n",
       "</style>\n",
       "<table border=\"1\" class=\"dataframe\">\n",
       "  <thead>\n",
       "    <tr style=\"text-align: right;\">\n",
       "      <th></th>\n",
       "      <th>name</th>\n",
       "      <th>colour</th>\n",
       "    </tr>\n",
       "  </thead>\n",
       "  <tbody>\n",
       "    <tr>\n",
       "      <th>0</th>\n",
       "      <td>Alice</td>\n",
       "      <td>red</td>\n",
       "    </tr>\n",
       "    <tr>\n",
       "      <th>1</th>\n",
       "      <td>Bob</td>\n",
       "      <td>orange</td>\n",
       "    </tr>\n",
       "    <tr>\n",
       "      <th>2</th>\n",
       "      <td>Clive</td>\n",
       "      <td>yellow</td>\n",
       "    </tr>\n",
       "    <tr>\n",
       "      <th>3</th>\n",
       "      <td>Doris</td>\n",
       "      <td>green</td>\n",
       "    </tr>\n",
       "  </tbody>\n",
       "</table>\n",
       "</div>"
      ],
      "text/plain": [
       "    name  colour\n",
       "0  Alice     red\n",
       "1    Bob  orange\n",
       "2  Clive  yellow\n",
       "3  Doris   green"
      ]
     },
     "execution_count": 67,
     "metadata": {},
     "output_type": "execute_result"
    }
   ],
   "source": [
    "df1"
   ]
  },
  {
   "cell_type": "code",
   "execution_count": 53,
   "metadata": {
    "execution": {
     "iopub.execute_input": "2021-03-18T00:33:38.902758Z",
     "iopub.status.busy": "2021-03-18T00:33:38.901897Z",
     "iopub.status.idle": "2021-03-18T00:33:38.905082Z",
     "shell.execute_reply": "2021-03-18T00:33:38.905594Z"
    },
    "tags": [
     "remove-cell"
    ]
   },
   "outputs": [
    {
     "data": {
      "text/html": [
       "<div>\n",
       "<style scoped>\n",
       "    .dataframe tbody tr th:only-of-type {\n",
       "        vertical-align: middle;\n",
       "    }\n",
       "\n",
       "    .dataframe tbody tr th {\n",
       "        vertical-align: top;\n",
       "    }\n",
       "\n",
       "    .dataframe thead th {\n",
       "        text-align: right;\n",
       "    }\n",
       "</style>\n",
       "<table border=\"1\" class=\"dataframe\">\n",
       "  <thead>\n",
       "    <tr style=\"text-align: right;\">\n",
       "      <th></th>\n",
       "      <th>name</th>\n",
       "      <th>animal</th>\n",
       "    </tr>\n",
       "  </thead>\n",
       "  <tbody>\n",
       "    <tr>\n",
       "      <th>0</th>\n",
       "      <td>Ethel</td>\n",
       "      <td>dog</td>\n",
       "    </tr>\n",
       "    <tr>\n",
       "      <th>1</th>\n",
       "      <td>Frank</td>\n",
       "      <td>cat</td>\n",
       "    </tr>\n",
       "    <tr>\n",
       "      <th>2</th>\n",
       "      <td>Doris</td>\n",
       "      <td>llama</td>\n",
       "    </tr>\n",
       "    <tr>\n",
       "      <th>3</th>\n",
       "      <td>Steve</td>\n",
       "      <td>fish</td>\n",
       "    </tr>\n",
       "  </tbody>\n",
       "</table>\n",
       "</div>"
      ],
      "text/plain": [
       "    name animal\n",
       "0  Ethel    dog\n",
       "1  Frank    cat\n",
       "2  Doris  llama\n",
       "3  Steve   fish"
      ]
     },
     "execution_count": 53,
     "metadata": {},
     "output_type": "execute_result"
    }
   ],
   "source": [
    "df2"
   ]
  },
  {
   "cell_type": "markdown",
   "metadata": {},
   "source": [
    "```{image} images/merging_1.png\n",
    ":alt: visual representation of the two dataframes\n",
    ":width: 800px\n",
    ":align: center\n",
    "```"
   ]
  },
  {
   "cell_type": "markdown",
   "metadata": {},
   "source": [
    "```{admonition} What's actually happening? \n",
    ":class: myinfo\n",
    "You'll see that I've included some additional figures in this section that show how the different merge options work. You won't get the coloured tables or the circles when you run the code. These are included to help you visualise what's happening in the different types of merge. \n",
    "```"
   ]
  },
  {
   "cell_type": "markdown",
   "metadata": {},
   "source": [
    "Both have a column called `name`, so we'll match on that column for now.\n",
    "\n",
    "### `left` merge\n",
    "First we'll try a `left` merge - where it uses the values in the `name` column in `df1` as a reference and tries to find a match in `df2`:"
   ]
  },
  {
   "cell_type": "code",
   "execution_count": 54,
   "metadata": {
    "execution": {
     "iopub.execute_input": "2021-03-18T00:33:38.916998Z",
     "iopub.status.busy": "2021-03-18T00:33:38.916196Z",
     "iopub.status.idle": "2021-03-18T00:33:38.919136Z",
     "shell.execute_reply": "2021-03-18T00:33:38.919654Z"
    }
   },
   "outputs": [
    {
     "data": {
      "text/html": [
       "<div>\n",
       "<style scoped>\n",
       "    .dataframe tbody tr th:only-of-type {\n",
       "        vertical-align: middle;\n",
       "    }\n",
       "\n",
       "    .dataframe tbody tr th {\n",
       "        vertical-align: top;\n",
       "    }\n",
       "\n",
       "    .dataframe thead th {\n",
       "        text-align: right;\n",
       "    }\n",
       "</style>\n",
       "<table border=\"1\" class=\"dataframe\">\n",
       "  <thead>\n",
       "    <tr style=\"text-align: right;\">\n",
       "      <th></th>\n",
       "      <th>name</th>\n",
       "      <th>colour</th>\n",
       "      <th>animal</th>\n",
       "    </tr>\n",
       "  </thead>\n",
       "  <tbody>\n",
       "    <tr>\n",
       "      <th>0</th>\n",
       "      <td>Alice</td>\n",
       "      <td>red</td>\n",
       "      <td>NaN</td>\n",
       "    </tr>\n",
       "    <tr>\n",
       "      <th>1</th>\n",
       "      <td>Bob</td>\n",
       "      <td>orange</td>\n",
       "      <td>NaN</td>\n",
       "    </tr>\n",
       "    <tr>\n",
       "      <th>2</th>\n",
       "      <td>Clive</td>\n",
       "      <td>yellow</td>\n",
       "      <td>NaN</td>\n",
       "    </tr>\n",
       "    <tr>\n",
       "      <th>3</th>\n",
       "      <td>Doris</td>\n",
       "      <td>green</td>\n",
       "      <td>llama</td>\n",
       "    </tr>\n",
       "  </tbody>\n",
       "</table>\n",
       "</div>"
      ],
      "text/plain": [
       "    name  colour animal\n",
       "0  Alice     red    NaN\n",
       "1    Bob  orange    NaN\n",
       "2  Clive  yellow    NaN\n",
       "3  Doris   green  llama"
      ]
     },
     "execution_count": 54,
     "metadata": {},
     "output_type": "execute_result"
    }
   ],
   "source": [
    "pd.merge(left=df1, right=df2, on='name', how='left')"
   ]
  },
  {
   "cell_type": "markdown",
   "metadata": {},
   "source": [
    "```{image} images/merging_2.png\n",
    ":alt: visual representation of the left merge\n",
    ":width: 800px\n",
    ":align: center\n",
    "```"
   ]
  },
  {
   "cell_type": "markdown",
   "metadata": {},
   "source": [
    "We can see that the only one it could find a match for was the last row, where `name=='Doris'`. It's kept the information from `df1` and filled in `NaN`s in the `animal` column for the rows that didn't have a match in `df2`. \n",
    "\n",
    "### `right` merge\n",
    "If we switch to `how='right'` we get a different result to the `left` merge:"
   ]
  },
  {
   "cell_type": "code",
   "execution_count": 55,
   "metadata": {
    "execution": {
     "iopub.execute_input": "2021-03-18T00:33:38.931606Z",
     "iopub.status.busy": "2021-03-18T00:33:38.930526Z",
     "iopub.status.idle": "2021-03-18T00:33:38.934012Z",
     "shell.execute_reply": "2021-03-18T00:33:38.934524Z"
    }
   },
   "outputs": [
    {
     "data": {
      "text/html": [
       "<div>\n",
       "<style scoped>\n",
       "    .dataframe tbody tr th:only-of-type {\n",
       "        vertical-align: middle;\n",
       "    }\n",
       "\n",
       "    .dataframe tbody tr th {\n",
       "        vertical-align: top;\n",
       "    }\n",
       "\n",
       "    .dataframe thead th {\n",
       "        text-align: right;\n",
       "    }\n",
       "</style>\n",
       "<table border=\"1\" class=\"dataframe\">\n",
       "  <thead>\n",
       "    <tr style=\"text-align: right;\">\n",
       "      <th></th>\n",
       "      <th>name</th>\n",
       "      <th>colour</th>\n",
       "      <th>animal</th>\n",
       "    </tr>\n",
       "  </thead>\n",
       "  <tbody>\n",
       "    <tr>\n",
       "      <th>0</th>\n",
       "      <td>Ethel</td>\n",
       "      <td>NaN</td>\n",
       "      <td>dog</td>\n",
       "    </tr>\n",
       "    <tr>\n",
       "      <th>1</th>\n",
       "      <td>Frank</td>\n",
       "      <td>NaN</td>\n",
       "      <td>cat</td>\n",
       "    </tr>\n",
       "    <tr>\n",
       "      <th>2</th>\n",
       "      <td>Doris</td>\n",
       "      <td>green</td>\n",
       "      <td>llama</td>\n",
       "    </tr>\n",
       "    <tr>\n",
       "      <th>3</th>\n",
       "      <td>Steve</td>\n",
       "      <td>NaN</td>\n",
       "      <td>fish</td>\n",
       "    </tr>\n",
       "  </tbody>\n",
       "</table>\n",
       "</div>"
      ],
      "text/plain": [
       "    name colour animal\n",
       "0  Ethel    NaN    dog\n",
       "1  Frank    NaN    cat\n",
       "2  Doris  green  llama\n",
       "3  Steve    NaN   fish"
      ]
     },
     "execution_count": 55,
     "metadata": {},
     "output_type": "execute_result"
    }
   ],
   "source": [
    "pd.merge(left=df1, right=df2, on='name', how='right')"
   ]
  },
  {
   "cell_type": "markdown",
   "metadata": {},
   "source": [
    "```{image} images/merging_3.png\n",
    ":alt: visual representation of the right merge\n",
    ":width: 800px\n",
    ":align: center\n",
    "```"
   ]
  },
  {
   "cell_type": "markdown",
   "metadata": {},
   "source": [
    "Here it's kept the information from `df2` and filled in `NaN`s in the `colour` column for rows that didn't have a match. "
   ]
  },
  {
   "cell_type": "markdown",
   "metadata": {},
   "source": [
    "The options that are going to be more useful for us are `outer` and `inner`. \n",
    "\n",
    "### `inner` merge\n",
    "When we merge `df1` and `df2` with `how='inner'` we only get the rows that occur in **both** dataframes:"
   ]
  },
  {
   "cell_type": "code",
   "execution_count": 58,
   "metadata": {
    "execution": {
     "iopub.execute_input": "2021-03-18T00:33:38.945348Z",
     "iopub.status.busy": "2021-03-18T00:33:38.944466Z",
     "iopub.status.idle": "2021-03-18T00:33:38.948204Z",
     "shell.execute_reply": "2021-03-18T00:33:38.948721Z"
    }
   },
   "outputs": [
    {
     "data": {
      "text/html": [
       "<div>\n",
       "<style scoped>\n",
       "    .dataframe tbody tr th:only-of-type {\n",
       "        vertical-align: middle;\n",
       "    }\n",
       "\n",
       "    .dataframe tbody tr th {\n",
       "        vertical-align: top;\n",
       "    }\n",
       "\n",
       "    .dataframe thead th {\n",
       "        text-align: right;\n",
       "    }\n",
       "</style>\n",
       "<table border=\"1\" class=\"dataframe\">\n",
       "  <thead>\n",
       "    <tr style=\"text-align: right;\">\n",
       "      <th></th>\n",
       "      <th>name</th>\n",
       "      <th>colour</th>\n",
       "      <th>animal</th>\n",
       "    </tr>\n",
       "  </thead>\n",
       "  <tbody>\n",
       "    <tr>\n",
       "      <th>0</th>\n",
       "      <td>Doris</td>\n",
       "      <td>green</td>\n",
       "      <td>llama</td>\n",
       "    </tr>\n",
       "  </tbody>\n",
       "</table>\n",
       "</div>"
      ],
      "text/plain": [
       "    name colour animal\n",
       "0  Doris  green  llama"
      ]
     },
     "execution_count": 58,
     "metadata": {},
     "output_type": "execute_result"
    }
   ],
   "source": [
    "pd.merge(left=df1, right=df2, on='name', how='inner')"
   ]
  },
  {
   "cell_type": "markdown",
   "metadata": {},
   "source": [
    "```{image} images/merging_4.png\n",
    ":alt: visual representation of the inner merge\n",
    ":width: 800px\n",
    ":align: center\n",
    "```"
   ]
  },
  {
   "cell_type": "markdown",
   "metadata": {},
   "source": [
    "The inner merge is useful sometimes - we might only want to keep rows where we have all the data available.\n",
    "\n",
    "### `outer` merge\n",
    "The option we'll be using today is `how='outer'`:"
   ]
  },
  {
   "cell_type": "code",
   "execution_count": 59,
   "metadata": {
    "execution": {
     "iopub.execute_input": "2021-03-18T00:33:38.960476Z",
     "iopub.status.busy": "2021-03-18T00:33:38.959728Z",
     "iopub.status.idle": "2021-03-18T00:33:38.962804Z",
     "shell.execute_reply": "2021-03-18T00:33:38.963406Z"
    }
   },
   "outputs": [
    {
     "data": {
      "text/html": [
       "<div>\n",
       "<style scoped>\n",
       "    .dataframe tbody tr th:only-of-type {\n",
       "        vertical-align: middle;\n",
       "    }\n",
       "\n",
       "    .dataframe tbody tr th {\n",
       "        vertical-align: top;\n",
       "    }\n",
       "\n",
       "    .dataframe thead th {\n",
       "        text-align: right;\n",
       "    }\n",
       "</style>\n",
       "<table border=\"1\" class=\"dataframe\">\n",
       "  <thead>\n",
       "    <tr style=\"text-align: right;\">\n",
       "      <th></th>\n",
       "      <th>name</th>\n",
       "      <th>colour</th>\n",
       "      <th>animal</th>\n",
       "    </tr>\n",
       "  </thead>\n",
       "  <tbody>\n",
       "    <tr>\n",
       "      <th>0</th>\n",
       "      <td>Alice</td>\n",
       "      <td>red</td>\n",
       "      <td>NaN</td>\n",
       "    </tr>\n",
       "    <tr>\n",
       "      <th>1</th>\n",
       "      <td>Bob</td>\n",
       "      <td>orange</td>\n",
       "      <td>NaN</td>\n",
       "    </tr>\n",
       "    <tr>\n",
       "      <th>2</th>\n",
       "      <td>Clive</td>\n",
       "      <td>yellow</td>\n",
       "      <td>NaN</td>\n",
       "    </tr>\n",
       "    <tr>\n",
       "      <th>3</th>\n",
       "      <td>Doris</td>\n",
       "      <td>green</td>\n",
       "      <td>llama</td>\n",
       "    </tr>\n",
       "    <tr>\n",
       "      <th>4</th>\n",
       "      <td>Ethel</td>\n",
       "      <td>NaN</td>\n",
       "      <td>dog</td>\n",
       "    </tr>\n",
       "    <tr>\n",
       "      <th>5</th>\n",
       "      <td>Frank</td>\n",
       "      <td>NaN</td>\n",
       "      <td>cat</td>\n",
       "    </tr>\n",
       "    <tr>\n",
       "      <th>6</th>\n",
       "      <td>Steve</td>\n",
       "      <td>NaN</td>\n",
       "      <td>fish</td>\n",
       "    </tr>\n",
       "  </tbody>\n",
       "</table>\n",
       "</div>"
      ],
      "text/plain": [
       "    name  colour animal\n",
       "0  Alice     red    NaN\n",
       "1    Bob  orange    NaN\n",
       "2  Clive  yellow    NaN\n",
       "3  Doris   green  llama\n",
       "4  Ethel     NaN    dog\n",
       "5  Frank     NaN    cat\n",
       "6  Steve     NaN   fish"
      ]
     },
     "execution_count": 59,
     "metadata": {},
     "output_type": "execute_result"
    }
   ],
   "source": [
    "pd.merge(left=df1, right=df2, on='name', how='outer')"
   ]
  },
  {
   "cell_type": "markdown",
   "metadata": {},
   "source": [
    "```{image} images/merging_5.png\n",
    ":alt: visual representation of the outer merge\n",
    ":width: 800px\n",
    ":align: center\n",
    "```"
   ]
  },
  {
   "cell_type": "markdown",
   "metadata": {},
   "source": [
    "This keeps **all** the rows, and fills in missing values with `NaN`s. This is what we want.\n",
    "\n",
    "Now we know what `merge` is doing we can merge the `gaia_df` and `optical_df` dataframes into one big one. We'll call the new dataframe `cepheids_df`."
   ]
  },
  {
   "cell_type": "code",
   "execution_count": 60,
   "metadata": {
    "execution": {
     "iopub.execute_input": "2021-03-18T00:33:38.971782Z",
     "iopub.status.busy": "2021-03-18T00:33:38.970773Z",
     "iopub.status.idle": "2021-03-18T00:33:38.973037Z",
     "shell.execute_reply": "2021-03-18T00:33:38.973835Z"
    }
   },
   "outputs": [],
   "source": [
    "cepheids_df = pd.merge(left=gaia_df, right=optical_df, on='Star_ID', how='outer')"
   ]
  },
  {
   "cell_type": "code",
   "execution_count": 61,
   "metadata": {
    "execution": {
     "iopub.execute_input": "2021-03-18T00:33:38.995502Z",
     "iopub.status.busy": "2021-03-18T00:33:38.993907Z",
     "iopub.status.idle": "2021-03-18T00:33:38.997815Z",
     "shell.execute_reply": "2021-03-18T00:33:38.998325Z"
    }
   },
   "outputs": [
    {
     "data": {
      "text/html": [
       "<div>\n",
       "<style scoped>\n",
       "    .dataframe tbody tr th:only-of-type {\n",
       "        vertical-align: middle;\n",
       "    }\n",
       "\n",
       "    .dataframe tbody tr th {\n",
       "        vertical-align: top;\n",
       "    }\n",
       "\n",
       "    .dataframe thead th {\n",
       "        text-align: right;\n",
       "    }\n",
       "</style>\n",
       "<table border=\"1\" class=\"dataframe\">\n",
       "  <thead>\n",
       "    <tr style=\"text-align: right;\">\n",
       "      <th></th>\n",
       "      <th>Star_ID</th>\n",
       "      <th>parallax_mas</th>\n",
       "      <th>logP</th>\n",
       "      <th>mag_B</th>\n",
       "      <th>err_B</th>\n",
       "      <th>mag_V</th>\n",
       "      <th>err_V</th>\n",
       "      <th>mag_I</th>\n",
       "      <th>err_I</th>\n",
       "    </tr>\n",
       "  </thead>\n",
       "  <tbody>\n",
       "    <tr>\n",
       "      <th>0</th>\n",
       "      <td>XX Cen</td>\n",
       "      <td>0.564</td>\n",
       "      <td>1.040</td>\n",
       "      <td>8.882</td>\n",
       "      <td>0.019</td>\n",
       "      <td>7.855</td>\n",
       "      <td>0.012</td>\n",
       "      <td>6.754</td>\n",
       "      <td>0.008</td>\n",
       "    </tr>\n",
       "    <tr>\n",
       "      <th>1</th>\n",
       "      <td>T Mon</td>\n",
       "      <td>0.733</td>\n",
       "      <td>1.432</td>\n",
       "      <td>7.436</td>\n",
       "      <td>0.022</td>\n",
       "      <td>6.187</td>\n",
       "      <td>0.014</td>\n",
       "      <td>5.005</td>\n",
       "      <td>0.010</td>\n",
       "    </tr>\n",
       "    <tr>\n",
       "      <th>2</th>\n",
       "      <td>TW Nor</td>\n",
       "      <td>0.362</td>\n",
       "      <td>NaN</td>\n",
       "      <td>NaN</td>\n",
       "      <td>NaN</td>\n",
       "      <td>NaN</td>\n",
       "      <td>NaN</td>\n",
       "      <td>NaN</td>\n",
       "      <td>NaN</td>\n",
       "    </tr>\n",
       "    <tr>\n",
       "      <th>3</th>\n",
       "      <td>CV Mon</td>\n",
       "      <td>0.602</td>\n",
       "      <td>0.731</td>\n",
       "      <td>11.681</td>\n",
       "      <td>0.015</td>\n",
       "      <td>10.314</td>\n",
       "      <td>0.010</td>\n",
       "      <td>8.653</td>\n",
       "      <td>0.006</td>\n",
       "    </tr>\n",
       "    <tr>\n",
       "      <th>4</th>\n",
       "      <td>RY Sco</td>\n",
       "      <td>0.754</td>\n",
       "      <td>1.308</td>\n",
       "      <td>9.568</td>\n",
       "      <td>0.018</td>\n",
       "      <td>8.037</td>\n",
       "      <td>0.012</td>\n",
       "      <td>6.271</td>\n",
       "      <td>0.008</td>\n",
       "    </tr>\n",
       "    <tr>\n",
       "      <th>...</th>\n",
       "      <td>...</td>\n",
       "      <td>...</td>\n",
       "      <td>...</td>\n",
       "      <td>...</td>\n",
       "      <td>...</td>\n",
       "      <td>...</td>\n",
       "      <td>...</td>\n",
       "      <td>...</td>\n",
       "      <td>...</td>\n",
       "    </tr>\n",
       "    <tr>\n",
       "      <th>62</th>\n",
       "      <td>delta Cep</td>\n",
       "      <td>3.556</td>\n",
       "      <td>0.730</td>\n",
       "      <td>4.684</td>\n",
       "      <td>0.018</td>\n",
       "      <td>3.990</td>\n",
       "      <td>0.012</td>\n",
       "      <td>NaN</td>\n",
       "      <td>NaN</td>\n",
       "    </tr>\n",
       "    <tr>\n",
       "      <th>63</th>\n",
       "      <td>U Aql</td>\n",
       "      <td>1.748</td>\n",
       "      <td>0.847</td>\n",
       "      <td>7.536</td>\n",
       "      <td>0.016</td>\n",
       "      <td>6.457</td>\n",
       "      <td>0.011</td>\n",
       "      <td>5.279</td>\n",
       "      <td>0.007</td>\n",
       "    </tr>\n",
       "    <tr>\n",
       "      <th>64</th>\n",
       "      <td>eta Aql</td>\n",
       "      <td>3.674</td>\n",
       "      <td>0.856</td>\n",
       "      <td>4.744</td>\n",
       "      <td>0.017</td>\n",
       "      <td>3.918</td>\n",
       "      <td>0.011</td>\n",
       "      <td>3.036</td>\n",
       "      <td>0.007</td>\n",
       "    </tr>\n",
       "    <tr>\n",
       "      <th>65</th>\n",
       "      <td>RT Aur</td>\n",
       "      <td>1.841</td>\n",
       "      <td>0.571</td>\n",
       "      <td>6.120</td>\n",
       "      <td>0.017</td>\n",
       "      <td>5.487</td>\n",
       "      <td>0.011</td>\n",
       "      <td>4.822</td>\n",
       "      <td>0.006</td>\n",
       "    </tr>\n",
       "    <tr>\n",
       "      <th>66</th>\n",
       "      <td>SU Cru</td>\n",
       "      <td>0.211</td>\n",
       "      <td>1.109</td>\n",
       "      <td>11.613</td>\n",
       "      <td>0.015</td>\n",
       "      <td>9.802</td>\n",
       "      <td>0.008</td>\n",
       "      <td>7.658</td>\n",
       "      <td>0.003</td>\n",
       "    </tr>\n",
       "  </tbody>\n",
       "</table>\n",
       "<p>67 rows × 9 columns</p>\n",
       "</div>"
      ],
      "text/plain": [
       "      Star_ID  parallax_mas   logP   mag_B  err_B   mag_V  err_V  mag_I  err_I\n",
       "0      XX Cen         0.564  1.040   8.882  0.019   7.855  0.012  6.754  0.008\n",
       "1       T Mon         0.733  1.432   7.436  0.022   6.187  0.014  5.005  0.010\n",
       "2      TW Nor         0.362    NaN     NaN    NaN     NaN    NaN    NaN    NaN\n",
       "3      CV Mon         0.602  0.731  11.681  0.015  10.314  0.010  8.653  0.006\n",
       "4      RY Sco         0.754  1.308   9.568  0.018   8.037  0.012  6.271  0.008\n",
       "..        ...           ...    ...     ...    ...     ...    ...    ...    ...\n",
       "62  delta Cep         3.556  0.730   4.684  0.018   3.990  0.012    NaN    NaN\n",
       "63      U Aql         1.748  0.847   7.536  0.016   6.457  0.011  5.279  0.007\n",
       "64    eta Aql         3.674  0.856   4.744  0.017   3.918  0.011  3.036  0.007\n",
       "65     RT Aur         1.841  0.571   6.120  0.017   5.487  0.011  4.822  0.006\n",
       "66     SU Cru         0.211  1.109  11.613  0.015   9.802  0.008  7.658  0.003\n",
       "\n",
       "[67 rows x 9 columns]"
      ]
     },
     "execution_count": 61,
     "metadata": {},
     "output_type": "execute_result"
    }
   ],
   "source": [
    "cepheids_df"
   ]
  },
  {
   "cell_type": "markdown",
   "metadata": {},
   "source": [
    "We now have a new dataframe with 67 rows and 9 columns - the same number of rows that we had in the larger of the two dataframes (`gaia_df`) but now with all the columns from both dataframes. \n",
    "\n",
    "But `optical_df` only had 59 rows, so there must be some missing data. We should check..."
   ]
  },
  {
   "cell_type": "code",
   "execution_count": 62,
   "metadata": {
    "execution": {
     "iopub.execute_input": "2021-03-18T00:33:39.016179Z",
     "iopub.status.busy": "2021-03-18T00:33:39.015340Z",
     "iopub.status.idle": "2021-03-18T00:33:39.018992Z",
     "shell.execute_reply": "2021-03-18T00:33:39.019595Z"
    }
   },
   "outputs": [
    {
     "data": {
      "text/html": [
       "<div>\n",
       "<style scoped>\n",
       "    .dataframe tbody tr th:only-of-type {\n",
       "        vertical-align: middle;\n",
       "    }\n",
       "\n",
       "    .dataframe tbody tr th {\n",
       "        vertical-align: top;\n",
       "    }\n",
       "\n",
       "    .dataframe thead th {\n",
       "        text-align: right;\n",
       "    }\n",
       "</style>\n",
       "<table border=\"1\" class=\"dataframe\">\n",
       "  <thead>\n",
       "    <tr style=\"text-align: right;\">\n",
       "      <th></th>\n",
       "      <th>Star_ID</th>\n",
       "      <th>parallax_mas</th>\n",
       "      <th>logP</th>\n",
       "      <th>mag_B</th>\n",
       "      <th>err_B</th>\n",
       "      <th>mag_V</th>\n",
       "      <th>err_V</th>\n",
       "      <th>mag_I</th>\n",
       "      <th>err_I</th>\n",
       "    </tr>\n",
       "  </thead>\n",
       "  <tbody>\n",
       "    <tr>\n",
       "      <th>2</th>\n",
       "      <td>TW Nor</td>\n",
       "      <td>0.362</td>\n",
       "      <td>NaN</td>\n",
       "      <td>NaN</td>\n",
       "      <td>NaN</td>\n",
       "      <td>NaN</td>\n",
       "      <td>NaN</td>\n",
       "      <td>NaN</td>\n",
       "      <td>NaN</td>\n",
       "    </tr>\n",
       "    <tr>\n",
       "      <th>9</th>\n",
       "      <td>V340 Nor</td>\n",
       "      <td>0.490</td>\n",
       "      <td>1.053</td>\n",
       "      <td>NaN</td>\n",
       "      <td>NaN</td>\n",
       "      <td>8.407</td>\n",
       "      <td>0.005</td>\n",
       "      <td>NaN</td>\n",
       "      <td>NaN</td>\n",
       "    </tr>\n",
       "    <tr>\n",
       "      <th>10</th>\n",
       "      <td>GY Sge</td>\n",
       "      <td>0.346</td>\n",
       "      <td>NaN</td>\n",
       "      <td>NaN</td>\n",
       "      <td>NaN</td>\n",
       "      <td>NaN</td>\n",
       "      <td>NaN</td>\n",
       "      <td>NaN</td>\n",
       "      <td>NaN</td>\n",
       "    </tr>\n",
       "    <tr>\n",
       "      <th>21</th>\n",
       "      <td>DL Cas</td>\n",
       "      <td>0.581</td>\n",
       "      <td>NaN</td>\n",
       "      <td>NaN</td>\n",
       "      <td>NaN</td>\n",
       "      <td>NaN</td>\n",
       "      <td>NaN</td>\n",
       "      <td>NaN</td>\n",
       "      <td>NaN</td>\n",
       "    </tr>\n",
       "    <tr>\n",
       "      <th>23</th>\n",
       "      <td>CE Cas B</td>\n",
       "      <td>0.331</td>\n",
       "      <td>NaN</td>\n",
       "      <td>NaN</td>\n",
       "      <td>NaN</td>\n",
       "      <td>NaN</td>\n",
       "      <td>NaN</td>\n",
       "      <td>NaN</td>\n",
       "      <td>NaN</td>\n",
       "    </tr>\n",
       "    <tr>\n",
       "      <th>26</th>\n",
       "      <td>V367 Sct</td>\n",
       "      <td>0.470</td>\n",
       "      <td>NaN</td>\n",
       "      <td>NaN</td>\n",
       "      <td>NaN</td>\n",
       "      <td>NaN</td>\n",
       "      <td>NaN</td>\n",
       "      <td>NaN</td>\n",
       "      <td>NaN</td>\n",
       "    </tr>\n",
       "    <tr>\n",
       "      <th>39</th>\n",
       "      <td>CF Cas</td>\n",
       "      <td>0.315</td>\n",
       "      <td>NaN</td>\n",
       "      <td>NaN</td>\n",
       "      <td>NaN</td>\n",
       "      <td>NaN</td>\n",
       "      <td>NaN</td>\n",
       "      <td>NaN</td>\n",
       "      <td>NaN</td>\n",
       "    </tr>\n",
       "    <tr>\n",
       "      <th>43</th>\n",
       "      <td>CE Cas A</td>\n",
       "      <td>0.331</td>\n",
       "      <td>NaN</td>\n",
       "      <td>NaN</td>\n",
       "      <td>NaN</td>\n",
       "      <td>NaN</td>\n",
       "      <td>NaN</td>\n",
       "      <td>NaN</td>\n",
       "      <td>NaN</td>\n",
       "    </tr>\n",
       "    <tr>\n",
       "      <th>46</th>\n",
       "      <td>S Vul</td>\n",
       "      <td>0.231</td>\n",
       "      <td>NaN</td>\n",
       "      <td>NaN</td>\n",
       "      <td>NaN</td>\n",
       "      <td>NaN</td>\n",
       "      <td>NaN</td>\n",
       "      <td>NaN</td>\n",
       "      <td>NaN</td>\n",
       "    </tr>\n",
       "    <tr>\n",
       "      <th>62</th>\n",
       "      <td>delta Cep</td>\n",
       "      <td>3.556</td>\n",
       "      <td>0.730</td>\n",
       "      <td>4.684</td>\n",
       "      <td>0.018</td>\n",
       "      <td>3.990</td>\n",
       "      <td>0.012</td>\n",
       "      <td>NaN</td>\n",
       "      <td>NaN</td>\n",
       "    </tr>\n",
       "  </tbody>\n",
       "</table>\n",
       "</div>"
      ],
      "text/plain": [
       "      Star_ID  parallax_mas   logP  mag_B  err_B  mag_V  err_V  mag_I  err_I\n",
       "2      TW Nor         0.362    NaN    NaN    NaN    NaN    NaN    NaN    NaN\n",
       "9    V340 Nor         0.490  1.053    NaN    NaN  8.407  0.005    NaN    NaN\n",
       "10     GY Sge         0.346    NaN    NaN    NaN    NaN    NaN    NaN    NaN\n",
       "21     DL Cas         0.581    NaN    NaN    NaN    NaN    NaN    NaN    NaN\n",
       "23   CE Cas B         0.331    NaN    NaN    NaN    NaN    NaN    NaN    NaN\n",
       "26   V367 Sct         0.470    NaN    NaN    NaN    NaN    NaN    NaN    NaN\n",
       "39     CF Cas         0.315    NaN    NaN    NaN    NaN    NaN    NaN    NaN\n",
       "43   CE Cas A         0.331    NaN    NaN    NaN    NaN    NaN    NaN    NaN\n",
       "46      S Vul         0.231    NaN    NaN    NaN    NaN    NaN    NaN    NaN\n",
       "62  delta Cep         3.556  0.730  4.684  0.018  3.990  0.012    NaN    NaN"
      ]
     },
     "execution_count": 62,
     "metadata": {},
     "output_type": "execute_result"
    }
   ],
   "source": [
    "cepheids_df[cepheids_df.isna().any(axis=1)]"
   ]
  },
  {
   "cell_type": "markdown",
   "metadata": {},
   "source": [
    "So we've still got the two stars that were just missing some of the photometric data in `optical_df` -- `delta Cep` and `TW Nor`, but now we've got some extra stars that don't have any photometric data. We'll keep them all in for now and tidy things up once we've finished merging."
   ]
  },
  {
   "cell_type": "markdown",
   "metadata": {},
   "source": [
    "(ex-merging)=\n",
    "```{admonition} Exercise: Add in the reddening columns\n",
    ":class: practice\n",
    "\n",
    "Use `pd.merge()` again to add the columns from `reddening_df` to the `cepheids_df` dataframe. Check what the new dataframe looks like and if there is any missing data.\n",
    "\n",
    "**Hint:** You can run `merge` so that the resulting dataframe overwrites one of your existing ones. You don't have to create a new dataframe.\n",
    "\n",
    "[solution](soln_merging.ipynb)\n",
    "```\n",
    "\n"
   ]
  },
  {
   "cell_type": "markdown",
   "metadata": {},
   "source": [
    "You should now have a dataframe called `cepheids_df` that looks something like this:\n"
   ]
  },
  {
   "cell_type": "code",
   "execution_count": 63,
   "metadata": {
    "tags": [
     "remove-cell"
    ]
   },
   "outputs": [],
   "source": [
    "cepheids_df = pd.merge(left=cepheids_df, right=reddenings_df, on='Star_ID', how='outer')\n"
   ]
  },
  {
   "cell_type": "code",
   "execution_count": 64,
   "metadata": {
    "execution": {
     "iopub.execute_input": "2021-03-18T00:33:39.102728Z",
     "iopub.status.busy": "2021-03-18T00:33:39.101848Z",
     "iopub.status.idle": "2021-03-18T00:33:39.105139Z",
     "shell.execute_reply": "2021-03-18T00:33:39.105624Z"
    }
   },
   "outputs": [
    {
     "data": {
      "text/html": [
       "<div>\n",
       "<style scoped>\n",
       "    .dataframe tbody tr th:only-of-type {\n",
       "        vertical-align: middle;\n",
       "    }\n",
       "\n",
       "    .dataframe tbody tr th {\n",
       "        vertical-align: top;\n",
       "    }\n",
       "\n",
       "    .dataframe thead th {\n",
       "        text-align: right;\n",
       "    }\n",
       "</style>\n",
       "<table border=\"1\" class=\"dataframe\">\n",
       "  <thead>\n",
       "    <tr style=\"text-align: right;\">\n",
       "      <th></th>\n",
       "      <th>Star_ID</th>\n",
       "      <th>parallax_mas</th>\n",
       "      <th>logP</th>\n",
       "      <th>mag_B</th>\n",
       "      <th>err_B</th>\n",
       "      <th>mag_V</th>\n",
       "      <th>err_V</th>\n",
       "      <th>mag_I</th>\n",
       "      <th>err_I</th>\n",
       "      <th>E_B_V</th>\n",
       "      <th>A_V</th>\n",
       "    </tr>\n",
       "  </thead>\n",
       "  <tbody>\n",
       "    <tr>\n",
       "      <th>0</th>\n",
       "      <td>XX Cen</td>\n",
       "      <td>0.564</td>\n",
       "      <td>1.040</td>\n",
       "      <td>8.882</td>\n",
       "      <td>0.019</td>\n",
       "      <td>7.855</td>\n",
       "      <td>0.012</td>\n",
       "      <td>6.754</td>\n",
       "      <td>0.008</td>\n",
       "      <td>0.5223</td>\n",
       "      <td>1.6191</td>\n",
       "    </tr>\n",
       "    <tr>\n",
       "      <th>1</th>\n",
       "      <td>T Mon</td>\n",
       "      <td>0.733</td>\n",
       "      <td>1.432</td>\n",
       "      <td>7.436</td>\n",
       "      <td>0.022</td>\n",
       "      <td>6.187</td>\n",
       "      <td>0.014</td>\n",
       "      <td>5.005</td>\n",
       "      <td>0.010</td>\n",
       "      <td>0.5997</td>\n",
       "      <td>1.8590</td>\n",
       "    </tr>\n",
       "    <tr>\n",
       "      <th>2</th>\n",
       "      <td>TW Nor</td>\n",
       "      <td>0.362</td>\n",
       "      <td>NaN</td>\n",
       "      <td>NaN</td>\n",
       "      <td>NaN</td>\n",
       "      <td>NaN</td>\n",
       "      <td>NaN</td>\n",
       "      <td>NaN</td>\n",
       "      <td>NaN</td>\n",
       "      <td>NaN</td>\n",
       "      <td>NaN</td>\n",
       "    </tr>\n",
       "    <tr>\n",
       "      <th>3</th>\n",
       "      <td>CV Mon</td>\n",
       "      <td>0.602</td>\n",
       "      <td>0.731</td>\n",
       "      <td>11.681</td>\n",
       "      <td>0.015</td>\n",
       "      <td>10.314</td>\n",
       "      <td>0.010</td>\n",
       "      <td>8.653</td>\n",
       "      <td>0.006</td>\n",
       "      <td>1.4373</td>\n",
       "      <td>4.4556</td>\n",
       "    </tr>\n",
       "    <tr>\n",
       "      <th>4</th>\n",
       "      <td>RY Sco</td>\n",
       "      <td>0.754</td>\n",
       "      <td>1.308</td>\n",
       "      <td>9.568</td>\n",
       "      <td>0.018</td>\n",
       "      <td>8.037</td>\n",
       "      <td>0.012</td>\n",
       "      <td>6.271</td>\n",
       "      <td>0.008</td>\n",
       "      <td>1.2228</td>\n",
       "      <td>3.7907</td>\n",
       "    </tr>\n",
       "    <tr>\n",
       "      <th>...</th>\n",
       "      <td>...</td>\n",
       "      <td>...</td>\n",
       "      <td>...</td>\n",
       "      <td>...</td>\n",
       "      <td>...</td>\n",
       "      <td>...</td>\n",
       "      <td>...</td>\n",
       "      <td>...</td>\n",
       "      <td>...</td>\n",
       "      <td>...</td>\n",
       "      <td>...</td>\n",
       "    </tr>\n",
       "    <tr>\n",
       "      <th>62</th>\n",
       "      <td>delta Cep</td>\n",
       "      <td>3.556</td>\n",
       "      <td>0.730</td>\n",
       "      <td>4.684</td>\n",
       "      <td>0.018</td>\n",
       "      <td>3.990</td>\n",
       "      <td>0.012</td>\n",
       "      <td>NaN</td>\n",
       "      <td>NaN</td>\n",
       "      <td>1.4914</td>\n",
       "      <td>4.6233</td>\n",
       "    </tr>\n",
       "    <tr>\n",
       "      <th>63</th>\n",
       "      <td>U Aql</td>\n",
       "      <td>1.748</td>\n",
       "      <td>0.847</td>\n",
       "      <td>7.536</td>\n",
       "      <td>0.016</td>\n",
       "      <td>6.457</td>\n",
       "      <td>0.011</td>\n",
       "      <td>5.279</td>\n",
       "      <td>0.007</td>\n",
       "      <td>0.3334</td>\n",
       "      <td>1.0337</td>\n",
       "    </tr>\n",
       "    <tr>\n",
       "      <th>64</th>\n",
       "      <td>eta Aql</td>\n",
       "      <td>3.674</td>\n",
       "      <td>0.856</td>\n",
       "      <td>4.744</td>\n",
       "      <td>0.017</td>\n",
       "      <td>3.918</td>\n",
       "      <td>0.011</td>\n",
       "      <td>3.036</td>\n",
       "      <td>0.007</td>\n",
       "      <td>0.1936</td>\n",
       "      <td>0.6001</td>\n",
       "    </tr>\n",
       "    <tr>\n",
       "      <th>65</th>\n",
       "      <td>RT Aur</td>\n",
       "      <td>1.841</td>\n",
       "      <td>0.571</td>\n",
       "      <td>6.120</td>\n",
       "      <td>0.017</td>\n",
       "      <td>5.487</td>\n",
       "      <td>0.011</td>\n",
       "      <td>4.822</td>\n",
       "      <td>0.006</td>\n",
       "      <td>0.1844</td>\n",
       "      <td>0.5717</td>\n",
       "    </tr>\n",
       "    <tr>\n",
       "      <th>66</th>\n",
       "      <td>SU Cru</td>\n",
       "      <td>0.211</td>\n",
       "      <td>1.109</td>\n",
       "      <td>11.613</td>\n",
       "      <td>0.015</td>\n",
       "      <td>9.802</td>\n",
       "      <td>0.008</td>\n",
       "      <td>7.658</td>\n",
       "      <td>0.003</td>\n",
       "      <td>NaN</td>\n",
       "      <td>NaN</td>\n",
       "    </tr>\n",
       "  </tbody>\n",
       "</table>\n",
       "<p>67 rows × 11 columns</p>\n",
       "</div>"
      ],
      "text/plain": [
       "      Star_ID  parallax_mas   logP   mag_B  err_B   mag_V  err_V  mag_I  \\\n",
       "0      XX Cen         0.564  1.040   8.882  0.019   7.855  0.012  6.754   \n",
       "1       T Mon         0.733  1.432   7.436  0.022   6.187  0.014  5.005   \n",
       "2      TW Nor         0.362    NaN     NaN    NaN     NaN    NaN    NaN   \n",
       "3      CV Mon         0.602  0.731  11.681  0.015  10.314  0.010  8.653   \n",
       "4      RY Sco         0.754  1.308   9.568  0.018   8.037  0.012  6.271   \n",
       "..        ...           ...    ...     ...    ...     ...    ...    ...   \n",
       "62  delta Cep         3.556  0.730   4.684  0.018   3.990  0.012    NaN   \n",
       "63      U Aql         1.748  0.847   7.536  0.016   6.457  0.011  5.279   \n",
       "64    eta Aql         3.674  0.856   4.744  0.017   3.918  0.011  3.036   \n",
       "65     RT Aur         1.841  0.571   6.120  0.017   5.487  0.011  4.822   \n",
       "66     SU Cru         0.211  1.109  11.613  0.015   9.802  0.008  7.658   \n",
       "\n",
       "    err_I   E_B_V     A_V  \n",
       "0   0.008  0.5223  1.6191  \n",
       "1   0.010  0.5997  1.8590  \n",
       "2     NaN     NaN     NaN  \n",
       "3   0.006  1.4373  4.4556  \n",
       "4   0.008  1.2228  3.7907  \n",
       "..    ...     ...     ...  \n",
       "62    NaN  1.4914  4.6233  \n",
       "63  0.007  0.3334  1.0337  \n",
       "64  0.007  0.1936  0.6001  \n",
       "65  0.006  0.1844  0.5717  \n",
       "66  0.003     NaN     NaN  \n",
       "\n",
       "[67 rows x 11 columns]"
      ]
     },
     "execution_count": 64,
     "metadata": {},
     "output_type": "execute_result"
    }
   ],
   "source": [
    "cepheids_df"
   ]
  },
  {
   "cell_type": "markdown",
   "metadata": {},
   "source": [
    "## Saving the data to a file\n",
    "\n",
    "Now we have our nicely matched dataframe, we don't want to have to do all these steps every time we want to analyse the data. We can save the dataframe to a csv file using `pd.to_csv()`.\n",
    "\n",
    "This works in a very similar way to `pd.read_csv()`. There are a few arguments that we won't have used for `read_csv` that we'll want to use now.\n"
   ]
  },
  {
   "cell_type": "markdown",
   "metadata": {},
   "source": [
    "```{admonition} Slow down!\n",
    ":class: warning\n",
    "The following text is an explanation of the options. Don't try to run each line separately. We'll be putting it together at the end. \n",
    "```\n"
   ]
  },
  {
   "cell_type": "markdown",
   "metadata": {},
   "source": [
    "\n",
    "Firstly, `index`:\n",
    "```py \n",
    "index=False\n",
    "```\n",
    "`index` is the number you see in bold in the leftmost column when you display a dataframe. It's handy when you want to select a row while you're working with the data in `pandas`, but we don't need to save it to the file. **Note:** There may be times that you *do* want to write the index to the file, like if you wrote a script that had the index values it needed to use hard-coded, but generally you don't need them in the output file.\n",
    "\n",
    "Second, `float_format`:\n",
    "```py\n",
    "float_format='%.4f'\n",
    "```\n",
    "This tells `to_csv` how to format the numbers in the output file. `float_format='%.4f'` means 4 decimal places. If you don't set anything for `float_format` it will print *all* the decimal places. Sometimes that's what you want it to do, but it's more likely that you want to preserve the precision you have in your dataframe without all the noise that comes from your computer rounding `floats`.\n",
    "\n",
    "Next, `na_rep`:\n",
    "```py\n",
    "na_rep = 'NaN'\n",
    "```\n",
    "This tells it to print missing data as `NaN` in the file. If you don't set it it will just print nothing (which can be OK...) but it's better to print something so when you come back to the file later you know that it's actually missing data, not just that you've accidentally deleted something from the file. \n",
    "\n",
    "Let's save `cepheids_df` to a file called `big_cepheids_table.csv`. Save it somewhere sensible! (For example, your `data` folder...)"
   ]
  },
  {
   "cell_type": "markdown",
   "metadata": {
    "tags": [
     "remove-cell"
    ]
   },
   "source": [
    "Finally, `sep` is the equivalent of `delimiter` in `read_csv`. The default is `sep=','` (i.e. comma separated variables) but you can change it to whatever you want. I find it easiest to leave it as the default so I don't have to remember what I used when I'm reading the file back in."
   ]
  },
  {
   "cell_type": "code",
   "execution_count": 65,
   "metadata": {
    "execution": {
     "iopub.execute_input": "2021-03-18T00:33:39.110386Z",
     "iopub.status.busy": "2021-03-18T00:33:39.109687Z",
     "iopub.status.idle": "2021-03-18T00:33:39.116528Z",
     "shell.execute_reply": "2021-03-18T00:33:39.115928Z"
    }
   },
   "outputs": [],
   "source": [
    "cepheids_df.to_csv('./data/big_cepheids_table.csv', index=False, float_format='%.4f', na_rep='NaN')"
   ]
  },
  {
   "cell_type": "markdown",
   "metadata": {},
   "source": [
    "Now we have our data safe and sound we can go and have a cup of tea and come back to this later."
   ]
  },
  {
   "cell_type": "markdown",
   "metadata": {
    "slideshow": {
     "slide_type": "slide"
    }
   },
   "source": [
    "## Key Points\n",
    "- Use `pd.merge()` to combine dataframes\n",
    "- There are different ways `how` you can join your dataframes:\n",
    "  - `outer` keeps all the rows and fills missing data with `NaN`s\n",
    "  - `inner` only keeps the rows where the reference value appears in both frames\n",
    "  - `left` and `right` keep the rows from the reference frame and fill the missing data with `NaN`s\n",
    "- Save a dataframe to a file with `pd.to_csv()`"
   ]
  },
  {
   "cell_type": "code",
   "execution_count": null,
   "metadata": {},
   "outputs": [],
   "source": []
  }
 ],
 "metadata": {
  "celltoolbar": "Slideshow",
  "kernelspec": {
   "display_name": "Python 3",
   "language": "python",
   "name": "python3"
  },
  "language_info": {
   "codemirror_mode": {
    "name": "ipython",
    "version": 3
   },
   "file_extension": ".py",
   "mimetype": "text/x-python",
   "name": "python",
   "nbconvert_exporter": "python",
   "pygments_lexer": "ipython3",
   "version": "3.8.15"
  }
 },
 "nbformat": 4,
 "nbformat_minor": 2
}
