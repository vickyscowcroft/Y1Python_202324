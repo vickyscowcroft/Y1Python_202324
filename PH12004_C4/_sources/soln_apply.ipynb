{
 "cells": [
  {
   "cell_type": "code",
   "execution_count": 5,
   "metadata": {
    "tags": [
     "remove-cell"
    ]
   },
   "outputs": [],
   "source": [
    "%config InlineBackend.figure_format = 'retina'\n",
    "%matplotlib inline\n",
    "\n",
    "import numpy as np\n",
    "import pandas as pd\n",
    "\n",
    "cepheids_df = pd.read_csv('./data/before_apply.csv')"
   ]
  },
  {
   "cell_type": "markdown",
   "metadata": {},
   "source": [
    "## Solution: Use `apply` to find the $B$ and $I$ absolute magnitudes\n"
   ]
  },
  {
   "cell_type": "code",
   "execution_count": 6,
   "metadata": {
    "tags": [
     "remove-cell"
    ]
   },
   "outputs": [],
   "source": [
    "def dist_mod(distance):\n",
    "    mu = 5.*np.log10(distance) - 5.\n",
    "    return(mu)\n",
    "\n",
    "def abs_mag(app_mag, extinction, mu):\n",
    "    absolute_mag = app_mag - extinction - mu\n",
    "    return(absolute_mag)"
   ]
  },
  {
   "cell_type": "code",
   "execution_count": 7,
   "metadata": {},
   "outputs": [],
   "source": [
    "cepheids_df['B_abs'] = cepheids_df.apply(lambda x: abs_mag(x.mag_B, x.A_B, dist_mod(x.distance_pc)), axis=1)\n",
    "cepheids_df['I_abs'] = cepheids_df.apply(lambda x: abs_mag(x.mag_I, x.A_I, dist_mod(x.distance_pc)), axis=1)"
   ]
  },
  {
   "cell_type": "code",
   "execution_count": 8,
   "metadata": {},
   "outputs": [
    {
     "data": {
      "text/html": [
       "<div>\n",
       "<style scoped>\n",
       "    .dataframe tbody tr th:only-of-type {\n",
       "        vertical-align: middle;\n",
       "    }\n",
       "\n",
       "    .dataframe tbody tr th {\n",
       "        vertical-align: top;\n",
       "    }\n",
       "\n",
       "    .dataframe thead th {\n",
       "        text-align: right;\n",
       "    }\n",
       "</style>\n",
       "<table border=\"1\" class=\"dataframe\">\n",
       "  <thead>\n",
       "    <tr style=\"text-align: right;\">\n",
       "      <th></th>\n",
       "      <th>Star_ID</th>\n",
       "      <th>parallax_mas</th>\n",
       "      <th>logP</th>\n",
       "      <th>mag_B</th>\n",
       "      <th>err_B</th>\n",
       "      <th>mag_V</th>\n",
       "      <th>err_V</th>\n",
       "      <th>mag_I</th>\n",
       "      <th>err_I</th>\n",
       "      <th>E_B_V</th>\n",
       "      <th>A_V</th>\n",
       "      <th>distance_pc</th>\n",
       "      <th>A_B</th>\n",
       "      <th>A_I</th>\n",
       "      <th>V_abs</th>\n",
       "      <th>B_abs</th>\n",
       "      <th>I_abs</th>\n",
       "    </tr>\n",
       "  </thead>\n",
       "  <tbody>\n",
       "    <tr>\n",
       "      <th>0</th>\n",
       "      <td>XX Cen</td>\n",
       "      <td>0.564</td>\n",
       "      <td>1.040</td>\n",
       "      <td>8.882</td>\n",
       "      <td>0.019</td>\n",
       "      <td>7.855</td>\n",
       "      <td>0.012</td>\n",
       "      <td>6.754</td>\n",
       "      <td>0.008</td>\n",
       "      <td>0.5223</td>\n",
       "      <td>1.6191</td>\n",
       "      <td>1773.049645</td>\n",
       "      <td>2.104885</td>\n",
       "      <td>0.964152</td>\n",
       "      <td>-5.007704</td>\n",
       "      <td>-4.466489</td>\n",
       "      <td>-5.453756</td>\n",
       "    </tr>\n",
       "    <tr>\n",
       "      <th>1</th>\n",
       "      <td>T Mon</td>\n",
       "      <td>0.733</td>\n",
       "      <td>1.432</td>\n",
       "      <td>7.436</td>\n",
       "      <td>0.022</td>\n",
       "      <td>6.187</td>\n",
       "      <td>0.014</td>\n",
       "      <td>5.005</td>\n",
       "      <td>0.010</td>\n",
       "      <td>0.5997</td>\n",
       "      <td>1.8590</td>\n",
       "      <td>1364.256480</td>\n",
       "      <td>2.416763</td>\n",
       "      <td>1.107009</td>\n",
       "      <td>-6.346480</td>\n",
       "      <td>-5.655243</td>\n",
       "      <td>-6.776489</td>\n",
       "    </tr>\n",
       "    <tr>\n",
       "      <th>2</th>\n",
       "      <td>TW Nor</td>\n",
       "      <td>0.362</td>\n",
       "      <td>NaN</td>\n",
       "      <td>NaN</td>\n",
       "      <td>NaN</td>\n",
       "      <td>NaN</td>\n",
       "      <td>NaN</td>\n",
       "      <td>NaN</td>\n",
       "      <td>NaN</td>\n",
       "      <td>NaN</td>\n",
       "      <td>NaN</td>\n",
       "      <td>2762.430939</td>\n",
       "      <td>NaN</td>\n",
       "      <td>NaN</td>\n",
       "      <td>NaN</td>\n",
       "      <td>NaN</td>\n",
       "      <td>NaN</td>\n",
       "    </tr>\n",
       "    <tr>\n",
       "      <th>3</th>\n",
       "      <td>CV Mon</td>\n",
       "      <td>0.602</td>\n",
       "      <td>0.731</td>\n",
       "      <td>11.681</td>\n",
       "      <td>0.015</td>\n",
       "      <td>10.314</td>\n",
       "      <td>0.010</td>\n",
       "      <td>8.653</td>\n",
       "      <td>0.006</td>\n",
       "      <td>1.4373</td>\n",
       "      <td>4.4556</td>\n",
       "      <td>1661.129568</td>\n",
       "      <td>5.792430</td>\n",
       "      <td>2.653249</td>\n",
       "      <td>-5.243618</td>\n",
       "      <td>-5.213448</td>\n",
       "      <td>-5.102267</td>\n",
       "    </tr>\n",
       "    <tr>\n",
       "      <th>4</th>\n",
       "      <td>RY Sco</td>\n",
       "      <td>0.754</td>\n",
       "      <td>1.308</td>\n",
       "      <td>9.568</td>\n",
       "      <td>0.018</td>\n",
       "      <td>8.037</td>\n",
       "      <td>0.012</td>\n",
       "      <td>6.271</td>\n",
       "      <td>0.008</td>\n",
       "      <td>1.2228</td>\n",
       "      <td>3.7907</td>\n",
       "      <td>1326.259947</td>\n",
       "      <td>4.928038</td>\n",
       "      <td>2.257310</td>\n",
       "      <td>-6.366843</td>\n",
       "      <td>-5.973181</td>\n",
       "      <td>-6.599453</td>\n",
       "    </tr>\n",
       "  </tbody>\n",
       "</table>\n",
       "</div>"
      ],
      "text/plain": [
       "  Star_ID  parallax_mas   logP   mag_B  err_B   mag_V  err_V  mag_I  err_I  \\\n",
       "0  XX Cen         0.564  1.040   8.882  0.019   7.855  0.012  6.754  0.008   \n",
       "1   T Mon         0.733  1.432   7.436  0.022   6.187  0.014  5.005  0.010   \n",
       "2  TW Nor         0.362    NaN     NaN    NaN     NaN    NaN    NaN    NaN   \n",
       "3  CV Mon         0.602  0.731  11.681  0.015  10.314  0.010  8.653  0.006   \n",
       "4  RY Sco         0.754  1.308   9.568  0.018   8.037  0.012  6.271  0.008   \n",
       "\n",
       "    E_B_V     A_V  distance_pc       A_B       A_I     V_abs     B_abs  \\\n",
       "0  0.5223  1.6191  1773.049645  2.104885  0.964152 -5.007704 -4.466489   \n",
       "1  0.5997  1.8590  1364.256480  2.416763  1.107009 -6.346480 -5.655243   \n",
       "2     NaN     NaN  2762.430939       NaN       NaN       NaN       NaN   \n",
       "3  1.4373  4.4556  1661.129568  5.792430  2.653249 -5.243618 -5.213448   \n",
       "4  1.2228  3.7907  1326.259947  4.928038  2.257310 -6.366843 -5.973181   \n",
       "\n",
       "      I_abs  \n",
       "0 -5.453756  \n",
       "1 -6.776489  \n",
       "2       NaN  \n",
       "3 -5.102267  \n",
       "4 -6.599453  "
      ]
     },
     "execution_count": 8,
     "metadata": {},
     "output_type": "execute_result"
    }
   ],
   "source": [
    "cepheids_df.head()"
   ]
  },
  {
   "cell_type": "markdown",
   "metadata": {},
   "source": [
    "[back to the worksheets](ex-apply)"
   ]
  },
  {
   "cell_type": "markdown",
   "metadata": {},
   "source": []
  },
  {
   "cell_type": "markdown",
   "metadata": {},
   "source": []
  }
 ],
 "metadata": {
  "kernelspec": {
   "display_name": "teaching_stable",
   "language": "python",
   "name": "python3"
  },
  "language_info": {
   "codemirror_mode": {
    "name": "ipython",
    "version": 3
   },
   "file_extension": ".py",
   "mimetype": "text/x-python",
   "name": "python",
   "nbconvert_exporter": "python",
   "pygments_lexer": "ipython3",
   "version": "3.8.15"
  }
 },
 "nbformat": 4,
 "nbformat_minor": 2
}
