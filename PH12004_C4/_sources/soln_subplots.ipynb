{
 "cells": [
  {
   "cell_type": "markdown",
   "metadata": {},
   "source": [
    "## Solution: Subplots\n",
    "\n",
    "You should end up with a figure that looks something like this:\n",
    "\n",
    "\n",
    "```{image} images/two_PLs.jpg\n",
    ":alt: two plots of magnitude as a function of period displayed side by side. \n",
    ":width: 800px\n",
    ":align: center\n",
    "```\n"
   ]
  },
  {
   "cell_type": "markdown",
   "metadata": {},
   "source": [
    "[back to the worksheets](ex-subplots)"
   ]
  },
  {
   "cell_type": "markdown",
   "metadata": {},
   "source": []
  }
 ],
 "metadata": {
  "language_info": {
   "name": "python"
  }
 },
 "nbformat": 4,
 "nbformat_minor": 2
}
